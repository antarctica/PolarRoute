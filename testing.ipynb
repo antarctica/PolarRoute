{
 "cells": [
  {
   "cell_type": "markdown",
   "id": "94abafd2",
   "metadata": {},
   "source": [
    "# Set up config variables"
   ]
  },
  {
   "cell_type": "code",
   "execution_count": 1,
   "id": "0202239f",
   "metadata": {},
   "outputs": [],
   "source": [
    "import json"
   ]
  },
  {
   "cell_type": "code",
   "execution_count": 2,
   "id": "65c28249",
   "metadata": {},
   "outputs": [],
   "source": [
    "path = \"\"\n",
    "with open(path, 'r') as f:\n",
    "        regression_mesh_config = json.load(f)\n",
    "\n",
    "config = regression_mesh_config['config']"
   ]
  },
  {
   "cell_type": "code",
   "execution_count": 3,
   "id": "9131dad7",
   "metadata": {},
   "outputs": [
    {
     "data": {
      "text/plain": [
       "{'Mesh_info': {'Region': {'latMin': -65,\n",
       "   'latMax': -60,\n",
       "   'longMin': -70,\n",
       "   'longMax': -50,\n",
       "   'startTime': '2019-01-01',\n",
       "   'endTime': '2019-01-14',\n",
       "   'cellWidth': 5,\n",
       "   'cellHeight': 2.5}}}"
      ]
     },
     "execution_count": 3,
     "metadata": {},
     "output_type": "execute_result"
    }
   ],
   "source": [
    "latMin = config['Mesh_info']['Region']['latMin']  \n",
    "latMax = config['Mesh_info']['Region']['latMax'] \n",
    "longMin = config['Mesh_info']['Region']['longMin']\n",
    "longMax = config['Mesh_info']['Region']['longMax']\n",
    "startTime = config['Mesh_info']['Region']['startTime']\n",
    "endTime = config['Mesh_info']['Region']['endTime']\n",
    "cellWidth = config['Mesh_info']['Region']['cellWidth']\n",
    "cellHeight = config['Mesh_info']['Region']['cellHeight']\n",
    "\n",
    "config"
   ]
  },
  {
   "cell_type": "markdown",
   "id": "c8fc3889",
   "metadata": {
    "tags": []
   },
   "source": [
    "### Generate empty mesh, just with config data"
   ]
  },
  {
   "cell_type": "code",
   "execution_count": 4,
   "id": "8e7fdef3",
   "metadata": {},
   "outputs": [
    {
     "ename": "ImportError",
     "evalue": "dlopen(/Users/ayat/BAS/bas-venv/lib/python3.10/site-packages/pyproj/_network.cpython-310-darwin.so, 2): Symbol not found: ____chkstk_darwin\n  Referenced from: /Users/ayat/BAS/bas-venv/lib/python3.10/site-packages/pyproj/.dylibs/libtiff.5.dylib (which was built for Mac OS X 11.0)\n  Expected in: /usr/lib/libSystem.B.dylib\n in /Users/ayat/BAS/bas-venv/lib/python3.10/site-packages/pyproj/.dylibs/libtiff.5.dylib",
     "output_type": "error",
     "traceback": [
      "\u001b[0;31m---------------------------------------------------------------------------\u001b[0m",
      "\u001b[0;31mImportError\u001b[0m                               Traceback (most recent call last)",
      "Cell \u001b[0;32mIn [4], line 1\u001b[0m\n\u001b[0;32m----> 1\u001b[0m \u001b[38;5;28;01mfrom\u001b[39;00m \u001b[38;5;21;01mpolar_route\u001b[39;00m\u001b[38;5;21;01m.\u001b[39;00m\u001b[38;5;21;01mmesh\u001b[39;00m \u001b[38;5;28;01mimport\u001b[39;00m Mesh\n\u001b[1;32m      3\u001b[0m demo_mesh \u001b[38;5;241m=\u001b[39m Mesh(config)\n",
      "File \u001b[0;32m~/BAS/bas-venv/lib/python3.10/site-packages/polar_route/mesh.py:28\u001b[0m\n\u001b[1;32m     26\u001b[0m \u001b[38;5;28;01mfrom\u001b[39;00m \u001b[38;5;21;01mmatplotlib\u001b[39;00m\u001b[38;5;21;01m.\u001b[39;00m\u001b[38;5;21;01mpatches\u001b[39;00m \u001b[38;5;28;01mimport\u001b[39;00m Polygon \u001b[38;5;28;01mas\u001b[39;00m MatplotPolygon\n\u001b[1;32m     27\u001b[0m \u001b[38;5;28;01mfrom\u001b[39;00m \u001b[38;5;21;01mpolar_route\u001b[39;00m\u001b[38;5;21;01m.\u001b[39;00m\u001b[38;5;21;01mcellbox\u001b[39;00m \u001b[38;5;28;01mimport\u001b[39;00m CellBox\n\u001b[0;32m---> 28\u001b[0m \u001b[38;5;28;01mimport\u001b[39;00m \u001b[38;5;21;01mpolar_route\u001b[39;00m\u001b[38;5;21;01m.\u001b[39;00m\u001b[38;5;21;01mdata_loaders\u001b[39;00m \u001b[38;5;28;01mas\u001b[39;00m \u001b[38;5;21;01mdata_loader\u001b[39;00m\n\u001b[1;32m     31\u001b[0m \u001b[38;5;28;01mclass\u001b[39;00m \u001b[38;5;21;01mMesh\u001b[39;00m:\n\u001b[1;32m     32\u001b[0m     \u001b[38;5;124;03m\"\"\"\u001b[39;00m\n\u001b[1;32m     33\u001b[0m \u001b[38;5;124;03m        Attributes:\u001b[39;00m\n\u001b[1;32m     34\u001b[0m \u001b[38;5;124;03m            cellboxes (list<(CellBox)>): A list of CellBox objects forming the Mesh\u001b[39;00m\n\u001b[0;32m   (...)\u001b[0m\n\u001b[1;32m     57\u001b[0m \u001b[38;5;124;03m               }\u001b[39;00m\n\u001b[1;32m     58\u001b[0m \u001b[38;5;124;03m    \"\"\"\u001b[39;00m\n",
      "File \u001b[0;32m~/BAS/bas-venv/lib/python3.10/site-packages/polar_route/data_loaders.py:23\u001b[0m\n\u001b[1;32m     20\u001b[0m \u001b[38;5;28;01mimport\u001b[39;00m \u001b[38;5;21;01mpandas\u001b[39;00m \u001b[38;5;28;01mas\u001b[39;00m \u001b[38;5;21;01mpd\u001b[39;00m\n\u001b[1;32m     21\u001b[0m \u001b[38;5;28;01mimport\u001b[39;00m \u001b[38;5;21;01mnumpy\u001b[39;00m \u001b[38;5;28;01mas\u001b[39;00m \u001b[38;5;21;01mnp\u001b[39;00m\n\u001b[0;32m---> 23\u001b[0m \u001b[38;5;28;01mfrom\u001b[39;00m \u001b[38;5;21;01mpyproj\u001b[39;00m \u001b[38;5;28;01mimport\u001b[39;00m Transformer\n\u001b[1;32m     24\u001b[0m \u001b[38;5;28;01mfrom\u001b[39;00m \u001b[38;5;21;01mpyproj\u001b[39;00m \u001b[38;5;28;01mimport\u001b[39;00m CRS\n\u001b[1;32m     26\u001b[0m \u001b[38;5;28;01mfrom\u001b[39;00m \u001b[38;5;21;01mpolar_route\u001b[39;00m\u001b[38;5;21;01m.\u001b[39;00m\u001b[38;5;21;01mutils\u001b[39;00m \u001b[38;5;28;01mimport\u001b[39;00m date_range, timed_call\n",
      "File \u001b[0;32m~/BAS/bas-venv/lib/python3.10/site-packages/pyproj/__init__.py:34\u001b[0m\n\u001b[1;32m     31\u001b[0m \u001b[38;5;28;01mimport\u001b[39;00m \u001b[38;5;21;01mimportlib\u001b[39;00m\u001b[38;5;21;01m.\u001b[39;00m\u001b[38;5;21;01mmetadata\u001b[39;00m\n\u001b[1;32m     32\u001b[0m \u001b[38;5;28;01mimport\u001b[39;00m \u001b[38;5;21;01mwarnings\u001b[39;00m\n\u001b[0;32m---> 34\u001b[0m \u001b[38;5;28;01mimport\u001b[39;00m \u001b[38;5;21;01mpyproj\u001b[39;00m\u001b[38;5;21;01m.\u001b[39;00m\u001b[38;5;21;01mnetwork\u001b[39;00m\n\u001b[1;32m     35\u001b[0m \u001b[38;5;28;01mfrom\u001b[39;00m \u001b[38;5;21;01mpyproj\u001b[39;00m\u001b[38;5;21;01m.\u001b[39;00m\u001b[38;5;21;01m_datadir\u001b[39;00m \u001b[38;5;28;01mimport\u001b[39;00m (  \u001b[38;5;66;03m# noqa: F401 pylint: disable=unused-import\u001b[39;00m\n\u001b[1;32m     36\u001b[0m     _pyproj_global_context_initialize,\n\u001b[1;32m     37\u001b[0m     set_use_global_context,\n\u001b[1;32m     38\u001b[0m )\n\u001b[1;32m     39\u001b[0m \u001b[38;5;28;01mfrom\u001b[39;00m \u001b[38;5;21;01mpyproj\u001b[39;00m\u001b[38;5;21;01m.\u001b[39;00m\u001b[38;5;21;01m_show_versions\u001b[39;00m \u001b[38;5;28;01mimport\u001b[39;00m (  \u001b[38;5;66;03m# noqa: F401 pylint: disable=unused-import\u001b[39;00m\n\u001b[1;32m     40\u001b[0m     show_versions,\n\u001b[1;32m     41\u001b[0m )\n",
      "File \u001b[0;32m~/BAS/bas-venv/lib/python3.10/site-packages/pyproj/network.py:10\u001b[0m\n\u001b[1;32m      6\u001b[0m \u001b[38;5;28;01mfrom\u001b[39;00m \u001b[38;5;21;01mtyping\u001b[39;00m \u001b[38;5;28;01mimport\u001b[39;00m Union\n\u001b[1;32m      8\u001b[0m \u001b[38;5;28;01mimport\u001b[39;00m \u001b[38;5;21;01mcertifi\u001b[39;00m\n\u001b[0;32m---> 10\u001b[0m \u001b[38;5;28;01mfrom\u001b[39;00m \u001b[38;5;21;01mpyproj\u001b[39;00m\u001b[38;5;21;01m.\u001b[39;00m\u001b[38;5;21;01m_network\u001b[39;00m \u001b[38;5;28;01mimport\u001b[39;00m (  \u001b[38;5;66;03m# noqa: F401 pylint: disable=unused-import\u001b[39;00m\n\u001b[1;32m     11\u001b[0m     _set_ca_bundle_path,\n\u001b[1;32m     12\u001b[0m     is_network_enabled,\n\u001b[1;32m     13\u001b[0m     set_network_enabled,\n\u001b[1;32m     14\u001b[0m )\n\u001b[1;32m     17\u001b[0m \u001b[38;5;28;01mdef\u001b[39;00m \u001b[38;5;21mset_ca_bundle_path\u001b[39m(ca_bundle_path: Union[Path, \u001b[38;5;28mstr\u001b[39m, \u001b[38;5;28mbool\u001b[39m, \u001b[38;5;28;01mNone\u001b[39;00m] \u001b[38;5;241m=\u001b[39m \u001b[38;5;28;01mNone\u001b[39;00m) \u001b[38;5;241m-\u001b[39m\u001b[38;5;241m>\u001b[39m \u001b[38;5;28;01mNone\u001b[39;00m:\n\u001b[1;32m     18\u001b[0m     \u001b[38;5;124;03m\"\"\"\u001b[39;00m\n\u001b[1;32m     19\u001b[0m \u001b[38;5;124;03m    .. versionadded:: 3.0.0\u001b[39;00m\n\u001b[1;32m     20\u001b[0m \n\u001b[0;32m   (...)\u001b[0m\n\u001b[1;32m     40\u001b[0m \u001b[38;5;124;03m        variables.\u001b[39;00m\n\u001b[1;32m     41\u001b[0m \u001b[38;5;124;03m    \"\"\"\u001b[39;00m\n",
      "\u001b[0;31mImportError\u001b[0m: dlopen(/Users/ayat/BAS/bas-venv/lib/python3.10/site-packages/pyproj/_network.cpython-310-darwin.so, 2): Symbol not found: ____chkstk_darwin\n  Referenced from: /Users/ayat/BAS/bas-venv/lib/python3.10/site-packages/pyproj/.dylibs/libtiff.5.dylib (which was built for Mac OS X 11.0)\n  Expected in: /usr/lib/libSystem.B.dylib\n in /Users/ayat/BAS/bas-venv/lib/python3.10/site-packages/pyproj/.dylibs/libtiff.5.dylib"
     ]
    }
   ],
   "source": [
    "from polar_route.mesh import Mesh\n",
    "import polar_route.data_loaders as data_loader\n",
    "\n",
    "regression_mesh = Mesh(config)"
   ]
  },
  {
   "cell_type": "markdown",
   "id": "8b98d88e",
   "metadata": {},
   "source": [
    "# Use Data Loaders for each data type"
   ]
  },
  {
   "cell_type": "code",
   "execution_count": 6,
   "id": "e4477e48",
   "metadata": {},
   "outputs": [
    {
     "ename": "NameError",
     "evalue": "name 'data_loader' is not defined",
     "output_type": "error",
     "traceback": [
      "\u001b[0;31m---------------------------------------------------------------------------\u001b[0m",
      "\u001b[0;31mNameError\u001b[0m                                 Traceback (most recent call last)",
      "Cell \u001b[0;32mIn [6], line 1\u001b[0m\n\u001b[0;32m----> 1\u001b[0m gebco_loader \u001b[38;5;241m=\u001b[39m \u001b[38;5;28mgetattr\u001b[39m(\u001b[43mdata_loader\u001b[49m, \u001b[38;5;124m\"\u001b[39m\u001b[38;5;124mload_gebco\u001b[39m\u001b[38;5;124m\"\u001b[39m)\n\u001b[1;32m      2\u001b[0m params \u001b[38;5;241m=\u001b[39m \u001b[38;5;28mdict\u001b[39m()\n\u001b[1;32m      3\u001b[0m params[\u001b[38;5;124m'\u001b[39m\u001b[38;5;124mfile\u001b[39m\u001b[38;5;124m'\u001b[39m] \u001b[38;5;241m=\u001b[39m \u001b[38;5;124m'\u001b[39m\u001b[38;5;124m./DEPLOYMENT/datastore/bathymetry/GEBCO/gebco_2022_n-40.0_s-90.0_w-140.0_e0.0.nc\u001b[39m\u001b[38;5;124m'\u001b[39m\n",
      "\u001b[0;31mNameError\u001b[0m: name 'data_loader' is not defined"
     ]
    }
   ],
   "source": [
    "gebco_loader = getattr(data_loader, \"load_gebco\")\n",
    "data_source = config['Mesh_info']['Data_sources'][0]\n",
    "params = data_source['params']\n",
    "#params['file'] = '../../../BAS/PolarRoute/datastore/bathymetry/GEBCO/gebco_2022_n-40.0_s-90.0_w-140.0_e0.0.nc'\n",
    "\n",
    "\n",
    "bathymetry_datapoints = gebco_loader(params, longMin,longMax,latMin,latMax,startTime,endTime)"
   ]
  },
  {
   "cell_type": "code",
   "execution_count": 1,
   "id": "9a6b1396",
   "metadata": {},
   "outputs": [
    {
     "ename": "NameError",
     "evalue": "name 'bathymetry_datapoints' is not defined",
     "output_type": "error",
     "traceback": [
      "\u001b[0;31m---------------------------------------------------------------------------\u001b[0m",
      "\u001b[0;31mNameError\u001b[0m                                 Traceback (most recent call last)",
      "Cell \u001b[0;32mIn [1], line 1\u001b[0m\n\u001b[0;32m----> 1\u001b[0m \u001b[43mbathymetry_datapoints\u001b[49m\n",
      "\u001b[0;31mNameError\u001b[0m: name 'bathymetry_datapoints' is not defined"
     ]
    }
   ],
   "source": [
    "bathymetry_datapoints[0]"
   ]
  },
  {
   "cell_type": "markdown",
   "id": "5478698d",
   "metadata": {},
   "source": [
    "### Add datapoints to the mesh"
   ]
  },
  {
   "cell_type": "code",
   "execution_count": 2,
   "id": "319806cd",
   "metadata": {},
   "outputs": [
    {
     "ename": "NameError",
     "evalue": "name 'demo_mesh' is not defined",
     "output_type": "error",
     "traceback": [
      "\u001b[0;31m---------------------------------------------------------------------------\u001b[0m",
      "\u001b[0;31mNameError\u001b[0m                                 Traceback (most recent call last)",
      "Cell \u001b[0;32mIn [2], line 1\u001b[0m\n\u001b[0;32m----> 1\u001b[0m \u001b[43mdemo_mesh\u001b[49m\u001b[38;5;241m.\u001b[39madd_data_points(sic_datapoints)\n\u001b[1;32m      2\u001b[0m demo_mesh\u001b[38;5;241m.\u001b[39madd_data_points(bathymetry_datapoints)\n\u001b[1;32m      3\u001b[0m demo_mesh\u001b[38;5;241m.\u001b[39madd_data_points(current_datapoints)\n",
      "\u001b[0;31mNameError\u001b[0m: name 'demo_mesh' is not defined"
     ]
    }
   ],
   "source": [
    "\n",
    "regression_mesh.add_data_points(bathymetry_datapoints)"
   ]
  },
  {
   "cell_type": "markdown",
   "id": "975532e6",
   "metadata": {},
   "source": [
    "# Adjust methods of binning"
   ]
  },
  {
   "cell_type": "markdown",
   "id": "67bceafe",
   "metadata": {},
   "source": [
    "Can be mean, max, min, std, etc... (some not implemented). Default is mean"
   ]
  },
  {
   "cell_type": "markdown",
   "id": "7683aa63",
   "metadata": {},
   "source": [
    "e.g. For each cell, mean elevation is not as important as maximum elevation (ship could crash if not using max), so set MAX to be the output type for each cellbox"
   ]
  },
  {
   "cell_type": "code",
   "execution_count": 3,
   "id": "0261a59b",
   "metadata": {},
   "outputs": [
    {
     "ename": "NameError",
     "evalue": "name 'json' is not defined",
     "output_type": "error",
     "traceback": [
      "\u001b[0;31m---------------------------------------------------------------------------\u001b[0m",
      "\u001b[0;31mNameError\u001b[0m                                 Traceback (most recent call last)",
      "Cell \u001b[0;32mIn [3], line 2\u001b[0m\n\u001b[1;32m      1\u001b[0m value_output_type \u001b[38;5;241m=\u001b[39m \u001b[38;5;124m'\u001b[39m\u001b[38;5;124m{\u001b[39m\u001b[38;5;124m\"\u001b[39m\u001b[38;5;124melevation\u001b[39m\u001b[38;5;124m\"\u001b[39m\u001b[38;5;124m: \u001b[39m\u001b[38;5;124m\"\u001b[39m\u001b[38;5;124mMAX\u001b[39m\u001b[38;5;124m\"\u001b[39m\u001b[38;5;124m}\u001b[39m\u001b[38;5;124m'\u001b[39m\n\u001b[0;32m----> 2\u001b[0m value_output_type \u001b[38;5;241m=\u001b[39m \u001b[43mjson\u001b[49m\u001b[38;5;241m.\u001b[39mloads(value_output_type)\n",
      "\u001b[0;31mNameError\u001b[0m: name 'json' is not defined"
     ]
    }
   ],
   "source": [
    "value_output_type = '{\"elevation\": \"MAX\"}'\n",
    "value_output_type = json.loads(value_output_type)"
   ]
  },
  {
   "cell_type": "markdown",
   "id": "dcc7c4bb",
   "metadata": {},
   "source": [
    "### Set data source if no datapoints remain after splitting"
   ]
  },
  {
   "cell_type": "markdown",
   "id": "9824981a",
   "metadata": {},
   "source": [
    "Can also be set to static value"
   ]
  },
  {
   "cell_type": "markdown",
   "id": "adab10ac",
   "metadata": {},
   "source": [
    "e.g. If cellbox is split, and no datapoints remain, will default to NaN, which breaks code. 'parent' sets value to be same as parent cellbox if splitting and no datapoints remain. "
   ]
  },
  {
   "cell_type": "code",
   "execution_count": 4,
   "id": "b5bb04ac",
   "metadata": {},
   "outputs": [
    {
     "ename": "NameError",
     "evalue": "name 'json' is not defined",
     "output_type": "error",
     "traceback": [
      "\u001b[0;31m---------------------------------------------------------------------------\u001b[0m",
      "\u001b[0;31mNameError\u001b[0m                                 Traceback (most recent call last)",
      "Cell \u001b[0;32mIn [4], line 2\u001b[0m\n\u001b[1;32m      1\u001b[0m value_fill_type \u001b[38;5;241m=\u001b[39m \u001b[38;5;124m'\u001b[39m\u001b[38;5;132;01m{}\u001b[39;00m\u001b[38;5;124m'\u001b[39m\n\u001b[0;32m----> 2\u001b[0m value_fill_type \u001b[38;5;241m=\u001b[39m \u001b[43mjson\u001b[49m\u001b[38;5;241m.\u001b[39mloads(value_fill_type)\n\u001b[1;32m      3\u001b[0m value_fill_type[\u001b[38;5;124m'\u001b[39m\u001b[38;5;124mSIC\u001b[39m\u001b[38;5;124m'\u001b[39m] \u001b[38;5;241m=\u001b[39m \u001b[38;5;124m'\u001b[39m\u001b[38;5;124mparent\u001b[39m\u001b[38;5;124m'\u001b[39m\n\u001b[1;32m      4\u001b[0m value_fill_type[\u001b[38;5;124m'\u001b[39m\u001b[38;5;124muC\u001b[39m\u001b[38;5;124m'\u001b[39m] \u001b[38;5;241m=\u001b[39m \u001b[38;5;124m'\u001b[39m\u001b[38;5;124mparent\u001b[39m\u001b[38;5;124m'\u001b[39m\n",
      "\u001b[0;31mNameError\u001b[0m: name 'json' is not defined"
     ]
    }
   ],
   "source": [
    "value_fill_type = '{}'\n",
    "value_fill_type = json.loads(value_fill_type)\n",
    "value_fill_type['SIC'] = 'parent'\n",
    "value_fill_type['uC'] = 'parent'\n",
    "value_fill_type['vC'] = 'parent'\n",
    "value_fill_type['thickness'] = 'parent'\n",
    "value_fill_type['density'] = 'parent'\n",
    "value_fill_type"
   ]
  },
  {
   "cell_type": "markdown",
   "id": "5a347e00",
   "metadata": {},
   "source": [
    "# Set cellbox behaviour metadata"
   ]
  },
  {
   "cell_type": "markdown",
   "id": "779b987e",
   "metadata": {},
   "source": [
    "5Setting output_type and fill_type first, as splitting operations will depend on these"
   ]
  },
  {
   "cell_type": "code",
   "execution_count": 5,
   "id": "5a84f49b",
   "metadata": {},
   "outputs": [
    {
     "ename": "ModuleNotFoundError",
     "evalue": "No module named 'polar_route'",
     "output_type": "error",
     "traceback": [
      "\u001b[0;31m---------------------------------------------------------------------------\u001b[0m",
      "\u001b[0;31mModuleNotFoundError\u001b[0m                       Traceback (most recent call last)",
      "Cell \u001b[0;32mIn [5], line 1\u001b[0m\n\u001b[0;32m----> 1\u001b[0m \u001b[38;5;28;01mfrom\u001b[39;00m \u001b[38;5;21;01mpolar_route\u001b[39;00m\u001b[38;5;21;01m.\u001b[39;00m\u001b[38;5;21;01mcellbox\u001b[39;00m \u001b[38;5;28;01mimport\u001b[39;00m CellBox\n\u001b[1;32m      3\u001b[0m \u001b[38;5;28;01mfor\u001b[39;00m cellbox \u001b[38;5;129;01min\u001b[39;00m demo_mesh\u001b[38;5;241m.\u001b[39mcellboxes:\n\u001b[1;32m      4\u001b[0m     \u001b[38;5;28;01mif\u001b[39;00m \u001b[38;5;28misinstance\u001b[39m(cellbox, CellBox):\n",
      "\u001b[0;31mModuleNotFoundError\u001b[0m: No module named 'polar_route'"
     ]
    }
   ],
   "source": [
    "from polar_route.cellbox import CellBox\n",
    "\n",
    "for cellbox in regression_mesh.cellboxes:\n",
    "    if isinstance(cellbox, CellBox):\n",
    "        cellbox.add_value_output_type(value_output_type)\n",
    "        cellbox.set_value_fill_types(value_fill_type)\n",
    "        "
   ]
  },
  {
   "cell_type": "markdown",
   "id": "94f5efb8",
   "metadata": {},
   "source": [
    "### Split based on each variable's extreme conditions"
   ]
  },
  {
   "cell_type": "code",
   "execution_count": 6,
   "id": "a195073a",
   "metadata": {},
   "outputs": [
    {
     "ename": "NameError",
     "evalue": "name 'json' is not defined",
     "output_type": "error",
     "traceback": [
      "\u001b[0;31m---------------------------------------------------------------------------\u001b[0m",
      "\u001b[0;31mNameError\u001b[0m                                 Traceback (most recent call last)",
      "Cell \u001b[0;32mIn [6], line 2\u001b[0m\n\u001b[1;32m      1\u001b[0m splitting_condition \u001b[38;5;241m=\u001b[39m \u001b[38;5;124m'\u001b[39m\u001b[38;5;124m{\u001b[39m\u001b[38;5;124m\"\u001b[39m\u001b[38;5;124melevation\u001b[39m\u001b[38;5;124m\"\u001b[39m\u001b[38;5;124m:\u001b[39m\u001b[38;5;124m{\u001b[39m\u001b[38;5;124m\"\u001b[39m\u001b[38;5;124mthreshold\u001b[39m\u001b[38;5;124m\"\u001b[39m\u001b[38;5;124m:-10,\u001b[39m\u001b[38;5;124m\"\u001b[39m\u001b[38;5;124mupperBound\u001b[39m\u001b[38;5;124m\"\u001b[39m\u001b[38;5;124m: 1,\u001b[39m\u001b[38;5;124m\"\u001b[39m\u001b[38;5;124mlowerBound\u001b[39m\u001b[38;5;124m\"\u001b[39m\u001b[38;5;124m:0}}\u001b[39m\u001b[38;5;124m'\u001b[39m\n\u001b[0;32m----> 2\u001b[0m splitting_condition \u001b[38;5;241m=\u001b[39m \u001b[43mjson\u001b[49m\u001b[38;5;241m.\u001b[39mloads(splitting_condition)\n\u001b[1;32m      5\u001b[0m \u001b[38;5;28;01mfor\u001b[39;00m cellbox \u001b[38;5;129;01min\u001b[39;00m demo_mesh\u001b[38;5;241m.\u001b[39mcellboxes:\n\u001b[1;32m      6\u001b[0m     \u001b[38;5;28;01mif\u001b[39;00m \u001b[38;5;28misinstance\u001b[39m(cellbox, CellBox):\n",
      "\u001b[0;31mNameError\u001b[0m: name 'json' is not defined"
     ]
    }
   ],
   "source": [
    "splitting_condition = config['Mesh_info']['splitting']['splitting_conditions'][0]\n",
    "splitting_condition = json.loads(splitting_condition)\n",
    "\n",
    "\n",
    "for cellbox in regression_mesh.cellboxes:\n",
    "    if isinstance(cellbox, CellBox):\n",
    "        cellbox.add_splitting_condition(splitting_condition)\n",
    "\n",
    "split_depth =  config['Mesh_info']['splitting']['split_depth']       \n",
    "regression_mesh.split_to_depth(4)"
   ]
  },
  {
   "cell_type": "markdown",
   "id": "50eab394",
   "metadata": {},
   "source": [
    "# Generate output from cellbox creation"
   ]
  },
  {
   "cell_type": "markdown",
   "id": "fa3b0c0f",
   "metadata": {},
   "source": [
    "Saved as JSON"
   ]
  },
  {
   "cell_type": "code",
   "execution_count": 8,
   "id": "998e6942",
   "metadata": {
    "scrolled": true
   },
   "outputs": [
    {
     "ename": "NameError",
     "evalue": "name 'demo_mesh' is not defined",
     "output_type": "error",
     "traceback": [
      "\u001b[0;31m---------------------------------------------------------------------------\u001b[0m",
      "\u001b[0;31mNameError\u001b[0m                                 Traceback (most recent call last)",
      "Cell \u001b[0;32mIn [8], line 1\u001b[0m\n\u001b[0;32m----> 1\u001b[0m demo_output \u001b[38;5;241m=\u001b[39m \u001b[43mdemo_mesh\u001b[49m\u001b[38;5;241m.\u001b[39mto_json()\n",
      "\u001b[0;31mNameError\u001b[0m: name 'demo_mesh' is not defined"
     ]
    }
   ],
   "source": [
    "demo_output = regression_mesh.to_json()"
   ]
  },
  {
   "cell_type": "markdown",
   "id": "2d32d83a",
   "metadata": {},
   "source": [
    "# Plot"
   ]
  },
  {
   "cell_type": "markdown",
   "id": "f3e5eefb",
   "metadata": {},
   "source": [
    "Read in JSON output, plot each layer by type"
   ]
  },
  {
   "cell_type": "code",
   "execution_count": null,
   "id": "bf154710",
   "metadata": {},
   "outputs": [],
   "source": []
  },
  {
   "cell_type": "code",
   "execution_count": null,
   "id": "1c160829",
   "metadata": {},
   "outputs": [],
   "source": []
  },
  {
   "cell_type": "code",
   "execution_count": null,
   "id": "5c9c2ce7",
   "metadata": {},
   "outputs": [],
   "source": []
  },
  {
   "cell_type": "code",
   "execution_count": null,
   "id": "a3a8d13d",
   "metadata": {},
   "outputs": [],
   "source": []
  },
  {
   "cell_type": "code",
   "execution_count": null,
   "id": "2c259191",
   "metadata": {},
   "outputs": [],
   "source": []
  }
 ],
 "metadata": {
  "kernelspec": {
   "display_name": "Python 3.10.7 ('bas-venv': venv)",
   "language": "python",
   "name": "python3"
  },
  "language_info": {
   "codemirror_mode": {
    "name": "ipython",
    "version": 3
   },
   "file_extension": ".py",
   "mimetype": "text/x-python",
   "name": "python",
   "nbconvert_exporter": "python",
   "pygments_lexer": "ipython3",
   "version": "3.10.7"
  },
  "vscode": {
   "interpreter": {
    "hash": "c8fba1ffa775ba6a75c177156d59df19b5e381b9824b65d03b0b7229e38ad593"
   }
  }
 },
 "nbformat": 4,
 "nbformat_minor": 5
}
