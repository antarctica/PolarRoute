{
 "cells": [
  {
   "cell_type": "code",
   "execution_count": 1,
   "id": "6e35e96f-5bf0-4a0a-9ac6-189ef6e55318",
   "metadata": {},
   "outputs": [],
   "source": [
    "import netCDF4 as nc\n",
    "import datetime\n",
    "\n",
    "HOST = '/Users/jonsmi/OneDrive - NERC/Documents/BAS_RoutePlanner/Jan_2022/Jan_10th_Development/RoutePlanner/resources/'\n",
    "\n",
    "iceDataPath     = '{}/bsose_i122_2013to2017_1day_SeaIceArea.nc'.format(HOST)\n",
    "currentDataPath = '{}/SOSE_surface_velocity_6yearMean_2005-2010.nc'.format(HOST)\n",
    "\n",
    "ds = nc.Dataset(iceDataPath)"
   ]
  },
  {
   "cell_type": "code",
   "execution_count": 2,
   "id": "f0b31fd1-6f04-4d69-8bcb-ffabd85e8934",
   "metadata": {},
   "outputs": [
    {
     "name": "stdout",
     "output_type": "stream",
     "text": [
      "2014-05-31\n"
     ]
    }
   ],
   "source": [
    "timeindx = 515\n",
    "time = ds['time'][timeindx]\n",
    "epoch = datetime.datetime(2012, 12, 1)\n",
    "time = epoch + datetime.timedelta(0, int(time))\n",
    "\n",
    "print(time.strftime(\"%Y-%m-%d\"))\n"
   ]
  },
  {
   "cell_type": "code",
   "execution_count": 3,
   "id": "8262282d-ccea-4601-a59c-545f30860865",
   "metadata": {},
   "outputs": [],
   "source": [
    "class IcePoint:\n",
    "    def __init__(self, time, long, lat, iceArea, depth):\n",
    "        self.time = time\n",
    "        self.long = long\n",
    "        self.lat = lat\n",
    "        self.iceArea = iceArea\n",
    "        self.depth = depth\n",
    "        \n",
    "    def toJSON(self):\n",
    "        s = \"{\"\n",
    "        s += \"\\\"time\\\": \\\"\" + str(self.time) + \"\\\",\"\n",
    "        s += \"\\\"long\\\":\" + str(self.long) + \",\"\n",
    "        s += \"\\\"lat\\\":\" + str(self.lat) + \",\"\n",
    "        s += \"\\\"iceArea\\\":\" + str(self.iceArea) + \",\"\n",
    "        s += \"\\\"depth\\\":\" + str(self.depth)\n",
    "        s += \"}\"\n",
    "        return s"
   ]
  },
  {
   "cell_type": "code",
   "execution_count": 4,
   "id": "e5bf8b9e-f5a5-4d06-b7de-fa5f4883a80f",
   "metadata": {},
   "outputs": [],
   "source": [
    "#Constructs list of IcePoint objects for a single frame, specifed by 'timeindx'\n",
    "\n",
    "timeindx = 515 #Set timeindx to select which day to generate data for.\n",
    "\n",
    "\n",
    "longindx = 0\n",
    "latindx = 0\n",
    "\n",
    "epoch = datetime.datetime(2012, 12, 1)\n",
    "icePoints = []\n",
    "\n",
    "for longindx in range(len(ds['XC'])):\n",
    "    for latindx in range(len(ds['YC'])):\n",
    "        \n",
    "        # read icePoint from datesouce ds.\n",
    "        time = ds['time'][timeindx]\n",
    "        time = epoch + datetime.timedelta(0, int(time)) # convert to datetime\n",
    "        long = ds['XC'][longindx]\n",
    "        lat = ds['YC'][latindx]\n",
    "        iceArea = ds['SIarea'][timeindx, latindx, longindx]\n",
    "        depth = ds['Depth'][latindx, longindx]\n",
    "        \n",
    "        #TODO change to better represent missing values\n",
    "        if str(iceArea) == \"nan\":\n",
    "            iceArea = 0\n",
    "        \n",
    "        \n",
    "        # create IcePoint object\n",
    "        icePoint = IcePoint(time, long, lat, iceArea, depth)\n",
    "        # append to list of all icePoints\n",
    "        icePoints.append(icePoint)\n",
    "\n",
    "print(\"Done\")"
   ]
  },
  {
   "cell_type": "code",
   "execution_count": 29,
   "id": "5b94e7c5-d38d-40ab-84c3-ae6e456be7ea",
   "metadata": {},
   "outputs": [
    {
     "name": "stdout",
     "output_type": "stream",
     "text": [
      "Done\n"
     ]
    }
   ],
   "source": [
    "#construct json from list of icepoints\n",
    "json = \"{ \\\"icepoints\\\":[\"\n",
    "\n",
    "for icepoint in icePoints:\n",
    "    json += icepoint.toJSON() + \",\\n\"\n",
    "    \n",
    "json = json[:-2] # remove last comma and newline\n",
    "json += \"]}\"\n",
    "print(\"Done\")"
   ]
  },
  {
   "cell_type": "code",
   "execution_count": 30,
   "id": "2fae481f-2a00-4b51-a1fe-57b02ef9bb31",
   "metadata": {},
   "outputs": [],
   "source": [
    "#Format time\n",
    "time = ds['time'][timeindx]\n",
    "epoch = datetime.datetime(2012, 12, 1)\n",
    "time = epoch + datetime.timedelta(0, int(time))\n",
    "time = time.strftime(\"%Y-%m-%d\")\n",
    "\n",
    "#Write list of icepoints to json.\n",
    "filename = \"../resouces/icepoints\" + time + \".json\"\n",
    "f = open(filename, \"x\")\n",
    "f.write(json)\n",
    "f.close()"
   ]
  }
 ],
 "metadata": {
  "kernelspec": {
   "display_name": "Python 3 (ipykernel)",
   "language": "python",
   "name": "python3"
  },
  "language_info": {
   "codemirror_mode": {
    "name": "ipython",
    "version": 3
   },
   "file_extension": ".py",
   "mimetype": "text/x-python",
   "name": "python",
   "nbconvert_exporter": "python",
   "pygments_lexer": "ipython3",
   "version": "3.9.5"
  }
 },
 "nbformat": 4,
 "nbformat_minor": 5
}
