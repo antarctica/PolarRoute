{
 "cells": [
  {
   "cell_type": "code",
   "execution_count": 2,
   "id": "6e35e96f-5bf0-4a0a-9ac6-189ef6e55318",
   "metadata": {},
   "outputs": [],
   "source": [
    "import netCDF4 as nc\n",
    "import datetime\n",
    "\n",
    "HOST = '/Users/jonsmi/OneDrive - NERC/Documents/BAS_RoutePlanner/Jan_2022/Jan_10th_Development/RoutePlanner/resources/'\n",
    "\n",
    "iceDataPath     = '{}/bsose_i122_2013to2017_1day_SeaIceArea.nc'.format(HOST)\n",
    "currentDataPath = '{}/SOSE_surface_velocity_6yearMean_2005-2010.nc'.format(HOST)\n",
    "\n",
    "ds = nc.Dataset(iceDataPath)"
   ]
  },
  {
   "cell_type": "code",
   "execution_count": 3,
   "id": "f0b31fd1-6f04-4d69-8bcb-ffabd85e8934",
   "metadata": {},
   "outputs": [
    {
     "name": "stdout",
     "output_type": "stream",
     "text": [
      "2014-05-31\n"
     ]
    }
   ],
   "source": [
    "timeindx = 515\n",
    "time = ds['time'][timeindx]\n",
    "epoch = datetime.datetime(2012, 12, 1)\n",
    "time = epoch + datetime.timedelta(0, int(time))\n",
    "\n",
    "print(time.strftime(\"%Y-%m-%d\"))\n"
   ]
  },
  {
   "cell_type": "code",
   "execution_count": 5,
   "id": "8262282d-ccea-4601-a59c-545f30860865",
   "metadata": {},
   "outputs": [],
   "source": [
    "class IcePoint:\n",
    "    def __init__(self, time, long, lat, iceArea, depth):\n",
    "        self.time = time\n",
    "        self.long = long\n",
    "        self.lat = lat\n",
    "        self.iceArea = iceArea\n",
    "        self.depth = depth\n",
    "        \n",
    "    def toJSON(self):\n",
    "        s = \"{\"\n",
    "        s += \"\\\"time\\\": \\\"\" + str(self.time) + \"\\\",\"\n",
    "        s += \"\\\"long\\\":\" + str(self.long) + \",\"\n",
    "        s += \"\\\"lat\\\":\" + str(self.lat) + \",\"\n",
    "        s += \"\\\"iceArea\\\":\" + str(self.iceArea) + \",\"\n",
    "        s += \"\\\"depth\\\":\" + str(self.depth)\n",
    "        s += \"}\"\n",
    "        return s\n",
    "    \n",
    "    def to_dict(self):\n",
    "        return {\n",
    "            'time': self.time,\n",
    "            'long': self.long,\n",
    "            'lat': self.lat,\n",
    "            'iceArea': self.iceArea,\n",
    "            'depth' : self.depth,\n",
    "        }"
   ]
  },
  {
   "cell_type": "code",
   "execution_count": 6,
   "id": "e5bf8b9e-f5a5-4d06-b7de-fa5f4883a80f",
   "metadata": {},
   "outputs": [
    {
     "ename": "KeyboardInterrupt",
     "evalue": "",
     "output_type": "error",
     "traceback": [
      "\u001b[1;31m---------------------------------------------------------------------------\u001b[0m",
      "\u001b[1;31mKeyboardInterrupt\u001b[0m                         Traceback (most recent call last)",
      "\u001b[1;32m~\\AppData\\Local\\Temp/ipykernel_16856/3916903453.py\u001b[0m in \u001b[0;36m<module>\u001b[1;34m\u001b[0m\n\u001b[0;32m     18\u001b[0m         \u001b[0mlong\u001b[0m \u001b[1;33m=\u001b[0m \u001b[0mds\u001b[0m\u001b[1;33m[\u001b[0m\u001b[1;34m'XC'\u001b[0m\u001b[1;33m]\u001b[0m\u001b[1;33m[\u001b[0m\u001b[0mlongindx\u001b[0m\u001b[1;33m]\u001b[0m\u001b[1;33m\u001b[0m\u001b[1;33m\u001b[0m\u001b[0m\n\u001b[0;32m     19\u001b[0m         \u001b[0mlat\u001b[0m \u001b[1;33m=\u001b[0m \u001b[0mds\u001b[0m\u001b[1;33m[\u001b[0m\u001b[1;34m'YC'\u001b[0m\u001b[1;33m]\u001b[0m\u001b[1;33m[\u001b[0m\u001b[0mlatindx\u001b[0m\u001b[1;33m]\u001b[0m\u001b[1;33m\u001b[0m\u001b[1;33m\u001b[0m\u001b[0m\n\u001b[1;32m---> 20\u001b[1;33m         \u001b[0miceArea\u001b[0m \u001b[1;33m=\u001b[0m \u001b[0mds\u001b[0m\u001b[1;33m[\u001b[0m\u001b[1;34m'SIarea'\u001b[0m\u001b[1;33m]\u001b[0m\u001b[1;33m[\u001b[0m\u001b[0mtimeindx\u001b[0m\u001b[1;33m,\u001b[0m \u001b[0mlatindx\u001b[0m\u001b[1;33m,\u001b[0m \u001b[0mlongindx\u001b[0m\u001b[1;33m]\u001b[0m\u001b[1;33m\u001b[0m\u001b[1;33m\u001b[0m\u001b[0m\n\u001b[0m\u001b[0;32m     21\u001b[0m         \u001b[0mdepth\u001b[0m \u001b[1;33m=\u001b[0m \u001b[0mds\u001b[0m\u001b[1;33m[\u001b[0m\u001b[1;34m'Depth'\u001b[0m\u001b[1;33m]\u001b[0m\u001b[1;33m[\u001b[0m\u001b[0mlatindx\u001b[0m\u001b[1;33m,\u001b[0m \u001b[0mlongindx\u001b[0m\u001b[1;33m]\u001b[0m\u001b[1;33m\u001b[0m\u001b[1;33m\u001b[0m\u001b[0m\n\u001b[0;32m     22\u001b[0m \u001b[1;33m\u001b[0m\u001b[0m\n",
      "\u001b[1;32msrc\\netCDF4\\_netCDF4.pyx\u001b[0m in \u001b[0;36mnetCDF4._netCDF4.Variable.__getitem__\u001b[1;34m()\u001b[0m\n",
      "\u001b[1;32msrc\\netCDF4\\_netCDF4.pyx\u001b[0m in \u001b[0;36mnetCDF4._netCDF4.Variable.shape.__get__\u001b[1;34m()\u001b[0m\n",
      "\u001b[1;32m~\\Miniconda3\\lib\\site-packages\\netCDF4\\utils.py\u001b[0m in \u001b[0;36m_find_dim\u001b[1;34m(grp, dimname)\u001b[0m\n\u001b[0;32m     32\u001b[0m     \u001b[1;32mreturn\u001b[0m \u001b[1;33m[\u001b[0m\u001b[0mA\u001b[0m\u001b[1;33m[\u001b[0m\u001b[0mi\u001b[0m\u001b[1;33m]\u001b[0m \u001b[1;32mfor\u001b[0m \u001b[0mi\u001b[0m \u001b[1;32min\u001b[0m \u001b[0msorted\u001b[0m\u001b[1;33m(\u001b[0m\u001b[0mrange\u001b[0m\u001b[1;33m(\u001b[0m\u001b[0mlen\u001b[0m\u001b[1;33m(\u001b[0m\u001b[0mA\u001b[0m\u001b[1;33m)\u001b[0m\u001b[1;33m)\u001b[0m\u001b[1;33m,\u001b[0m \u001b[0mkey\u001b[0m\u001b[1;33m=\u001b[0m\u001b[0mB\u001b[0m\u001b[1;33m.\u001b[0m\u001b[0m__getitem__\u001b[0m\u001b[1;33m)\u001b[0m\u001b[1;33m]\u001b[0m\u001b[1;33m\u001b[0m\u001b[1;33m\u001b[0m\u001b[0m\n\u001b[0;32m     33\u001b[0m \u001b[1;33m\u001b[0m\u001b[0m\n\u001b[1;32m---> 34\u001b[1;33m \u001b[1;32mdef\u001b[0m \u001b[0m_find_dim\u001b[0m\u001b[1;33m(\u001b[0m\u001b[0mgrp\u001b[0m\u001b[1;33m,\u001b[0m \u001b[0mdimname\u001b[0m\u001b[1;33m)\u001b[0m\u001b[1;33m:\u001b[0m\u001b[1;33m\u001b[0m\u001b[1;33m\u001b[0m\u001b[0m\n\u001b[0m\u001b[0;32m     35\u001b[0m     \u001b[1;31m# find Dimension instance given group and name.\u001b[0m\u001b[1;33m\u001b[0m\u001b[1;33m\u001b[0m\u001b[1;33m\u001b[0m\u001b[0m\n\u001b[0;32m     36\u001b[0m     \u001b[1;31m# look in current group, and parents.\u001b[0m\u001b[1;33m\u001b[0m\u001b[1;33m\u001b[0m\u001b[1;33m\u001b[0m\u001b[0m\n",
      "\u001b[1;31mKeyboardInterrupt\u001b[0m: "
     ]
    }
   ],
   "source": [
    "#Constructs list of IcePoint objects for a single frame, specifed by 'timeindx'\n",
    "\n",
    "timeindx = 515 #Set timeindx to select which day to generate data for.\n",
    "\n",
    "\n",
    "longindx = 0\n",
    "latindx = 0\n",
    "\n",
    "epoch = datetime.datetime(2012, 12, 1)\n",
    "icePoints = []\n",
    "\n",
    "for longindx in range(len(ds['XC'])):\n",
    "    for latindx in range(len(ds['YC'])):\n",
    "        \n",
    "        # read icePoint from datesouce ds.\n",
    "        time = ds['time'][timeindx]\n",
    "        time = epoch + datetime.timedelta(0, int(time)) # convert to datetime\n",
    "        long = ds['XC'][longindx]\n",
    "        lat = ds['YC'][latindx]\n",
    "        iceArea = ds['SIarea'][timeindx, latindx, longindx]\n",
    "        depth = ds['Depth'][latindx, longindx]\n",
    "        \n",
    "        #TODO change to better represent missing values\n",
    "        if str(iceArea) == \"nan\":\n",
    "            iceArea = 0\n",
    "        \n",
    "        \n",
    "        # create IcePoint object\n",
    "        icePoint = IcePoint(time, long, lat, iceArea, depth)\n",
    "        # append to list of all icePoints\n",
    "        icePoints.append(icePoint)\n",
    "\n",
    "print(\"Done\")"
   ]
  },
  {
   "cell_type": "code",
   "execution_count": 29,
   "id": "5b94e7c5-d38d-40ab-84c3-ae6e456be7ea",
   "metadata": {},
   "outputs": [
    {
     "name": "stdout",
     "output_type": "stream",
     "text": [
      "Done\n"
     ]
    }
   ],
   "source": [
    "#construct json from list of icepoints\n",
    "json = \"{ \\\"icepoints\\\":[\"\n",
    "\n",
    "for icepoint in icePoints:\n",
    "    json += icepoint.toJSON() + \",\\n\"\n",
    "    \n",
    "json = json[:-2] # remove last comma and newline\n",
    "json += \"]}\"\n",
    "print(\"Done\")"
   ]
  },
  {
   "cell_type": "code",
   "execution_count": 30,
   "id": "2fae481f-2a00-4b51-a1fe-57b02ef9bb31",
   "metadata": {},
   "outputs": [],
   "source": [
    "#Format time\n",
    "time = ds['time'][timeindx]\n",
    "epoch = datetime.datetime(2012, 12, 1)\n",
    "time = epoch + datetime.timedelta(0, int(time))\n",
    "time = time.strftime(\"%Y-%m-%d\")\n",
    "\n",
    "#Write list of icepoints to json.\n",
    "filename = \"../resouces/icepoints\" + time + \".json\"\n",
    "f = open(filename, \"x\")\n",
    "f.write(json)\n",
    "f.close()"
   ]
  }
 ],
 "metadata": {
  "kernelspec": {
   "display_name": "Python 3 (ipykernel)",
   "language": "python",
   "name": "python3"
  },
  "language_info": {
   "codemirror_mode": {
    "name": "ipython",
    "version": 3
   },
   "file_extension": ".py",
   "mimetype": "text/x-python",
   "name": "python",
   "nbconvert_exporter": "python",
   "pygments_lexer": "ipython3",
   "version": "3.10.1"
  }
 },
 "nbformat": 4,
 "nbformat_minor": 5
}
