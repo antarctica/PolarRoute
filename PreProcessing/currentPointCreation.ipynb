{
 "cells": [
  {
   "cell_type": "code",
   "execution_count": 2,
   "id": "b34a10e0-c578-4458-a3b3-c47ec306a51e",
   "metadata": {},
   "outputs": [
    {
     "ename": "FileNotFoundError",
     "evalue": "[Errno 2] No such file or directory: b'/Users/jonsmi/OneDrive - NERC/Documents/BAS_RoutePlanner/Jan_2022/Jan_10th_Development/RoutePlanner/resources//SOSE_surface_velocity_6yearMean_2005-2010.nc'",
     "output_type": "error",
     "traceback": [
      "\u001b[1;31m---------------------------------------------------------------------------\u001b[0m",
      "\u001b[1;31mFileNotFoundError\u001b[0m                         Traceback (most recent call last)",
      "Input \u001b[1;32mIn [2]\u001b[0m, in \u001b[0;36m<module>\u001b[1;34m\u001b[0m\n\u001b[0;32m      5\u001b[0m iceDataPath     \u001b[38;5;241m=\u001b[39m \u001b[38;5;124m'\u001b[39m\u001b[38;5;132;01m{}\u001b[39;00m\u001b[38;5;124m/bsose_i122_2013to2017_1day_SeaIceArea.nc\u001b[39m\u001b[38;5;124m'\u001b[39m\u001b[38;5;241m.\u001b[39mformat(HOST)\n\u001b[0;32m      6\u001b[0m currentDataPath \u001b[38;5;241m=\u001b[39m \u001b[38;5;124m'\u001b[39m\u001b[38;5;132;01m{}\u001b[39;00m\u001b[38;5;124m/SOSE_surface_velocity_6yearMean_2005-2010.nc\u001b[39m\u001b[38;5;124m'\u001b[39m\u001b[38;5;241m.\u001b[39mformat(HOST)\n\u001b[1;32m----> 8\u001b[0m ds \u001b[38;5;241m=\u001b[39m \u001b[43mnc\u001b[49m\u001b[38;5;241;43m.\u001b[39;49m\u001b[43mDataset\u001b[49m\u001b[43m(\u001b[49m\u001b[43mcurrentDataPath\u001b[49m\u001b[43m)\u001b[49m\n",
      "File \u001b[1;32msrc\\netCDF4\\_netCDF4.pyx:2307\u001b[0m, in \u001b[0;36mnetCDF4._netCDF4.Dataset.__init__\u001b[1;34m()\u001b[0m\n",
      "File \u001b[1;32msrc\\netCDF4\\_netCDF4.pyx:1925\u001b[0m, in \u001b[0;36mnetCDF4._netCDF4._ensure_nc_success\u001b[1;34m()\u001b[0m\n",
      "\u001b[1;31mFileNotFoundError\u001b[0m: [Errno 2] No such file or directory: b'/Users/jonsmi/OneDrive - NERC/Documents/BAS_RoutePlanner/Jan_2022/Jan_10th_Development/RoutePlanner/resources//SOSE_surface_velocity_6yearMean_2005-2010.nc'"
     ]
    }
   ],
   "source": [
    "import netCDF4 as nc\n",
    "\n",
    "HOST = '/Users/jonsmi/OneDrive - NERC/Documents/BAS_RoutePlanner/Jan_2022/Jan_10th_Development/RoutePlanner/resources/'\n",
    "\n",
    "iceDataPath     = '{}/bsose_i122_2013to2017_1day_SeaIceArea.nc'.format(HOST)\n",
    "currentDataPath = '{}/SOSE_surface_velocity_6yearMean_2005-2010.nc'.format(HOST)\n",
    "\n",
    "ds = nc.Dataset(currentDataPath)"
   ]
  },
  {
   "cell_type": "code",
   "execution_count": 1,
   "id": "ddb49bd0-4515-492f-ad58-cc93f20b5b71",
   "metadata": {},
   "outputs": [
    {
     "ename": "NameError",
     "evalue": "name 'ds' is not defined",
     "output_type": "error",
     "traceback": [
      "\u001b[1;31m---------------------------------------------------------------------------\u001b[0m",
      "\u001b[1;31mNameError\u001b[0m                                 Traceback (most recent call last)",
      "Input \u001b[1;32mIn [1]\u001b[0m, in \u001b[0;36m<module>\u001b[1;34m\u001b[0m\n\u001b[1;32m----> 1\u001b[0m \u001b[38;5;28mprint\u001b[39m(\u001b[43mds\u001b[49m)\n",
      "\u001b[1;31mNameError\u001b[0m: name 'ds' is not defined"
     ]
    }
   ],
   "source": [
    "print(ds)"
   ]
  },
  {
   "cell_type": "code",
   "execution_count": 4,
   "id": "2895851d-3c7d-4c24-8e83-ef6d388f85e8",
   "metadata": {},
   "outputs": [],
   "source": [
    "class CurrentPoint:\n",
    "    def __init__(self, time, lat, long, uC, vC):\n",
    "        self.time = time\n",
    "        self.long = long\n",
    "        self.lat = lat\n",
    "        self.uC = uC\n",
    "        self.vC = vC\n",
    "        \n",
    "    def toJSON(self):\n",
    "        s = \"{\"\n",
    "        s += \"\\\"time\\\": \\\"\" + str(self.time) + \"\\\",\"\n",
    "        s += \"\\\"long\\\":\" + str(self.long) + \",\"\n",
    "        s += \"\\\"lat\\\":\" + str(self.lat) + \",\"\n",
    "        s += \"\\\"uC\\\":\" + str(self.uC) + \",\"\n",
    "        s += \"\\\"vC\\\":\" + str(self.vC)\n",
    "        s += \"}\"\n",
    "        return s"
   ]
  },
  {
   "cell_type": "code",
   "execution_count": 51,
   "id": "095432f3-8d12-4181-91b1-089337558070",
   "metadata": {},
   "outputs": [
    {
     "name": "stdout",
     "output_type": "stream",
     "text": [
      "Done\n"
     ]
    }
   ],
   "source": [
    "latRange = range(0,320)\n",
    "longRange = range(0, 2160)\n",
    "\n",
    "currentPoints = []\n",
    "time = \"\"\n",
    "\n",
    "for longindx in longRange:\n",
    "    for latindx in latRange:\n",
    "        long = ds['lon'][0, longindx]\n",
    "        lat = ds['lat'][latindx, 0]\n",
    "        uC = ds['uC'][latindx, longindx]\n",
    "        vC = ds['vC'][latindx, longindx]\n",
    "        \n",
    "        #TODO change to better represent missing values\n",
    "        if str(uC) == \"nan\":\n",
    "            uC = 0\n",
    "        if str(vC) == \"nan\":\n",
    "            vC = 0\n",
    "        \n",
    "        currentPoint = CurrentPoint(time, lat, long, uC, vC)\n",
    "        currentPoints.append(currentPoint)\n",
    "\n",
    "print(\"Done\")"
   ]
  },
  {
   "cell_type": "code",
   "execution_count": 52,
   "id": "ab46052c-b1b3-4287-9ca9-c234d89791da",
   "metadata": {},
   "outputs": [],
   "source": [
    "json = \"{ \\\"currentPoints\\\":[\"\n",
    "\n",
    "for currentPoint in currentPoints:\n",
    "    json += currentPoint.toJSON() + \",\\n\"\n",
    "    \n",
    "json = json[:-2] # remove last comma and newline\n",
    "json += \"]}\""
   ]
  },
  {
   "cell_type": "code",
   "execution_count": 53,
   "id": "007f6f45-6174-4fd5-8828-27672b9412cf",
   "metadata": {},
   "outputs": [],
   "source": [
    "filename = \"../resources/currentPoints.json\"\n",
    "f = open(filename, \"x\")\n",
    "f.write(json)\n",
    "f.close()"
   ]
  }
 ],
 "metadata": {
  "kernelspec": {
   "display_name": "Python 3 (ipykernel)",
   "language": "python",
   "name": "python3"
  },
  "language_info": {
   "codemirror_mode": {
    "name": "ipython",
    "version": 3
   },
   "file_extension": ".py",
   "mimetype": "text/x-python",
   "name": "python",
   "nbconvert_exporter": "python",
   "pygments_lexer": "ipython3",
   "version": "3.10.1"
  }
 },
 "nbformat": 4,
 "nbformat_minor": 5
}
