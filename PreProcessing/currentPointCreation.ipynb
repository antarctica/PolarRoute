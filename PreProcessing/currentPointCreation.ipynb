{
 "cells": [
  {
   "cell_type": "code",
   "execution_count": 47,
   "id": "b34a10e0-c578-4458-a3b3-c47ec306a51e",
   "metadata": {},
   "outputs": [],
   "source": [
    "import netCDF4 as nc\n",
    "\n",
    "HOST = '/Users/jonsmi/OneDrive - NERC/Documents/BAS_RoutePlanner/Jan_2022/Jan_10th_Development/RoutePlanner/resources/'\n",
    "\n",
    "iceDataPath     = '{}/bsose_i122_2013to2017_1day_SeaIceArea.nc'.format(HOST)\n",
    "currentDataPath = '{}/SOSE_surface_velocity_6yearMean_2005-2010.nc'.format(HOST)\n",
    "\n",
    "ds = nc.Dataset(currentDataPath)"
   ]
  },
  {
   "cell_type": "code",
   "execution_count": 4,
   "id": "2895851d-3c7d-4c24-8e83-ef6d388f85e8",
   "metadata": {},
   "outputs": [],
   "source": [
    "class CurrentPoint:\n",
    "    def __init__(self, time, lat, long, uC, vC):\n",
    "        self.time = time\n",
    "        self.long = long\n",
    "        self.lat = lat\n",
    "        self.uC = uC\n",
    "        self.vC = vC\n",
    "        \n",
    "    def toJSON(self):\n",
    "        s = \"{\"\n",
    "        s += \"\\\"time\\\": \\\"\" + str(self.time) + \"\\\",\"\n",
    "        s += \"\\\"long\\\":\" + str(self.long) + \",\"\n",
    "        s += \"\\\"lat\\\":\" + str(self.lat) + \",\"\n",
    "        s += \"\\\"uC\\\":\" + str(self.uC) + \",\"\n",
    "        s += \"\\\"vC\\\":\" + str(self.vC)\n",
    "        s += \"}\"\n",
    "        return s"
   ]
  },
  {
   "cell_type": "code",
   "execution_count": 51,
   "id": "095432f3-8d12-4181-91b1-089337558070",
   "metadata": {},
   "outputs": [
    {
     "name": "stdout",
     "output_type": "stream",
     "text": [
      "Done\n"
     ]
    }
   ],
   "source": [
    "latRange = range(0,320)\n",
    "longRange = range(0, 2160)\n",
    "\n",
    "currentPoints = []\n",
    "time = \"\"\n",
    "\n",
    "for longindx in longRange:\n",
    "    for latindx in latRange:\n",
    "        long = ds['lon'][0, longindx]\n",
    "        lat = ds['lat'][latindx, 0]\n",
    "        uC = ds['uC'][latindx, longindx]\n",
    "        vC = ds['vC'][latindx, longindx]\n",
    "        \n",
    "        #TODO change to better represent missing values\n",
    "        if str(uC) == \"nan\":\n",
    "            uC = 0\n",
    "        if str(vC) == \"nan\":\n",
    "            vC = 0\n",
    "        \n",
    "        currentPoint = CurrentPoint(time, lat, long, uC, vC)\n",
    "        currentPoints.append(currentPoint)\n",
    "\n",
    "print(\"Done\")"
   ]
  },
  {
   "cell_type": "code",
   "execution_count": 52,
   "id": "ab46052c-b1b3-4287-9ca9-c234d89791da",
   "metadata": {},
   "outputs": [],
   "source": [
    "json = \"{ \\\"currentPoints\\\":[\"\n",
    "\n",
    "for currentPoint in currentPoints:\n",
    "    json += currentPoint.toJSON() + \",\\n\"\n",
    "    \n",
    "json = json[:-2] # remove last comma and newline\n",
    "json += \"]}\""
   ]
  },
  {
   "cell_type": "code",
   "execution_count": 53,
   "id": "007f6f45-6174-4fd5-8828-27672b9412cf",
   "metadata": {},
   "outputs": [],
   "source": [
    "filename = \"../resources/currentPoints.json\"\n",
    "f = open(filename, \"x\")\n",
    "f.write(json)\n",
    "f.close()"
   ]
  }
 ],
 "metadata": {
  "kernelspec": {
   "display_name": "Python 3 (ipykernel)",
   "language": "python",
   "name": "python3"
  },
  "language_info": {
   "codemirror_mode": {
    "name": "ipython",
    "version": 3
   },
   "file_extension": ".py",
   "mimetype": "text/x-python",
   "name": "python",
   "nbconvert_exporter": "python",
   "pygments_lexer": "ipython3",
   "version": "3.10.1"
  }
 },
 "nbformat": 4,
 "nbformat_minor": 5
}
