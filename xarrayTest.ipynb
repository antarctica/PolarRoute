{
 "cells": [
  {
   "cell_type": "code",
   "execution_count": 2,
   "id": "a555b682-1048-4422-b009-e95e65a9a0e7",
   "metadata": {},
   "outputs": [],
   "source": [
    "import xarray as xr"
   ]
  },
  {
   "cell_type": "code",
   "execution_count": 3,
   "id": "b5e21aa6-c2c0-430a-af0f-ce32fa76bc73",
   "metadata": {},
   "outputs": [],
   "source": [
    "icePoints = xr.open_dataset(\"data/jan2013.nc\")"
   ]
  },
  {
   "cell_type": "code",
   "execution_count": 4,
   "id": "50a6d769-359f-49a3-a787-a4e06a4232e7",
   "metadata": {},
   "outputs": [
    {
     "name": "stdout",
     "output_type": "stream",
     "text": [
      "<xarray.Dataset>\n",
      "Dimensions:  (YC: 588, XC: 2160, time: 30)\n",
      "Coordinates:\n",
      "    Depth    (YC, XC) float32 ...\n",
      "  * XC       (XC) float32 0.08333 0.25 0.4167 0.5833 ... 359.4 359.6 359.8 359.9\n",
      "  * YC       (YC) float32 -77.98 -77.95 -77.91 -77.88 ... -30.02 -29.87 -29.72\n",
      "    iter     (time) int64 ...\n",
      "    rA       (YC, XC) float32 ...\n",
      "  * time     (time) datetime64[ns] 2013-01-01 2013-01-02 ... 2013-01-30\n",
      "Data variables:\n",
      "    SIarea   (time, YC, XC) float32 ...\n",
      "Attributes:\n",
      "    history:  Tue Apr 12 16:00:08 2022: ncks -d time,0,29 bsose_i122_2013to20...\n",
      "    NCO:      netCDF Operators version 4.9.3-alpha02 (Homepage = http://nco.s...\n"
     ]
    }
   ],
   "source": [
    "print(icePoints)"
   ]
  },
  {
   "cell_type": "code",
   "execution_count": 5,
   "id": "5a9b2c96-96f8-468a-ab58-aab2c246e75d",
   "metadata": {},
   "outputs": [],
   "source": [
    "icePointsDF = icePoints.to_dataframe()"
   ]
  },
  {
   "cell_type": "code",
   "execution_count": 19,
   "id": "663f9fcd-0724-41e2-89e7-eca644bcc1ca",
   "metadata": {},
   "outputs": [
    {
     "name": "stdout",
     "output_type": "stream",
     "text": [
      "                                        Depth  SIarea  iter           rA\n",
      "YC         XC         time                                              \n",
      "-77.982651 0.083333   2013-01-01     0.000000     0.0  1860   14884064.0\n",
      "                      2013-01-02     0.000000     0.0  1920   14884064.0\n",
      "                      2013-01-03     0.000000     0.0  1980   14884064.0\n",
      "                      2013-01-04     0.000000     0.0  2040   14884064.0\n",
      "                      2013-01-05     0.000000     0.0  2100   14884064.0\n",
      "...                                       ...     ...   ...          ...\n",
      "-29.715317 359.916687 2013-01-26  4736.891602     0.0  3360  292099872.0\n",
      "                      2013-01-27  4736.891602     0.0  3420  292099872.0\n",
      "                      2013-01-28  4736.891602     0.0  3480  292099872.0\n",
      "                      2013-01-29  4736.891602     0.0  3540  292099872.0\n",
      "                      2013-01-30  4736.891602     0.0  3600  292099872.0\n",
      "\n",
      "[38102400 rows x 4 columns]\n"
     ]
    }
   ],
   "source": [
    "print(icePointsDF)"
   ]
  },
  {
   "cell_type": "code",
   "execution_count": 6,
   "id": "3758e4e6-3cde-4049-bb48-83a752d5eaf3",
   "metadata": {},
   "outputs": [
    {
     "name": "stdout",
     "output_type": "stream",
     "text": [
      "<xarray.Dataset>\n",
      "Dimensions:  (YC: 588, XC: 2160, time: 7)\n",
      "Coordinates:\n",
      "    Depth    (YC, XC) float32 0.0 0.0 0.0 0.0 ... 4.8e+03 4.8e+03 4.737e+03\n",
      "  * XC       (XC) float32 0.08333 0.25 0.4167 0.5833 ... 359.4 359.6 359.8 359.9\n",
      "  * YC       (YC) float32 -77.98 -77.95 -77.91 -77.88 ... -30.02 -29.87 -29.72\n",
      "    iter     (time) int64 1860 1920 1980 2040 2100 2160 2220\n",
      "    rA       (YC, XC) float32 1.488e+07 1.488e+07 ... 2.921e+08 2.921e+08\n",
      "  * time     (time) datetime64[ns] 2013-01-01 2013-01-02 ... 2013-01-07\n",
      "Data variables:\n",
      "    SIarea   (time, YC, XC) float32 0.0 0.0 0.0 0.0 0.0 ... 0.0 0.0 0.0 0.0 0.0\n",
      "Attributes:\n",
      "    history:  Tue Apr 12 16:00:08 2022: ncks -d time,0,29 bsose_i122_2013to20...\n",
      "    NCO:      netCDF Operators version 4.9.3-alpha02 (Homepage = http://nco.s...\n"
     ]
    }
   ],
   "source": [
    "icePointw1 = icePoints.sel(time=slice('2013-01-01','2013-01-07'))\n",
    "print(icePointw1)"
   ]
  },
  {
   "cell_type": "code",
   "execution_count": 7,
   "id": "274106e9-7319-4636-9279-8acecb2dab86",
   "metadata": {},
   "outputs": [],
   "source": [
    "latMin = -74.375\n",
    "latMax = -73.75\n",
    "\n",
    "longMin = -130\n",
    "longMax = -128.75\n",
    "\n",
    "if longMin < 0: longMin += 360 # converting between projections\n",
    "if longMax < 0: longMax += 360"
   ]
  },
  {
   "cell_type": "code",
   "execution_count": 8,
   "id": "d569d728-459f-418c-825f-7e73ec0606b6",
   "metadata": {},
   "outputs": [
    {
     "name": "stdout",
     "output_type": "stream",
     "text": [
      "            lat        long       time  depth   iceArea  iter          rA\n",
      "0    -74.335640 -129.916656 2013-01-01  650.0  0.013741  1860  25030016.0\n",
      "1    -74.335640 -129.916656 2013-01-02  650.0  0.000000  1920  25030016.0\n",
      "2    -74.335640 -129.916656 2013-01-03  650.0  0.000000  1980  25030016.0\n",
      "3    -74.335640 -129.916656 2013-01-04  650.0  0.000000  2040  25030016.0\n",
      "4    -74.335640 -129.916656 2013-01-05  650.0  0.000154  2100  25030016.0\n",
      "...         ...         ...        ...    ...       ...   ...         ...\n",
      "3115 -73.786469 -128.750000 2013-01-26  700.0  0.307928  3360  26767922.0\n",
      "3116 -73.786469 -128.750000 2013-01-27  700.0  0.295074  3420  26767922.0\n",
      "3117 -73.786469 -128.750000 2013-01-28  700.0  0.284799  3480  26767922.0\n",
      "3118 -73.786469 -128.750000 2013-01-29  700.0  0.275683  3540  26767922.0\n",
      "3119 -73.786469 -128.750000 2013-01-30  700.0  0.271569  3600  26767922.0\n",
      "\n",
      "[3120 rows x 7 columns]\n",
      "CPU times: total: 891 ms\n",
      "Wall time: 885 ms\n"
     ]
    }
   ],
   "source": [
    "%%time\n",
    "\n",
    "ipSlice = icePointsDF.query(\"YC > @latMin & YC <= @latMax & XC > @longMin & XC <= @longMax\")\n",
    "\n",
    "ipSlice = ipSlice.reset_index()\n",
    "ipSlice = ipSlice.rename(columns={'XC':'long', 'YC':'lat', 'Depth':'depth', 'SIarea':'iceArea'})\n",
    "ipSlice['long'] = ipSlice['long'].apply(lambda x: x if x <= 180 else x - 360)\n",
    "    \n",
    "print(ipSlice)"
   ]
  },
  {
   "cell_type": "code",
   "execution_count": 9,
   "id": "6d975e68-fce8-4a66-b1f6-eaf4d8776034",
   "metadata": {},
   "outputs": [
    {
     "name": "stdout",
     "output_type": "stream",
     "text": [
      "            lat        long       time  depth   iceArea  iter          rA\n",
      "0    -74.335640 -129.916656 2013-01-01  650.0  0.013741  1860  25030016.0\n",
      "1    -74.335640 -129.916656 2013-01-02  650.0  0.000000  1920  25030016.0\n",
      "2    -74.335640 -129.916656 2013-01-03  650.0  0.000000  1980  25030016.0\n",
      "3    -74.335640 -129.916656 2013-01-04  650.0  0.000000  2040  25030016.0\n",
      "4    -74.335640 -129.916656 2013-01-05  650.0  0.000154  2100  25030016.0\n",
      "...         ...         ...        ...    ...       ...   ...         ...\n",
      "3115 -73.786469 -128.750000 2013-01-26  700.0  0.307928  3360  26767922.0\n",
      "3116 -73.786469 -128.750000 2013-01-27  700.0  0.295074  3420  26767922.0\n",
      "3117 -73.786469 -128.750000 2013-01-28  700.0  0.284799  3480  26767922.0\n",
      "3118 -73.786469 -128.750000 2013-01-29  700.0  0.275683  3540  26767922.0\n",
      "3119 -73.786469 -128.750000 2013-01-30  700.0  0.271569  3600  26767922.0\n",
      "\n",
      "[3120 rows x 7 columns]\n",
      "CPU times: total: 15.6 ms\n",
      "Wall time: 10.8 ms\n"
     ]
    }
   ],
   "source": [
    "%%time\n",
    "\n",
    "icePointCut = icePoints.sel(YC=slice(latMin,latMax), XC=slice(longMin, longMax))\n",
    "#icePointCut = icePointCut.sel()\n",
    "ipSlice = icePointCut.to_dataframe()\n",
    "\n",
    "ipSlice = ipSlice.reset_index()\n",
    "ipSlice = ipSlice.rename(columns={'XC':'long', 'YC':'lat', 'Depth':'depth', 'SIarea':'iceArea'})\n",
    "ipSlice['long'] = ipSlice['long'].apply(lambda x: x if x <= 180 else x - 360)\n",
    "\n",
    "print(ipSlice)"
   ]
  },
  {
   "cell_type": "code",
   "execution_count": 14,
   "id": "6bd90ebe-c305-456d-9a15-935c72de678b",
   "metadata": {},
   "outputs": [],
   "source": [
    "latMin = -74.375\n",
    "latMax = -73.75\n",
    "\n",
    "longMin = -118.75\n",
    "longMax = -117.5\n",
    "\n",
    "if longMin < 0: longMin += 360 # converting between projections\n",
    "if longMax < 0: longMax += 360"
   ]
  },
  {
   "cell_type": "code",
   "execution_count": null,
   "id": "a6a12e08-eaf3-4e5e-b789-282946d2f4aa",
   "metadata": {},
   "outputs": [],
   "source": [
    "cellBox = icePointsDF.query(\"YC > @latMin & YC <= @latMax & XC > @longMin & XC <= @longMax\")\n",
    "print(cellBox)\n",
    "print(cellBox['SIarea'].mean())"
   ]
  },
  {
   "cell_type": "code",
   "execution_count": null,
   "id": "be558d00-8b53-490b-82d9-a32682969db6",
   "metadata": {},
   "outputs": [
    {
     "name": "stdout",
     "output_type": "stream",
     "text": [
      "                                  Depth    SIarea  iter          rA\n",
      "YC         XC         time                                         \n",
      "-77.157852 327.750000 2013-01-01  100.0  0.981079  1860  16961832.0\n",
      "                      2013-01-02  100.0  0.979461  1920  16961832.0\n",
      "                      2013-01-03  100.0  0.977427  1980  16961832.0\n",
      "                      2013-01-04  100.0  0.975684  2040  16961832.0\n",
      "                      2013-01-05  100.0  0.974274  2100  16961832.0\n",
      "...                                 ...       ...   ...         ...\n",
      "-76.895950 328.083344 2013-01-04  190.0  0.399158  2040  17648784.0\n",
      "                      2013-01-05  190.0  0.156779  2100  17648784.0\n",
      "           328.250000 2013-01-01  140.0  0.218696  1860  17648784.0\n",
      "                      2013-01-02  140.0  0.365204  1920  17648784.0\n",
      "                      2013-01-03  140.0  0.318326  1980  17648784.0\n",
      "\n",
      "[188 rows x 4 columns]\n"
     ]
    }
   ],
   "source": [
    "splittingPercentage = 0.12\n",
    "splitMinProp = 0.05\n",
    "splitMaxProp = 0.85\n",
    "\n",
    "propOver = XCquery.query('SIarea > 0.12')\n",
    "print(propOver)"
   ]
  },
  {
   "cell_type": "code",
   "execution_count": 20,
   "id": "4fca74c0-2cbc-4797-805e-e0bae4101b3f",
   "metadata": {},
   "outputs": [
    {
     "name": "stdout",
     "output_type": "stream",
     "text": [
      "0.05266106442577031\n"
     ]
    }
   ],
   "source": [
    "proportionOverXpercent = propOver.shape[0] / XCquery.shape[0]\n",
    "print(proportionOverXpercent)"
   ]
  },
  {
   "cell_type": "code",
   "execution_count": 11,
   "id": "b279b665-5121-428e-ac19-c15bb1b1c10a",
   "metadata": {},
   "outputs": [
    {
     "name": "stdout",
     "output_type": "stream",
     "text": [
      "[[0.00000000e+00 0.00000000e+00 1.86000000e+03 1.48840640e+07]\n",
      " [0.00000000e+00 0.00000000e+00 1.92000000e+03 1.48840640e+07]\n",
      " [0.00000000e+00 0.00000000e+00 1.98000000e+03 1.48840640e+07]\n",
      " ...\n",
      " [4.73689160e+03 0.00000000e+00 3.54000000e+03 2.92099872e+08]\n",
      " [4.73689160e+03 0.00000000e+00 3.60000000e+03 2.92099872e+08]\n",
      " [4.73689160e+03 0.00000000e+00 3.66000000e+03 2.92099872e+08]]\n"
     ]
    }
   ],
   "source": [
    "icePointsDF = icePointsDF.to_numpy()\n",
    "print(icePointsDF)"
   ]
  },
  {
   "cell_type": "code",
   "execution_count": null,
   "id": "043bae0e-2821-4000-a688-3d1e01d7774e",
   "metadata": {},
   "outputs": [],
   "source": []
  },
  {
   "cell_type": "code",
   "execution_count": 6,
   "id": "8a1ea6db-d24c-4b8c-8f8b-8573430e2d7f",
   "metadata": {},
   "outputs": [
    {
     "ename": "KeyError",
     "evalue": "'XC'",
     "output_type": "error",
     "traceback": [
      "\u001b[1;31m---------------------------------------------------------------------------\u001b[0m",
      "\u001b[1;31mKeyError\u001b[0m                                  Traceback (most recent call last)",
      "File \u001b[1;32m~\\AppData\\Local\\Programs\\Python\\Python310\\lib\\site-packages\\pandas\\core\\indexes\\base.py:3361\u001b[0m, in \u001b[0;36mIndex.get_loc\u001b[1;34m(self, key, method, tolerance)\u001b[0m\n\u001b[0;32m   3360\u001b[0m \u001b[38;5;28;01mtry\u001b[39;00m:\n\u001b[1;32m-> 3361\u001b[0m     \u001b[38;5;28;01mreturn\u001b[39;00m \u001b[38;5;28;43mself\u001b[39;49m\u001b[38;5;241;43m.\u001b[39;49m\u001b[43m_engine\u001b[49m\u001b[38;5;241;43m.\u001b[39;49m\u001b[43mget_loc\u001b[49m\u001b[43m(\u001b[49m\u001b[43mcasted_key\u001b[49m\u001b[43m)\u001b[49m\n\u001b[0;32m   3362\u001b[0m \u001b[38;5;28;01mexcept\u001b[39;00m \u001b[38;5;167;01mKeyError\u001b[39;00m \u001b[38;5;28;01mas\u001b[39;00m err:\n",
      "File \u001b[1;32m~\\AppData\\Local\\Programs\\Python\\Python310\\lib\\site-packages\\pandas\\_libs\\index.pyx:76\u001b[0m, in \u001b[0;36mpandas._libs.index.IndexEngine.get_loc\u001b[1;34m()\u001b[0m\n",
      "File \u001b[1;32m~\\AppData\\Local\\Programs\\Python\\Python310\\lib\\site-packages\\pandas\\_libs\\index.pyx:108\u001b[0m, in \u001b[0;36mpandas._libs.index.IndexEngine.get_loc\u001b[1;34m()\u001b[0m\n",
      "File \u001b[1;32mpandas\\_libs\\hashtable_class_helper.pxi:5198\u001b[0m, in \u001b[0;36mpandas._libs.hashtable.PyObjectHashTable.get_item\u001b[1;34m()\u001b[0m\n",
      "File \u001b[1;32mpandas\\_libs\\hashtable_class_helper.pxi:5206\u001b[0m, in \u001b[0;36mpandas._libs.hashtable.PyObjectHashTable.get_item\u001b[1;34m()\u001b[0m\n",
      "\u001b[1;31mKeyError\u001b[0m: 'XC'",
      "\nThe above exception was the direct cause of the following exception:\n",
      "\u001b[1;31mKeyError\u001b[0m                                  Traceback (most recent call last)",
      "Input \u001b[1;32mIn [6]\u001b[0m, in \u001b[0;36m<module>\u001b[1;34m\u001b[0m\n\u001b[1;32m----> 1\u001b[0m icePointsDF \u001b[38;5;241m=\u001b[39m \u001b[43micePointsDF\u001b[49m\u001b[43m[\u001b[49m\u001b[38;5;124;43m'\u001b[39;49m\u001b[38;5;124;43mXC\u001b[39;49m\u001b[38;5;124;43m'\u001b[39;49m\u001b[43m]\u001b[49m\u001b[38;5;241m.\u001b[39mapply(\u001b[38;5;28;01mlambda\u001b[39;00m x: x \u001b[38;5;28;01mif\u001b[39;00m x \u001b[38;5;241m<\u001b[39m\u001b[38;5;241m=\u001b[39m\u001b[38;5;241m180\u001b[39m \u001b[38;5;28;01melse\u001b[39;00m x \u001b[38;5;241m-\u001b[39m \u001b[38;5;241m360\u001b[39m)\n\u001b[0;32m      2\u001b[0m \u001b[38;5;28mprint\u001b[39m(icePointsDF)\n",
      "File \u001b[1;32m~\\AppData\\Local\\Programs\\Python\\Python310\\lib\\site-packages\\pandas\\core\\frame.py:3458\u001b[0m, in \u001b[0;36mDataFrame.__getitem__\u001b[1;34m(self, key)\u001b[0m\n\u001b[0;32m   3456\u001b[0m \u001b[38;5;28;01mif\u001b[39;00m \u001b[38;5;28mself\u001b[39m\u001b[38;5;241m.\u001b[39mcolumns\u001b[38;5;241m.\u001b[39mnlevels \u001b[38;5;241m>\u001b[39m \u001b[38;5;241m1\u001b[39m:\n\u001b[0;32m   3457\u001b[0m     \u001b[38;5;28;01mreturn\u001b[39;00m \u001b[38;5;28mself\u001b[39m\u001b[38;5;241m.\u001b[39m_getitem_multilevel(key)\n\u001b[1;32m-> 3458\u001b[0m indexer \u001b[38;5;241m=\u001b[39m \u001b[38;5;28;43mself\u001b[39;49m\u001b[38;5;241;43m.\u001b[39;49m\u001b[43mcolumns\u001b[49m\u001b[38;5;241;43m.\u001b[39;49m\u001b[43mget_loc\u001b[49m\u001b[43m(\u001b[49m\u001b[43mkey\u001b[49m\u001b[43m)\u001b[49m\n\u001b[0;32m   3459\u001b[0m \u001b[38;5;28;01mif\u001b[39;00m is_integer(indexer):\n\u001b[0;32m   3460\u001b[0m     indexer \u001b[38;5;241m=\u001b[39m [indexer]\n",
      "File \u001b[1;32m~\\AppData\\Local\\Programs\\Python\\Python310\\lib\\site-packages\\pandas\\core\\indexes\\base.py:3363\u001b[0m, in \u001b[0;36mIndex.get_loc\u001b[1;34m(self, key, method, tolerance)\u001b[0m\n\u001b[0;32m   3361\u001b[0m         \u001b[38;5;28;01mreturn\u001b[39;00m \u001b[38;5;28mself\u001b[39m\u001b[38;5;241m.\u001b[39m_engine\u001b[38;5;241m.\u001b[39mget_loc(casted_key)\n\u001b[0;32m   3362\u001b[0m     \u001b[38;5;28;01mexcept\u001b[39;00m \u001b[38;5;167;01mKeyError\u001b[39;00m \u001b[38;5;28;01mas\u001b[39;00m err:\n\u001b[1;32m-> 3363\u001b[0m         \u001b[38;5;28;01mraise\u001b[39;00m \u001b[38;5;167;01mKeyError\u001b[39;00m(key) \u001b[38;5;28;01mfrom\u001b[39;00m \u001b[38;5;21;01merr\u001b[39;00m\n\u001b[0;32m   3365\u001b[0m \u001b[38;5;28;01mif\u001b[39;00m is_scalar(key) \u001b[38;5;129;01mand\u001b[39;00m isna(key) \u001b[38;5;129;01mand\u001b[39;00m \u001b[38;5;129;01mnot\u001b[39;00m \u001b[38;5;28mself\u001b[39m\u001b[38;5;241m.\u001b[39mhasnans:\n\u001b[0;32m   3366\u001b[0m     \u001b[38;5;28;01mraise\u001b[39;00m \u001b[38;5;167;01mKeyError\u001b[39;00m(key)\n",
      "\u001b[1;31mKeyError\u001b[0m: 'XC'"
     ]
    }
   ],
   "source": [
    "icePointsDF = icePointsDF['XC'].apply(lambda x: x if x <=180 else x - 360)\n",
    "print(icePointsDF)"
   ]
  },
  {
   "cell_type": "code",
   "execution_count": null,
   "id": "ed47bfd8-660b-4fb8-afe8-8b02bfe79150",
   "metadata": {},
   "outputs": [],
   "source": []
  }
 ],
 "metadata": {
  "kernelspec": {
   "display_name": "Python 3 (ipykernel)",
   "language": "python",
   "name": "python3"
  },
  "language_info": {
   "codemirror_mode": {
    "name": "ipython",
    "version": 3
   },
   "file_extension": ".py",
   "mimetype": "text/x-python",
   "name": "python",
   "nbconvert_exporter": "python",
   "pygments_lexer": "ipython3",
   "version": "3.10.1"
  }
 },
 "nbformat": 4,
 "nbformat_minor": 5
}
