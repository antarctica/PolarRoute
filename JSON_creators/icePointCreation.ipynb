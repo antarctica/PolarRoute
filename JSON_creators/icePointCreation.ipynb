{
 "cells": [
  {
   "cell_type": "code",
   "execution_count": 1,
   "id": "6e35e96f-5bf0-4a0a-9ac6-189ef6e55318",
   "metadata": {},
   "outputs": [],
   "source": [
    "import netCDF4 as nc\n",
    "import numpy as np\n",
    "import pandas as pd\n",
    "import xarray as xr\n",
    "import datetime\n",
    "\n",
    "iceDataPath = 'bsose_i122_2013to2017_1day_SeaIceArea.nc'\n",
    "currentDataPath = 'SOSE_surface_velocity_6yearMean_2005-2010.nc'\n",
    "\n",
    "ds = nc.Dataset(iceDataPath)"
   ]
  },
  {
   "cell_type": "code",
   "execution_count": 2,
   "id": "8262282d-ccea-4601-a59c-545f30860865",
   "metadata": {},
   "outputs": [],
   "source": [
    "class IcePoint:\n",
    "    def __init__(self, time, long, lat, iceArea):\n",
    "        self.time = time\n",
    "        self.long = long\n",
    "        self.lat = lat\n",
    "        self.iceArea = iceArea\n",
    "        \n",
    "    def toJSON(self):\n",
    "        s = \"{\"\n",
    "        s += \"\\\"time\\\": \\\"\" + str(self.time) + \"\\\",\"\n",
    "        s += \"\\\"long\\\":\" + str(self.long) + \",\"\n",
    "        s += \"\\\"lat\\\":\" + str(self.lat) + \",\"\n",
    "        s += \"\\\"iceArea\\\":\" + str(self.iceArea)\n",
    "        s += \"}\"\n",
    "        return s"
   ]
  },
  {
   "cell_type": "code",
   "execution_count": 4,
   "id": "e5bf8b9e-f5a5-4d06-b7de-fa5f4883a80f",
   "metadata": {},
   "outputs": [
    {
     "name": "stdout",
     "output_type": "stream",
     "text": [
      "1270080\n"
     ]
    }
   ],
   "source": [
    "#Constructs list of IcePoint objects for a single say, specifed by 'timeindx'\n",
    "timeindx = 0\n",
    "\n",
    "\n",
    "longindx = 0\n",
    "latindx = 0\n",
    "\n",
    "epoch = datetime.datetime(2012, 12, 1)\n",
    "icePoints = []\n",
    "\n",
    "for longindx in range(len(ds['XC'])):\n",
    "    for latindx in range(len(ds['YC'])):\n",
    "        \n",
    "        # read icePoint from datesouce ds.\n",
    "        time = ds['time'][timeindx]\n",
    "        time = epoch + datetime.timedelta(0, int(time)) # convert to datetime\n",
    "        long = ds['XC'][longindx]\n",
    "        lat = ds['YC'][latindx]\n",
    "        iceArea = ds['SIarea'][timeindx, latindx, longindx]\n",
    "        \n",
    "        # create IcePoint object\n",
    "        icePoint = IcePoint(time, long, lat, iceArea)\n",
    "        # append to list of all icePoints\n",
    "        icePoints.append(icePoint)\n",
    "                           "
   ]
  },
  {
   "cell_type": "code",
   "execution_count": 5,
   "id": "5b94e7c5-d38d-40ab-84c3-ae6e456be7ea",
   "metadata": {},
   "outputs": [],
   "source": [
    "#construct json from list of icepoints\n",
    "json = \"{ \\\"icepoints\\\":[\"\n",
    "\n",
    "for icepoint in icePoints:\n",
    "    json += icepoint.toJSON() + \",\\n\"\n",
    "    \n",
    "json = json[:-2] # remove last comma and newline\n",
    "json += \"]}\""
   ]
  },
  {
   "cell_type": "code",
   "execution_count": 6,
   "id": "2fae481f-2a00-4b51-a1fe-57b02ef9bb31",
   "metadata": {},
   "outputs": [
    {
     "ename": "FileExistsError",
     "evalue": "[Errno 17] File exists: 'icepoints.json'",
     "output_type": "error",
     "traceback": [
      "\u001b[1;31m---------------------------------------------------------------------------\u001b[0m",
      "\u001b[1;31mFileExistsError\u001b[0m                           Traceback (most recent call last)",
      "Input \u001b[1;32mIn [6]\u001b[0m, in \u001b[0;36m<module>\u001b[1;34m\u001b[0m\n\u001b[0;32m      1\u001b[0m \u001b[38;5;66;03m#Write list of icepoints to json.\u001b[39;00m\n\u001b[0;32m      2\u001b[0m filename \u001b[38;5;241m=\u001b[39m \u001b[38;5;124m\"\u001b[39m\u001b[38;5;124micepoints.json\u001b[39m\u001b[38;5;124m\"\u001b[39m\n\u001b[1;32m----> 3\u001b[0m f \u001b[38;5;241m=\u001b[39m \u001b[38;5;28;43mopen\u001b[39;49m\u001b[43m(\u001b[49m\u001b[43mfilename\u001b[49m\u001b[43m,\u001b[49m\u001b[43m \u001b[49m\u001b[38;5;124;43m\"\u001b[39;49m\u001b[38;5;124;43mx\u001b[39;49m\u001b[38;5;124;43m\"\u001b[39;49m\u001b[43m)\u001b[49m\n\u001b[0;32m      4\u001b[0m f\u001b[38;5;241m.\u001b[39mwrite(json)\n\u001b[0;32m      5\u001b[0m f\u001b[38;5;241m.\u001b[39mclose()\n",
      "\u001b[1;31mFileExistsError\u001b[0m: [Errno 17] File exists: 'icepoints.json'"
     ]
    }
   ],
   "source": [
    "#Write list of icepoints to json.\n",
    "filename = \"../resources/icepoints.json\"\n",
    "f = open(filename, \"x\")\n",
    "f.write(json)\n",
    "f.close()"
   ]
  }
 ],
 "metadata": {
  "kernelspec": {
   "display_name": "Python 3 (ipykernel)",
   "language": "python",
   "name": "python3"
  },
  "language_info": {
   "codemirror_mode": {
    "name": "ipython",
    "version": 3
   },
   "file_extension": ".py",
   "mimetype": "text/x-python",
   "name": "python",
   "nbconvert_exporter": "python",
   "pygments_lexer": "ipython3",
   "version": "3.10.1"
  }
 },
 "nbformat": 4,
 "nbformat_minor": 5
}
