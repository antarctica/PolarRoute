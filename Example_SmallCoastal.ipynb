{
 "cells": [
  {
   "cell_type": "code",
   "execution_count": 1,
   "metadata": {},
   "outputs": [],
   "source": [
    "import matplotlib.pylab as plt\n",
    "import numpy as np\n",
    "from scipy.interpolate import griddata\n",
    "import pandas as pd\n",
    "from scipy import optimize\n",
    "import math\n",
    "from matplotlib.patches import Polygon\n",
    "\n",
    "from RoutePlanner.Mesh import Mesh"
   ]
  },
  {
   "cell_type": "code",
   "execution_count": 2,
   "metadata": {},
   "outputs": [],
   "source": [
    "IceExtent = {}\n",
    "IceExtent['X']      = np.load('./resources/IceContent_X.npy') \n",
    "IceExtent['Y']      = np.load('./resources/IceContent_Y.npy') \n",
    "IceExtent['Values'] = np.load('./resources/IceContent_V.npy') \n",
    "IceExtent['Mask']   = np.load('./resources/IceContent_mask.npy') \n",
    "vls = IceExtent['Values']\n",
    "vls[IceExtent['Mask']] = 1.0\n",
    "IceExtent['Values'] = vls\n",
    "\n",
    "\n",
    "Coastline = {}\n",
    "Coastline['X']      = np.load('./resources/IceContent_X.npy') \n",
    "Coastline['Y']      = np.load('./resources/IceContent_Y.npy')\n",
    "values = np.load('./resources/IceContent_V.npy'); values[values < 1] = 0\n",
    "Coastline['Values'] = values\n",
    "\n",
    "Currents = {}\n",
    "Currents['X']  =  np.load('./resources/Current_X.npy') \n",
    "Currents['Y']  =  np.load('./resources/Current_Y.npy') \n",
    "Currents['Vx'] = np.load('./resources/Current_Vx.npy')\n",
    "Currents['Vy'] = np.load('./resources/Current_Vy.npy')"
   ]
  },
  {
   "cell_type": "code",
   "execution_count": 3,
   "metadata": {},
   "outputs": [],
   "source": [
    "MeshInfo = {}\n",
    "MeshInfo['Xmin'] = 290\n",
    "MeshInfo['Xmax'] = 310\n",
    "MeshInfo['Ymin'] = -70\n",
    "MeshInfo['Ymax'] = -60\n",
    "MeshInfo['dx']   = 5\n",
    "MeshInfo['dy']   = 2.5\n",
    "\n",
    "MeshInfo['CoastMask'] = {}\n",
    "MeshInfo['CoastMask']['X']          = Coastline['X'] \n",
    "MeshInfo['CoastMask']['Y']          = Coastline['Y'] \n",
    "MeshInfo['CoastMask']['Mask']       = Coastline['Values'].astype(bool)\n",
    "MeshInfo['CoastMask']['Split']      = True\n",
    "MeshInfo['CoastMask']['SplitDepth'] = 3\n",
    "\n",
    "MeshInfo['IceExtent'] = {}\n",
    "MeshInfo['IceExtent']['X']          = IceExtent['X'] \n",
    "MeshInfo['IceExtent']['Y']          = IceExtent['Y'] \n",
    "MeshInfo['IceExtent']['Values']     = IceExtent['Values']\n",
    "MeshInfo['IceExtent']['Mask']       = IceExtent['Mask']\n",
    "MeshInfo['IceExtent']['Split']      = True\n",
    "MeshInfo['IceExtent']['SplitDepth'] = 3\n",
    "MeshInfo['IceExtent']['SplitDiff']  = 0.1\n",
    "MeshInfo['IceExtent']['MaxProportion'] = 0.8\n",
    "\n",
    "MeshInfo['Currents'] = {}\n",
    "MeshInfo['Currents']['X']  = Currents['X'] \n",
    "MeshInfo['Currents']['Y']  = Currents['Y']\n",
    "MeshInfo['Currents']['Vx'] = Currents['Vx'] \n",
    "MeshInfo['Currents']['Vy'] = Currents['Vy'] \n",
    "\n",
    "\n"
   ]
  },
  {
   "cell_type": "markdown",
   "metadata": {},
   "source": [
    "### Generating Mesh from Land & Ice Content"
   ]
  },
  {
   "cell_type": "code",
   "execution_count": 4,
   "metadata": {},
   "outputs": [
    {
     "name": "stdout",
     "output_type": "stream",
     "text": [
      "\n",
      "==================================================\n",
      "=============== Initialising Mesh ================\n",
      "==================================================\n",
      "Xmin=290,Xmax=310,dX=5  Ymin=-70,Ymax=-60,dY=2.5\n",
      "\n",
      "==================================================\n",
      "============ GRIDDING LAND INFORMATION ===========\n",
      "==================================================\n",
      "~~~~~~~~ Initialising Original Mask Array ~~~~~~~~\n",
      "~~~~~~~~ Splitting Mask array based on Coast ~~~~~~~~\n",
      "-----> Max Depth=3\n",
      "\n",
      "==================================================\n",
      "============ GRIDDING ICE INFORMATION ===========\n",
      "==================================================\n",
      "~~~~~~~~ Initialising Original Mask Array ~~~~~~~~\n",
      "~~~~~~~~  Splitting Mask array based on Ice Content ~~~~~~~~\n",
      "-----> Max Depth=3\n",
      "\n",
      "==================================================\n",
      "============ GRIDDING Current Data ===============\n",
      "==================================================\n"
     ]
    },
    {
     "name": "stderr",
     "output_type": "stream",
     "text": [
      "c:\\Users\\jonsmi\\OneDrive - NERC\\Documents\\BAS_RoutePlanner\\SDADT-pyRoutePlanner\\RoutePlanner\\Mesh.py:139: RuntimeWarning: Mean of empty slice\n",
      "  self.cells[cc].vector = np.array([np.nanmean(gVx),np.nanmean(gVy)])\n"
     ]
    }
   ],
   "source": [
    "mesh = Mesh(MeshInfo)\n",
    "mesh.IceInformation()\n",
    "mesh.VectorInformation()"
   ]
  },
  {
   "cell_type": "markdown",
   "metadata": {},
   "source": [
    "### Plotting Generated Mesh"
   ]
  },
  {
   "cell_type": "code",
   "execution_count": 5,
   "metadata": {},
   "outputs": [
    {
     "ename": "NameError",
     "evalue": "name 'PlotMesh' is not defined",
     "output_type": "error",
     "traceback": [
      "\u001b[1;31m---------------------------------------------------------------------------\u001b[0m",
      "\u001b[1;31mNameError\u001b[0m                                 Traceback (most recent call last)",
      "\u001b[1;32m~\\AppData\\Local\\Temp/ipykernel_25860/3835260483.py\u001b[0m in \u001b[0;36m<module>\u001b[1;34m\u001b[0m\n\u001b[1;32m----> 1\u001b[1;33m \u001b[0mPlotMesh\u001b[0m\u001b[1;33m(\u001b[0m\u001b[0mmesh\u001b[0m\u001b[1;33m)\u001b[0m\u001b[1;33m\u001b[0m\u001b[1;33m\u001b[0m\u001b[0m\n\u001b[0m",
      "\u001b[1;31mNameError\u001b[0m: name 'PlotMesh' is not defined"
     ]
    }
   ],
   "source": [
    "PlotMesh(mesh)"
   ]
  },
  {
   "cell_type": "markdown",
   "metadata": {},
   "source": [
    "# Optimisation"
   ]
  },
  {
   "cell_type": "code",
   "execution_count": null,
   "metadata": {},
   "outputs": [],
   "source": [
    "OptInfo = {}\n",
    "OptInfo['WayPoints']            = pd.read_csv('./resources/WayPoints_SmallRegion.csv') \n",
    "OptInfo['VehicleInfo']          = {}\n",
    "OptInfo['VehicleInfo']['Speed'] = 26.3*(1000/(60*60))"
   ]
  },
  {
   "cell_type": "code",
   "execution_count": null,
   "metadata": {},
   "outputs": [],
   "source": [
    "TT = TravelTime(mesh,OptInfo)\n",
    "TT.Dijkstra(verbrose=True)"
   ]
  },
  {
   "cell_type": "code",
   "execution_count": null,
   "metadata": {},
   "outputs": [],
   "source": [
    "OptimisedPaths(mesh,TT,TT.Paths)"
   ]
  },
  {
   "cell_type": "code",
   "execution_count": null,
   "metadata": {},
   "outputs": [],
   "source": [
    "TT.PathSmoothing()\n",
    "OptimisedPaths(mesh,TT,TT.Paths)"
   ]
  }
 ],
 "metadata": {
  "interpreter": {
   "hash": "7de2b6b4bb82c77043d8caae972bd03214c1f786691bda45cba0f82cc6b120ac"
  },
  "kernelspec": {
   "display_name": "Python 3.9.5 64-bit ('base': conda)",
   "language": "python",
   "name": "python3"
  },
  "language_info": {
   "codemirror_mode": {
    "name": "ipython",
    "version": 3
   },
   "file_extension": ".py",
   "mimetype": "text/x-python",
   "name": "python",
   "nbconvert_exporter": "python",
   "pygments_lexer": "ipython3",
   "version": "3.9.5"
  },
  "orig_nbformat": 4
 },
 "nbformat": 4,
 "nbformat_minor": 2
}
