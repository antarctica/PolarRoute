{
 "cells": [
  {
   "cell_type": "code",
   "execution_count": 1,
   "id": "833fcc4f-d466-436d-b082-e1fe886b0b1d",
   "metadata": {},
   "outputs": [],
   "source": [
    "import xarray as xr"
   ]
  },
  {
   "cell_type": "code",
   "execution_count": 2,
   "id": "97726e78-be31-4862-a041-b9bf09a50b56",
   "metadata": {},
   "outputs": [],
   "source": [
    "def loadIce(icePointsPath, startTime, endTime):\n",
    "    icePoints = xr.open_dataset(icePointsPath)\n",
    "    ipSlice = icePoints.sel(time=slice(startTime, endTime))\n",
    "    ipSlice = ipSlice.to_dataframe()\n",
    "    \n",
    "    ipSlice = ipSlice.reset_index()\n",
    "    ipSlice = ipSlice.rename(columns={'XC':'long', 'YC':'lat', 'Depth':'depth', 'SIarea':'iceArea'})\n",
    "    ipSlice['long'] = ipSlice['long'].apply(lambda x: x if x <= 180 else x - 360)\n",
    "  \n",
    "    return ipSlice"
   ]
  },
  {
   "cell_type": "code",
   "execution_count": 3,
   "id": "7069c93a-d625-4137-a78d-59d5d3e93220",
   "metadata": {},
   "outputs": [
    {
     "name": "stdout",
     "output_type": "stream",
     "text": [
      "               time      long        lat   iter        depth           rA  \\\n",
      "0        2017-01-01  0.083333 -77.982651  89520     0.000000   14884064.0   \n",
      "1        2017-01-01  0.083333 -77.947899  89520     0.000000   14969052.0   \n",
      "2        2017-01-01  0.083333 -77.913048  89520     0.000000   15054399.0   \n",
      "3        2017-01-01  0.083333 -77.878098  89520     0.000000   15140538.0   \n",
      "4        2017-01-01  0.083333 -77.843056  89520     0.000000   15226606.0   \n",
      "...             ...       ...        ...    ...          ...          ...   \n",
      "38102395 2017-01-30 -0.083313 -30.305382  91260  4520.000000  255916816.0   \n",
      "38102396 2017-01-30 -0.083313 -30.161386  91260  4287.402832  256665968.0   \n",
      "38102397 2017-01-30 -0.083313 -30.017181  91260  4520.000000  257415136.0   \n",
      "38102398 2017-01-30 -0.083313 -29.870987  91260  4798.514648  264528464.0   \n",
      "38102399 2017-01-30 -0.083313 -29.715317  91260  4736.891602  292099872.0   \n",
      "\n",
      "          iceArea  \n",
      "0             0.0  \n",
      "1             0.0  \n",
      "2             0.0  \n",
      "3             0.0  \n",
      "4             0.0  \n",
      "...           ...  \n",
      "38102395      0.0  \n",
      "38102396      0.0  \n",
      "38102397      0.0  \n",
      "38102398      0.0  \n",
      "38102399      0.0  \n",
      "\n",
      "[38102400 rows x 7 columns]\n"
     ]
    }
   ],
   "source": [
    "icePointsPath = \"data/bsose_i122_2013to2017_1day_SeaIceArea.nc\"\n",
    "\n",
    "startTime = '2017-01-01'\n",
    "endTime = '2017-01-30'\n",
    "\n",
    "icePoints = loadIce(icePointsPath, startTime, endTime)\n",
    "print(icePoints)"
   ]
  },
  {
   "cell_type": "code",
   "execution_count": 6,
   "id": "01863750-aa0c-4c06-8d92-1d68fd844800",
   "metadata": {},
   "outputs": [],
   "source": [
    "latMin = -71.25\n",
    "latMax = -70.625\n",
    "\n",
    "longMin = -112.4999\n",
    "longMax = -111.2499"
   ]
  },
  {
   "cell_type": "code",
   "execution_count": 7,
   "id": "29fbbcd3-a6b9-4f82-a068-6c71060d6c98",
   "metadata": {},
   "outputs": [
    {
     "name": "stdout",
     "output_type": "stream",
     "text": [
      "               time        long        lat   iter        depth          rA  \\\n",
      "873335   2017-01-01 -112.416656 -71.236565  89520  2112.985840  35524440.0   \n",
      "873336   2017-01-01 -112.416656 -71.182877  89520  2333.663330  35720748.0   \n",
      "873337   2017-01-01 -112.416656 -71.129051  89520  2333.341553  35917832.0   \n",
      "873338   2017-01-01 -112.416656 -71.075066  89520  2534.000000  36116372.0   \n",
      "873339   2017-01-01 -112.416656 -71.020935  89520  2694.713135  36315700.0   \n",
      "...             ...         ...        ...    ...          ...         ...   \n",
      "37709778 2017-01-30 -111.250000 -70.857651  91260  2534.000000  36919792.0   \n",
      "37709779 2017-01-30 -111.250000 -70.802925  91260  2420.000000  37122980.0   \n",
      "37709780 2017-01-30 -111.250000 -70.748047  91260  2334.835938  37327652.0   \n",
      "37709781 2017-01-30 -111.250000 -70.693016  91260  2360.987793  37533132.0   \n",
      "37709782 2017-01-30 -111.250000 -70.637840  91260  2534.000000  37739428.0   \n",
      "\n",
      "           iceArea  \n",
      "873335    0.592491  \n",
      "873336    0.621657  \n",
      "873337    0.637231  \n",
      "873338    0.640078  \n",
      "873339    0.650314  \n",
      "...            ...  \n",
      "37709778  0.000000  \n",
      "37709779  0.000000  \n",
      "37709780  0.000000  \n",
      "37709781  0.000000  \n",
      "37709782  0.000000  \n",
      "\n",
      "[2880 rows x 7 columns]\n",
      "0.24130179\n"
     ]
    }
   ],
   "source": [
    "ips = icePoints.query(\"lat >= @latMin & lat < @latMax & long >= @longMin & long < @longMax\")\n",
    "print(ips)\n",
    "print(ips['iceArea'].mean())"
   ]
  },
  {
   "cell_type": "code",
   "execution_count": null,
   "id": "de01f5ae-cefc-49e1-86df-23e045477c58",
   "metadata": {},
   "outputs": [],
   "source": []
  }
 ],
 "metadata": {
  "kernelspec": {
   "display_name": "Python 3 (ipykernel)",
   "language": "python",
   "name": "python3"
  },
  "language_info": {
   "codemirror_mode": {
    "name": "ipython",
    "version": 3
   },
   "file_extension": ".py",
   "mimetype": "text/x-python",
   "name": "python",
   "nbconvert_exporter": "python",
   "pygments_lexer": "ipython3",
   "version": "3.10.1"
  }
 },
 "nbformat": 4,
 "nbformat_minor": 5
}
