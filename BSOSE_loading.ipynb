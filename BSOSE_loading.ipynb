{
 "cells": [
  {
   "cell_type": "code",
   "execution_count": 36,
   "id": "833fcc4f-d466-436d-b082-e1fe886b0b1d",
   "metadata": {},
   "outputs": [],
   "source": [
    "import xarray as xr"
   ]
  },
  {
   "cell_type": "code",
   "execution_count": 37,
   "id": "97726e78-be31-4862-a041-b9bf09a50b56",
   "metadata": {},
   "outputs": [],
   "source": [
    "def loadIce(icePointsPath, startTime, endTime):\n",
    "    icePoints = xr.open_dataset(icePointsPath)\n",
    "    ipSlice = icePoints.sel(time=slice(startTime, endTime))\n",
    "    ipSlice = ipSlice.to_dataframe()\n",
    "    \n",
    "    ipSlice = ipSlice.reset_index()\n",
    "    ipSlice = ipSlice.rename(columns={'XC':'long', 'YC':'lat', 'Depth':'depth', 'SIarea':'iceArea'})\n",
    "    ipSlice['long'] = ipSlice['long'].apply(lambda x: x if x <= 180 else x - 360)\n",
    "  \n",
    "    return ipSlice"
   ]
  },
  {
   "cell_type": "code",
   "execution_count": 38,
   "id": "7069c93a-d625-4137-a78d-59d5d3e93220",
   "metadata": {},
   "outputs": [
    {
     "name": "stdout",
     "output_type": "stream",
     "text": [
      "               time      long        lat  iter        depth           rA  \\\n",
      "0        2013-01-01  0.083333 -77.982651  1860     0.000000   14884064.0   \n",
      "1        2013-01-01  0.083333 -77.947899  1860     0.000000   14969052.0   \n",
      "2        2013-01-01  0.083333 -77.913048  1860     0.000000   15054399.0   \n",
      "3        2013-01-01  0.083333 -77.878098  1860     0.000000   15140538.0   \n",
      "4        2013-01-01  0.083333 -77.843056  1860     0.000000   15226606.0   \n",
      "...             ...       ...        ...   ...          ...          ...   \n",
      "38102395 2013-01-30 -0.083313 -30.305382  3600  4520.000000  255916816.0   \n",
      "38102396 2013-01-30 -0.083313 -30.161386  3600  4287.402832  256665968.0   \n",
      "38102397 2013-01-30 -0.083313 -30.017181  3600  4520.000000  257415136.0   \n",
      "38102398 2013-01-30 -0.083313 -29.870987  3600  4798.514648  264528464.0   \n",
      "38102399 2013-01-30 -0.083313 -29.715317  3600  4736.891602  292099872.0   \n",
      "\n",
      "          iceArea  \n",
      "0             0.0  \n",
      "1             0.0  \n",
      "2             0.0  \n",
      "3             0.0  \n",
      "4             0.0  \n",
      "...           ...  \n",
      "38102395      0.0  \n",
      "38102396      0.0  \n",
      "38102397      0.0  \n",
      "38102398      0.0  \n",
      "38102399      0.0  \n",
      "\n",
      "[38102400 rows x 7 columns]\n"
     ]
    }
   ],
   "source": [
    "icePointsPath = \"data/bsose_i122_2013to2017_1day_SeaIceArea.nc\"\n",
    "\n",
    "startTime = '2013-01-01'\n",
    "endTime = '2013-01-30'\n",
    "\n",
    "icePoints = loadIce(icePointsPath, startTime, endTime)\n",
    "print(icePoints)"
   ]
  },
  {
   "cell_type": "code",
   "execution_count": 39,
   "id": "01863750-aa0c-4c06-8d92-1d68fd844800",
   "metadata": {},
   "outputs": [],
   "source": [
    "latMin = -71.875\n",
    "latMax = -71.25\n",
    "\n",
    "longMin = -107.5\n",
    "longMax = -106.25"
   ]
  },
  {
   "cell_type": "code",
   "execution_count": 41,
   "id": "29fbbcd3-a6b9-4f82-a068-6c71060d6c98",
   "metadata": {},
   "outputs": [
    {
     "name": "stdout",
     "output_type": "stream",
     "text": [
      "               time        long        lat  iter  depth          rA   iceArea\n",
      "890963   2013-01-01 -107.416656 -71.869362  1860  578.0  33248082.0  0.319354\n",
      "890964   2013-01-01 -107.416656 -71.817421  1860  578.0  33432678.0  0.315471\n",
      "890965   2013-01-01 -107.416656 -71.765343  1860  575.0  33618012.0  0.310211\n",
      "890966   2013-01-01 -107.416656 -71.713120  1860  628.0  33804088.0  0.299260\n",
      "890967   2013-01-01 -107.416656 -71.660751  1860  628.0  33990908.0  0.288391\n",
      "...             ...         ...        ...   ...    ...         ...       ...\n",
      "37726818 2013-01-30 -106.416656 -71.502777  3600  628.0  34558468.0  0.000000\n",
      "37726819 2013-01-30 -106.416656 -71.449829  3600  575.0  34749600.0  0.000000\n",
      "37726820 2013-01-30 -106.416656 -71.396736  3600  628.0  34942156.0  0.000000\n",
      "37726821 2013-01-30 -106.416656 -71.343491  3600  628.0  35135480.0  0.000000\n",
      "37726822 2013-01-30 -106.416656 -71.290100  3600  575.0  35329576.0  0.000000\n",
      "\n",
      "[2520 rows x 7 columns]\n",
      "0.022996336\n"
     ]
    }
   ],
   "source": [
    "ips = icePoints.query(\"lat >= @latMin & lat < @latMax & long >= @longMin & long < @longMax\")\n",
    "print(ips)\n",
    "print(ips['iceArea'].mean())"
   ]
  },
  {
   "cell_type": "code",
   "execution_count": null,
   "id": "de01f5ae-cefc-49e1-86df-23e045477c58",
   "metadata": {},
   "outputs": [],
   "source": []
  }
 ],
 "metadata": {
  "kernelspec": {
   "display_name": "Python 3 (ipykernel)",
   "language": "python",
   "name": "python3"
  },
  "language_info": {
   "codemirror_mode": {
    "name": "ipython",
    "version": 3
   },
   "file_extension": ".py",
   "mimetype": "text/x-python",
   "name": "python",
   "nbconvert_exporter": "python",
   "pygments_lexer": "ipython3",
   "version": "3.10.1"
  }
 },
 "nbformat": 4,
 "nbformat_minor": 5
}
