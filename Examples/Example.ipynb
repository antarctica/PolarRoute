{
 "cells": [
  {
   "cell_type": "code",
   "execution_count": null,
   "metadata": {},
   "outputs": [],
   "source": [
    "from polar_route.mesh import Mesh\n",
    "from polar_route.vessel_performance import VesselPerformance\n",
    "from polar_route.route_planner import RoutePlanner\n",
    "import json"
   ]
  },
  {
   "cell_type": "markdown",
   "metadata": {},
   "source": [
    "## Example - Running PolarRoute on a single waypoint pair"
   ]
  },
  {
   "cell_type": "markdown",
   "metadata": {},
   "source": [
    "The following section will take 2-4 mins to run"
   ]
  },
  {
   "cell_type": "code",
   "execution_count": null,
   "metadata": {},
   "outputs": [],
   "source": [
    "# Loading in the configuration information as a JSON\n",
    "with open('config.json', 'r') as f:\n",
    "    info = json.load(f)\n",
    "\n",
    "# Generating Mesh Environment\n",
    "cg = Mesh(info)\n",
    "info = cg.to_json()\n",
    "\n",
    "# Updating Mesh for Vessel Performance\n",
    "vp = VesselPerformance(info)\n",
    "info = vp.to_json()\n",
    "\n",
    "# Determining route paths\n",
    "rp = RoutePlanner(info)\n",
    "rp.compute_routes()\n",
    "rp.compute_smoothed_routes()\n",
    "info = rp.to_json()\n"
   ]
  },
  {
   "cell_type": "code",
   "execution_count": null,
   "metadata": {},
   "outputs": [],
   "source": [
    "info_dict = json.loads(info)\n",
    "info_dict"
   ]
  },
  {
   "cell_type": "code",
   "execution_count": null,
   "metadata": {},
   "outputs": [],
   "source": [
    "info_dict['paths']['features'][0]['properties']['times']"
   ]
  },
  {
   "cell_type": "markdown",
   "metadata": {},
   "source": [
    "## Plotting Information"
   ]
  },
  {
   "cell_type": "markdown",
   "metadata": {},
   "source": [
    "In plotting the information we leverage an external package called `GeoPlot`. Please find this software package at `https://github.com/antarctica/GeoPlot`"
   ]
  },
  {
   "cell_type": "code",
   "execution_count": null,
   "metadata": {},
   "outputs": [],
   "source": [
    "from geoplot.interactive import Map\n",
    "import pandas as pd\n",
    "\n",
    "config    = info_dict['config']\n",
    "mesh      = pd.DataFrame(info_dict['cellboxes'])\n",
    "paths     = info_dict['paths']\n",
    "waypoints = pd.DataFrame(info_dict['waypoints'])\n",
    "\n",
    "mp = Map(config,title='Example Test 1')\n",
    "mp.Maps(mesh,'SIC',predefined='SIC')\n",
    "mp.Maps(mesh,'Extreme Ice',predefined='Extreme Sea Ice Conc')\n",
    "mp.Maps(mesh,'Land Mask',predefined='Land Mask')\n",
    "mp.Paths(paths,'Routes',predefined='Route Traveltime Paths')\n",
    "mp.Points(waypoints,'Waypoints',names={\"font_size\":10.0})\n",
    "mp.MeshInfo(mesh,'Mesh Info',show=False)\n",
    "mp.show()"
   ]
  }
 ],
 "metadata": {
  "kernelspec": {
   "display_name": "Python 3.9.12 ('PolarRoute')",
   "language": "python",
   "name": "python3"
  },
  "language_info": {
   "codemirror_mode": {
    "name": "ipython",
    "version": 3
   },
   "file_extension": ".py",
   "mimetype": "text/x-python",
   "name": "python",
   "nbconvert_exporter": "python",
   "pygments_lexer": "ipython3",
   "version": "3.9.12"
  },
  "orig_nbformat": 4,
  "vscode": {
   "interpreter": {
    "hash": "4bf02af181198a345ba83d3ef7505d50bab1a7afc08199c4ea03a0b70bdefbb5"
   }
  }
 },
 "nbformat": 4,
 "nbformat_minor": 2
}
