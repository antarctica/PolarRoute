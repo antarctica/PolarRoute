{
 "cells": [
  {
   "cell_type": "code",
   "execution_count": 1,
   "metadata": {},
   "outputs": [
    {
     "ename": "SyntaxError",
     "evalue": "invalid syntax (CellGrid.py, line 261)",
     "output_type": "error",
     "traceback": [
      "Traceback \u001b[0;36m(most recent call last)\u001b[0m:\n",
      "  File \u001b[1;32m~/miniconda3/lib/python3.9/site-packages/IPython/core/interactiveshell.py:3251\u001b[0m in \u001b[1;35mrun_code\u001b[0m\n    exec(code_obj, self.user_global_ns, self.user_ns)\n",
      "  Input \u001b[1;32mIn [1]\u001b[0m in \u001b[1;35m<module>\u001b[0m\n    from RoutePlanner.TemporalCellGrid import TemporalCellGrid\n",
      "\u001b[0;36m  File \u001b[0;32m~/Documents/Research/Researcher_BAS/RoutePlanning/SDADT-pyRoutePlanner/RoutePlanner/TemporalCellGrid.py:3\u001b[0;36m in \u001b[0;35m<module>\u001b[0;36m\u001b[0m\n\u001b[0;31m    from RoutePlanner.CellGrid import CellGrid\u001b[0m\n",
      "\u001b[0;36m  File \u001b[0;32m~/Documents/Research/Researcher_BAS/RoutePlanning/SDADT-pyRoutePlanner/RoutePlanner/CellGrid.py:261\u001b[0;36m\u001b[0m\n\u001b[0;31m    else\u001b[0m\n\u001b[0m        ^\u001b[0m\n\u001b[0;31mSyntaxError\u001b[0m\u001b[0;31m:\u001b[0m invalid syntax\n"
     ]
    }
   ],
   "source": [
    "import pandas as pd\n",
    "import folium\n",
    "from RoutePlanner.IO import MeshDF \n",
    "from RoutePlanner.TemporalCellGrid import TemporalCellGrid"
   ]
  },
  {
   "cell_type": "code",
   "execution_count": null,
   "metadata": {},
   "outputs": [],
   "source": [
    "temporalCellGrid = TemporalCellGrid(X[0], X[1], Y[0], Y[1], d[0], d[1])\n",
    "temporalCellGrid.addIcePoints(iceDataPath, OptInfo['Start Time'], OptInfo['End Time'])\n",
    "temporalCellGrid.addCurrentPoints(currentDataPath)\n",
    "cellGrid = temporalCellGrid.getGrid(OptInfo['Start Time'])"
   ]
  }
 ],
 "metadata": {
  "interpreter": {
   "hash": "ebeb644e2445244fd83f2372b61cdfbd4ec5d19057e6ac47dc3e9373c1e79c40"
  },
  "kernelspec": {
   "display_name": "Python 3.9.5 ('base')",
   "language": "python",
   "name": "python3"
  },
  "language_info": {
   "codemirror_mode": {
    "name": "ipython",
    "version": 3
   },
   "file_extension": ".py",
   "mimetype": "text/x-python",
   "name": "python",
   "nbconvert_exporter": "python",
   "pygments_lexer": "ipython3",
   "version": "3.9.5"
  },
  "orig_nbformat": 4
 },
 "nbformat": 4,
 "nbformat_minor": 2
}
