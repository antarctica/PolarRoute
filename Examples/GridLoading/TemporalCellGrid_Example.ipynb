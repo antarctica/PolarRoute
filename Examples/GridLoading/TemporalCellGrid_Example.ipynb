{
 "cells": [
  {
   "cell_type": "code",
   "execution_count": 4,
   "id": "d5563a8e-ad6d-4a2d-a680-6f7ec0e44be6",
   "metadata": {},
   "outputs": [],
   "source": [
    "from RoutePlanner.TemporalCellGrid import TemporalCellGrid"
   ]
  },
  {
   "cell_type": "code",
   "execution_count": 5,
   "id": "069850bd-a6a9-4be9-85d9-6b8cf87f6e0b",
   "metadata": {},
   "outputs": [],
   "source": [
    "iceDataPath = \"../../Data/bsose_i122_2013to2017_1day_SeaIceArea.nc\""
   ]
  },
  {
   "cell_type": "code",
   "execution_count": 6,
   "id": "35d46b4c-f988-4dc2-b27c-b49eb808f770",
   "metadata": {},
   "outputs": [],
   "source": [
    "longMin    = 260\n",
    "longMax    = 360\n",
    "latMin     = -75\n",
    "latMax     = -40\n",
    "cellWidth  = 5\n",
    "cellHeight = 2.5\n",
    "\n",
    "temporalCellGrid = TemporalCellGrid(longMin, longMax, latMin, latMax, cellWidth, cellHeight)"
   ]
  },
  {
   "cell_type": "code",
   "execution_count": 8,
   "id": "4de08258",
   "metadata": {},
   "outputs": [],
   "source": [
    "temporalCellGrid.addIcePoints(iceDataPath)"
   ]
  },
  {
   "cell_type": "code",
   "execution_count": 1,
   "id": "d8ce2e83-101d-4ddc-89cf-1c879859505b",
   "metadata": {},
   "outputs": [
    {
     "ename": "NameError",
     "evalue": "name 'temporalCellGrid' is not defined",
     "output_type": "error",
     "traceback": [
      "\u001b[0;31m---------------------------------------------------------------------------\u001b[0m",
      "\u001b[0;31mNameError\u001b[0m                                 Traceback (most recent call last)",
      "\u001b[1;32m/Users/jsmith/Documents/Research/Researcher_BAS/RoutePlanning/SDADT-pyRoutePlanner/Examples/GridLoading/TemporalCellGrid_Example.ipynb Cell 1'\u001b[0m in \u001b[0;36m<module>\u001b[0;34m\u001b[0m\n\u001b[0;32m----> <a href='vscode-notebook-cell:/Users/jsmith/Documents/Research/Researcher_BAS/RoutePlanning/SDADT-pyRoutePlanner/Examples/GridLoading/TemporalCellGrid_Example.ipynb#ch0000000?line=0'>1</a>\u001b[0m singleGrid \u001b[39m=\u001b[39m temporalCellGrid\u001b[39m.\u001b[39mgetGrid(\u001b[39m'\u001b[39m\u001b[39m2013-03-01\u001b[39m\u001b[39m'\u001b[39m) \u001b[39m#create a cellGrid for 2013-03-01\u001b[39;00m\n\u001b[1;32m      <a href='vscode-notebook-cell:/Users/jsmith/Documents/Research/Researcher_BAS/RoutePlanning/SDADT-pyRoutePlanner/Examples/GridLoading/TemporalCellGrid_Example.ipynb#ch0000000?line=1'>2</a>\u001b[0m singleGrid\u001b[39m.\u001b[39mplot()\n",
      "\u001b[0;31mNameError\u001b[0m: name 'temporalCellGrid' is not defined"
     ]
    }
   ],
   "source": [
    "singleGrid = temporalCellGrid.getGrid('2013-03-01') #create a cellGrid for 2013-03-01\n",
    "singleGrid.plot()"
   ]
  },
  {
   "cell_type": "code",
   "execution_count": null,
   "id": "e45d0649-6820-4eef-8c8d-dbd99d2e50fb",
   "metadata": {},
   "outputs": [],
   "source": [
    "singleGrid.recursiveSplit(4)\n",
    "singleGrid.plot()"
   ]
  },
  {
   "cell_type": "code",
   "execution_count": null,
   "id": "4d7e7998-4cb8-401e-9ca5-52a077920769",
   "metadata": {},
   "outputs": [],
   "source": [
    "averageGrid = temporalCellGrid.getMeanGrid('2013-03-01', '2013-03-28') #create a grid with mean data between 2013-03-01 and 2013-03-28\n",
    "averageGrid.plot()"
   ]
  },
  {
   "cell_type": "code",
   "execution_count": null,
   "id": "f06b94e7-6c63-450b-a500-2e552a8f03a4",
   "metadata": {},
   "outputs": [],
   "source": [
    "averageGrid.recursiveSplit(4)\n",
    "averageGrid.plot()"
   ]
  }
 ],
 "metadata": {
  "kernelspec": {
   "display_name": "Python 3 (ipykernel)",
   "language": "python",
   "name": "python3"
  },
  "language_info": {
   "codemirror_mode": {
    "name": "ipython",
    "version": 3
   },
   "file_extension": ".py",
   "mimetype": "text/x-python",
   "name": "python",
   "nbconvert_exporter": "python",
   "pygments_lexer": "ipython3",
   "version": "3.9.5"
  }
 },
 "nbformat": 4,
 "nbformat_minor": 5
}
