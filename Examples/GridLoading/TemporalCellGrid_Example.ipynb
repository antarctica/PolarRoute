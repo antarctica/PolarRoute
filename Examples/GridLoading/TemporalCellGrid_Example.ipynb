{
 "cells": [
  {
   "cell_type": "code",
   "execution_count": 9,
   "id": "d5563a8e-ad6d-4a2d-a680-6f7ec0e44be6",
   "metadata": {},
   "outputs": [],
   "source": [
    "import pandas as pd\n",
    "from RoutePlanner.CellGrid import CellGrid\n",
    "from matplotlib import pyplot as plt\n",
    "import xarray as xr\n",
    "import netCDF4 as nc\n",
    "import datetime\n",
    "from RoutePlanner.TemporalCellGrid import TemporalCellGrid\n",
    "import matplotlib.pyplot as plt"
   ]
  },
  {
   "cell_type": "code",
   "execution_count": 5,
   "id": "069850bd-a6a9-4be9-85d9-6b8cf87f6e0b",
   "metadata": {},
   "outputs": [],
   "source": [
    "iceDataPath = \"Data/bsose_i122_2013to2017_1day_SeaIceArea.nc\"\n",
    "currentDataPath = \"Data/SOSE_surface_velocity_6yearMean_2005-2010.nc\""
   ]
  },
  {
   "cell_type": "code",
   "execution_count": 6,
   "id": "35d46b4c-f988-4dc2-b27c-b49eb808f770",
   "metadata": {},
   "outputs": [],
   "source": [
    "longMin    = 230\n",
    "longMax    = 360\n",
    "latMin     = -80\n",
    "latMax     = -40\n",
    "cellWidth  = 5\n",
    "cellHeight = 2.5\n",
    "\n",
    "temporalCellGrid = TemporalCellGrid(longMin, longMax, latMin, latMax, cellWidth, cellHeight)\n",
    "temporalCellGrid.addIcePoints(iceDataPath, '2015-10-01', '2015-10-31')\n",
    "temporalCellGrid.addCurrentPoints(currentDataPath)"
   ]
  },
  {
   "cell_type": "code",
   "execution_count": 1,
   "id": "d8ce2e83-101d-4ddc-89cf-1c879859505b",
   "metadata": {},
   "outputs": [
    {
     "ename": "NameError",
     "evalue": "name 'temporalCellGrid' is not defined",
     "output_type": "error",
     "traceback": [
      "\u001b[0;31m---------------------------------------------------------------------------\u001b[0m",
      "\u001b[0;31mNameError\u001b[0m                                 Traceback (most recent call last)",
      "\u001b[1;32m/Users/jsmith/Documents/Research/Researcher_BAS/RoutePlanning/SDADT-pyRoutePlanner/Examples/GridLoading/TemporalCellGrid_Example.ipynb Cell 1'\u001b[0m in \u001b[0;36m<module>\u001b[0;34m\u001b[0m\n\u001b[0;32m----> <a href='vscode-notebook-cell:/Users/jsmith/Documents/Research/Researcher_BAS/RoutePlanning/SDADT-pyRoutePlanner/Examples/GridLoading/TemporalCellGrid_Example.ipynb#ch0000000?line=0'>1</a>\u001b[0m singleGrid \u001b[39m=\u001b[39m temporalCellGrid\u001b[39m.\u001b[39mgetGrid(\u001b[39m'\u001b[39m\u001b[39m2013-03-01\u001b[39m\u001b[39m'\u001b[39m) \u001b[39m#create a cellGrid for 2013-03-01\u001b[39;00m\n\u001b[1;32m      <a href='vscode-notebook-cell:/Users/jsmith/Documents/Research/Researcher_BAS/RoutePlanning/SDADT-pyRoutePlanner/Examples/GridLoading/TemporalCellGrid_Example.ipynb#ch0000000?line=1'>2</a>\u001b[0m singleGrid\u001b[39m.\u001b[39mplot()\n",
      "\u001b[0;31mNameError\u001b[0m: name 'temporalCellGrid' is not defined"
     ]
    }
   ],
   "source": [
    "cellGrid = temporalCellGrid.getGrid('2015-10-06')\n",
    "cellGrid.plot()"
   ]
  },
  {
   "cell_type": "code",
   "execution_count": null,
   "id": "e45d0649-6820-4eef-8c8d-dbd99d2e50fb",
   "metadata": {},
   "outputs": [],
   "source": [
    "indx = 0\n",
    "for cellGrid in cellGrids:\n",
    "    indx = indx + 1\n",
    "    cellGrid.recursiveSplit(3)\n",
    "    cellGrid.plot()\n",
    "    plt.savefig(\"plots/2014/cellGrid_\" + str(indx) + \".png\")"
   ]
  },
  {
   "cell_type": "code",
   "execution_count": null,
   "id": "124c2786-f15f-4557-848d-5533159e1dd8",
   "metadata": {},
   "outputs": [],
   "source": []
  }
 ],
 "metadata": {
  "kernelspec": {
   "display_name": "Python 3 (ipykernel)",
   "language": "python",
   "name": "python3"
  },
  "language_info": {
   "codemirror_mode": {
    "name": "ipython",
    "version": 3
   },
   "file_extension": ".py",
   "mimetype": "text/x-python",
   "name": "python",
   "nbconvert_exporter": "python",
   "pygments_lexer": "ipython3",
   "version": "3.9.5"
  }
 },
 "nbformat": 4,
 "nbformat_minor": 5
}
