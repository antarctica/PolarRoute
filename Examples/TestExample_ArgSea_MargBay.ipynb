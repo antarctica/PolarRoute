{
 "cells": [
  {
   "cell_type": "markdown",
   "metadata": {},
   "source": [
    " Please run the JSON creators found in PreProcessing folder or download an example by runnnig the commeted code below"
   ]
  },
  {
   "cell_type": "code",
   "execution_count": 1,
   "metadata": {},
   "outputs": [],
   "source": [
    "# from google_drive_downloader import GoogleDriveDownloader as gdd\n",
    "# gdd.download_file_from_google_drive(file_id='1lDGIkS7QDy7mUDStDtb_fhMR5euF2R6v',dest_path='../resources/icepoints2019-02-08.json')\n",
    "# gdd.download_file_from_google_drive(file_id='1qgePy_WsVN924fdJhnvcMpqCCRfvUC9i',dest_path='../resources/currentPoints.json')"
   ]
  },
  {
   "cell_type": "code",
   "execution_count": 2,
   "metadata": {},
   "outputs": [],
   "source": [
    "import pandas as pd\n",
    "from RoutePlanner.CellGrid import CellGrid\n",
    "\n",
    "#read in Ice  & Currents Points\n",
    "icePoints     = pd.read_json('../resources/icepoints2019-02-08.json')\n",
    "icePoints     = pd.DataFrame.from_records(icePoints.icepoints)\n",
    "currentPoints = pd.read_json('../resources/currentPoints.json')\n",
    "currentPoints = pd.DataFrame.from_records(currentPoints.currentPoints)"
   ]
  },
  {
   "cell_type": "code",
   "execution_count": null,
   "metadata": {},
   "outputs": [],
   "source": [
    "longMin    = 260\n",
    "longMax    = 360\n",
    "latMin     = -75\n",
    "latMax     = -40\n",
    "cellWidth  = 5\n",
    "cellHeight = 2.5"
   ]
  },
  {
   "cell_type": "code",
   "execution_count": null,
   "metadata": {},
   "outputs": [],
   "source": [
    "cellGrid = CellGrid(longMin, longMax, latMin, latMax, cellWidth, cellHeight)\n",
    "cellGrid.addIcePoints(icePoints)\n",
    "cellGrid.addCurrentPoints(currentPoints)\n",
    "#cellGrid.recursiveSplit(3)\n",
    "cellGrid.plot()"
   ]
  },
  {
   "cell_type": "code",
   "execution_count": null,
   "metadata": {},
   "outputs": [],
   "source": [
    "from RoutePlanner.Optimisation import TravelTime\n",
    "OptInfo = {}\n",
    "OptInfo['WayPoints']            = pd.read_csv('../resources/WayPoints_TestExample.csv') \n",
    "OptInfo['MaxIceExtent']         = 0.8\n",
    "OptInfo['VehicleInfo']          = {}\n",
    "OptInfo['VehicleInfo']['Speed'] = 26.3 #Units km/hr"
   ]
  },
  {
   "cell_type": "code",
   "execution_count": null,
   "metadata": {},
   "outputs": [],
   "source": [
    "TT = TravelTime(cellGrid,OptInfo)\n",
    "TT.Dijkstra(verbrose=True)"
   ]
  },
  {
   "cell_type": "code",
   "execution_count": null,
   "metadata": {},
   "outputs": [],
   "source": [
    "# Loading Ground Truth & Comparing\n",
    "GT = pd.read_csv('../resources/TestExample_GroundTruth.csv')\n",
    "GT['Long'] = GT['Long']+360\n",
    "ax = TT.PlotPaths(waypoints=['ArgentineSea'])\n",
    "ax.plot(GT['Long'],GT['Lat'],'r')"
   ]
  },
  {
   "cell_type": "code",
   "execution_count": null,
   "metadata": {},
   "outputs": [],
   "source": [
    "import numpy as np\n",
    "import matplotlib.pylab as plt\n",
    "Waypoint = 'MargueriteBay'\n",
    "\n",
    "font = {'family': 'serif',\n",
    "        'color':  'darkred',\n",
    "        'weight': 'normal',\n",
    "        'size': 10,\n",
    "        }\n",
    "\n",
    "ax = TT.PlotPaths(waypoints=[Waypoint])\n",
    "for idx,cellInfo in TT.DijkstraInfo[Waypoint]['Info'].iterrows():\n",
    "    if cellInfo['TotalCost'] == np.inf:\n",
    "        continue\n",
    "    cell = cellGrid.cellBoxes[cellInfo['CellIndex']]\n",
    "    quad = ax.scatter(cell.cx,cell.cy,150,cellInfo['TotalCost'],vmin=0,vmax=TT.DijkstraInfo[Waypoint]['Info']['TotalCost'][TT.DijkstraInfo[Waypoint]['Info']['TotalCost'] != np.inf].max())\n",
    "\n",
    "\n",
    "    ax.text(cell.cx,cell.cy,'{:.2f}'.format(cellInfo['TotalCost']),color='k',zorder=100,fontdict=font)\n",
    "plt.colorbar(quad,ax=ax,label='TravelTime')\n",
    "ax.plot(GT['Long'],GT['Lat'],'r')"
   ]
  }
 ],
 "metadata": {
  "interpreter": {
   "hash": "7de2b6b4bb82c77043d8caae972bd03214c1f786691bda45cba0f82cc6b120ac"
  },
  "kernelspec": {
   "display_name": "Python 3.9.5 64-bit ('base': conda)",
   "language": "python",
   "name": "python3"
  },
  "language_info": {
   "codemirror_mode": {
    "name": "ipython",
    "version": 3
   },
   "file_extension": ".py",
   "mimetype": "text/x-python",
   "name": "python",
   "nbconvert_exporter": "python",
   "pygments_lexer": "ipython3",
   "version": "3.9.5"
  },
  "orig_nbformat": 4
 },
 "nbformat": 4,
 "nbformat_minor": 2
}
