{
 "cells": [
  {
   "cell_type": "code",
   "execution_count": 1,
   "metadata": {},
   "outputs": [],
   "source": [
    "import pandas as pd\n",
    "from RoutePlanner.CellGrid import CellGrid\n",
    "from RoutePlanner.IO import LoadIcePoints, LoadCurrentPoints\n",
    "from RoutePlanner.Optimisation import TravelTime"
   ]
  },
  {
   "cell_type": "code",
   "execution_count": 2,
   "metadata": {},
   "outputs": [],
   "source": [
    "OptInfo = {}\n",
    "OptInfo['Bounds Longitude']     = [230,360]\n",
    "OptInfo['Bounds Latitude']      = [-80,-40]\n",
    "OptInfo['Grid Spacing (dx,dy)'] = [5,2.5]\n",
    "OptInfo['Start Time']           = '2017-05-01'\n",
    "OptInfo['End Time']             = '2017-06-01'\n",
    "OptInfo['WayPoints']            = pd.read_csv('../../resources/WayPoints_TestExample3.csv') \n",
    "OptInfo['MaxIceExtent']         = 0.8\n",
    "OptInfo['Zero Currents']        = False\n",
    "OptInfo['VariableSpeed']        = False\n",
    "OptInfo['Time Unit']            = 'days'\n",
    "OptInfo['VehicleInfo']          = {}\n",
    "OptInfo['VehicleInfo']['Speed'] = 26.3\n",
    "OptInfo['VehicleInfo']['Unit']  = 'km/hr'\n",
    "OptInfo['Start Waypoints']      = None"
   ]
  },
  {
   "cell_type": "code",
   "execution_count": 37,
   "metadata": {},
   "outputs": [],
   "source": [
    "icePoints     = LoadIcePoints('../../Data/bsose_i122_2013to2017_1day_SeaIceArea.nc',OptInfo['Start Time'],OptInfo['End Time'])\n",
    "currentPoints = LoadCurrentPoints('../../Data/SOSE_surface_velocity_6yearMean_2005-2010.nc')\n",
    "\n",
    "cellGrid = CellGrid(OptInfo)\n",
    "cellGrid.addIcePoints(icePoints)\n",
    "cellGrid.addCurrentPoints(currentPoints)\n",
    "cellGrid.recursiveSplit(2)"
   ]
  },
  {
   "cell_type": "code",
   "execution_count": 39,
   "metadata": {},
   "outputs": [],
   "source": [
    "Org = [303.5,-65.5]"
   ]
  },
  {
   "cell_type": "code",
   "execution_count": 96,
   "metadata": {},
   "outputs": [],
   "source": [
    "\n",
    "\n",
    "def RandomPointSurface(cell,type):\n",
    "    # Random coordinates [b,a) uniform distributed\n",
    "    coordy = (cell.height) *  np.random.random_sample((1,)) + cell.lat # generate random y\n",
    "    coordx = (cell.width) *  np.random.random_sample((1,)) + cell.long # generate random x\n",
    "    if type == 'bottom':\n",
    "        coordy = cell.lat\n",
    "    if type == 'top':\n",
    "        coordy = cell.lat + cell.height\n",
    "    if type == 'left':\n",
    "        coordx = cell.long\n",
    "    if type == 'right':\n",
    "        coordx = cell.long + cell.width\n",
    "    return coordx,coordy\n",
    "\n",
    "def CornerCells(Cell_s,Cells):\n",
    "    cornerCells = []\n",
    "    Cps = []   \n",
    "    for cell in Cells:\n",
    "        a = np.array(Cell_s.getBounds())\n",
    "        b = np.array(cell.getBounds())\n",
    "        df_x = (cell.long+cell.width/2) -  (Cell_s.long+Cell_s.width/2)\n",
    "        df_y = (cell.lat+cell.height/2) -  (Cell_s.lat+Cell_s.height/2)\n",
    "        cornerBool = (abs(df_x) >= Cell_s.width/2) and (abs(df_y) >= Cell_s.height/2) and (abs(df_x) >= cell.width/2) & (abs(df_y) >= cell.height/2)\n",
    "        c = np.array([x for x in set([tuple(x) for x in a]) & set([tuple(x) for x in b])])\n",
    "        if (c.shape[0] == 1) & (cornerBool):\n",
    "            cornerCells.append(cell)\n",
    "            Cps.append(c)        \n",
    "    return cornerCells,Cps\n",
    "\n",
    "\n",
    "Cell_s     = cellGrid.getCellBox(Org[1],Org[0])\n",
    "Cells,indx = cellGrid.getNeightbours(Cell_s)\n",
    "Cells,Cps = CornerCells(Cell_s,Cells)"
   ]
  },
  {
   "cell_type": "code",
   "execution_count": 190,
   "metadata": {},
   "outputs": [],
   "source": [
    "rndCell_idx = random.choice(range(len(Cells)))\n",
    "rndCell = Cells[rndCell_idx]"
   ]
  },
  {
   "cell_type": "code",
   "execution_count": 191,
   "metadata": {},
   "outputs": [],
   "source": [
    "Spx,Spy = RandomPointSurface(Cell_s,'bottom')\n",
    "Npx,Npy = RandomPointSurface(rndCell,'top')"
   ]
  },
  {
   "cell_type": "code",
   "execution_count": 192,
   "metadata": {},
   "outputs": [
    {
     "data": {
      "text/plain": [
       "<matplotlib.collections.PathCollection at 0x7fe175259e80>"
      ]
     },
     "execution_count": 192,
     "metadata": {},
     "output_type": "execute_result"
    },
    {
     "data": {
      "image/png": "[encoded data removed]",
      "text/plain": [
       "<Figure size 1080x720 with 1 Axes>"
      ]
     },
     "metadata": {},
     "output_type": "display_data"
    }
   ],
   "source": [
    "import matplotlib.pylab as plt\n",
    "from matplotlib.patches import Polygon\n",
    "import numpy as np\n",
    "import random\n",
    "\n",
    "fig,ax = plt.subplots(1,1,figsize=(15,10))\n",
    "fig.patch.set_facecolor('white')\n",
    "ax.set_facecolor('lightblue')\n",
    "ax.patch.set_alpha(1.0)\n",
    "bounds=[]\n",
    "ax.add_patch(Cell_s.getHighlight())\n",
    "for cellBox in Cells:\n",
    "    bounds.append([cellBox.long,cellBox.lat])\n",
    "    bounds.append([cellBox.long+cellBox.width,cellBox.lat+cellBox.height])\n",
    "    ax.add_patch(cellBox.getHighlight())\n",
    "bounds = np.array(bounds)\n",
    "ax.set_xlim([bounds[:,0].min(),bounds[:,0].max()])\n",
    "ax.set_ylim([bounds[:,1].min(),bounds[:,1].max()])\n",
    "\n",
    "ax.scatter(Spx,Spy,15,'r')\n",
    "ax.scatter(Npx,Npy,15,'b')\n",
    "ax.plot([Spx,Npx],[Spy,Npy],'--k')\n",
    "\n",
    "ax.scatter(Cps[rndCell_idx][:,0],Cps[rndCell_idx][:,1],15,'m')\n"
   ]
  },
  {
   "cell_type": "code",
   "execution_count": 193,
   "metadata": {},
   "outputs": [
    {
     "name": "stdout",
     "output_type": "stream",
     "text": [
      "--Corner Case TopRight: Xs=[303.23,-66.25]; Xc=[305.00,-65.00]; Xe=[308.85,-62.50];\n",
      "----- df_x=3.75, df_y=1.875\n",
      "---- Ye=-62.5; Y_line=-62.282441732399064\n",
      "-- Corner Cells=[[908.     307.5    -66.25  ]\n",
      " [850.     304.375  -64.6875]]\n"
     ]
    }
   ],
   "source": [
    "import math\n",
    "def sign(x):\n",
    "    s = math.copysign(1, x)\n",
    "    return s   \n",
    "\n",
    "debugging = 1 \n",
    "\n",
    "\n",
    "df_x = (rndCell.long+rndCell.width/2) -  (Cell_s.long+Cell_s.width/2)\n",
    "df_y = abs((rndCell.lat+rndCell.height/2) -  (Cell_s.lat+Cell_s.height/2))\n",
    "\n",
    "\n",
    "# Defining the lat/long of the points\n",
    "Xs = Spx[0]\n",
    "Ys = Spy\n",
    "Xc = Cps[rndCell_idx][:,0]\n",
    "Yc = Cps[rndCell_idx][:,1]\n",
    "Xe = Npx[0]\n",
    "Ye = Npy\n",
    "\n",
    "# Correcting corner point\n",
    "a = np.array(Cell_s.getBounds())\n",
    "b = np.array(rndCell.getBounds())\n",
    "c = np.array([x for x in set([tuple(x) for x in a]) & set([tuple(x) for x in b])])\n",
    "Xc=c[0,0]; Yc=c[0,1]\n",
    "\n",
    "# # Determine the intersection point on the edge where end_p is assuming a straight path through corner\n",
    "Y_line = ((Yc-Ys)/(Xc-Xs))*(Xe-Xs) + Ys\n",
    "\n",
    "# Determining the cells in contact with the corner point\n",
    "CornerCells = []\n",
    "neighbours,neighbours_idx = cellGrid.getNeightbours(Cell_s)\n",
    "for idx in neighbours_idx:\n",
    "    cell = cellGrid.cellBoxes[idx]\n",
    "    if ((((np.array(cell.getBounds()) - np.array([Xc,Yc])[None,:])**2).sum(axis=1)) == 0).any() and (cell.containsPoint(Ye,Xe) != True):\n",
    "        CornerCells.append([idx,cell.long+cell.width/2,cell.lat+cell.height/2]) \n",
    "CornerCells = np.array(CornerCells)\n",
    "\n",
    "# ====== Determining the crossing points & their corresponding index\n",
    "# Case 1 - Top Right\n",
    "if (sign(df_x) == 1) and (sign(df_y) == 1):\n",
    "    if debugging>=1:\n",
    "        print('--Corner Case TopRight: Xs=[{:.2f},{:.2f}]; Xc=[{:.2f},{:.2f}]; Xe=[{:.2f},{:.2f}];'.format(Xs,Ys,Xc,Yc,Xe,Ye))   \n",
    "        print('----- df_x={}, df_y={}'.format(df_x,df_y))\n",
    "        print('---- Ye={}; Y_line={}'.format(Ye,Y_line))\n",
    "        print('-- Corner Cells={}'.format(CornerCells))\n",
    "\n",
    "    if Ye >= Y_line:\n",
    "        idx           = int(CornerCells[CornerCells[:,1].argmin(),0])\n",
    "        cell          = cellGrid.cellBoxes[idx]\n",
    "\n",
    "\n",
    "        \n",
    "        Crp1_x,Crp1_y = cell.long+cell.width/2, cell.lat\n",
    "        Crp2_x,Crp2_y = cell.long+cell.width, cell.lat+cell.height/2\n",
    "    elif Ye < Y_line:\n",
    "        idx           = int(CornerCells[CornerCells[:,1].argmax(),0])\n",
    "        cell          = cellGrid.cellBoxes[idx]\n",
    "        Crp1_x,Crp1_y = cell.long, cell.lat+cell.height/2\n",
    "        Crp2_x,Crp2_y = cell.long+cell.width/2, cell.lat+cell.height\n",
    "\n",
    "# Case -3 - Top Left\n",
    "if (np.sign(df_x) == -1) and (np.sign(df_y) == 1):\n",
    "    if debugging>=1:\n",
    "        print('--Corner Case TopLeft: Xs=[{:.2f},{:.2f}]; Xc=[{:.2f},{:.2f}]; Xe=[{:.2f},{:.2f}];'.format(Xs,Ys,Xc,Yc,Xe,Ye))   \n",
    "        print('----- df_x={}, df_y={}'.format(df_x,df_y))\n",
    "        print('---- Ye={}; Y_line={}'.format(Ye,Y_line))\n",
    "        print('-- Corner Cells={}'.format(CornerCells)) \n",
    "\n",
    "    if Ye <= Y_line:\n",
    "        idx  = int(CornerCells[CornerCells[:,1].argmin(),0])\n",
    "        cell = cellGrid.cellBoxes[idx]\n",
    "        Crp1_x,Crp1_y = cell.long + cell.width, cell.lat+cell.height/2\n",
    "        Crp2_x,Crp2_y = cell.long+cell.width/2, cell.lat+cell.height\n",
    "\n",
    "    elif Ye > Y_line:\n",
    "        idx  = int(CornerCells[CornerCells[:,1].argmax(),0])\n",
    "        cell = cellGrid.cellBoxes[idx]\n",
    "        Crp1_x,Crp1_y = cell.long+cell.width/2, cell.lat \n",
    "        Crp2_x,Crp2_y = cell.long, cell.lat+cell.height/2\n",
    "\n",
    "# Case -1 - Bottom Left\n",
    "if (np.sign(df_x) == -1) and (np.sign(df_y) == -1):\n",
    "    if debugging>=1:\n",
    "        print('--Corner Case BottomLeft: Xs=[{:.2f},{:.2f}]; Xc=[{:.2f},{:.2f}]; Xe=[{:.2f},{:.2f}];'.format(Xs,Ys,Xc,Yc,Xe,Ye))   \n",
    "        print('----- df_x={}, df_y={}'.format(df_x,df_y)) \n",
    "        print('---- Ye={}; Y_line={}'.format(Ye,Y_line))\n",
    "        print('-- Corner Cells={}'.format(CornerCells))\n",
    "\n",
    "    if Ye >= Y_line:\n",
    "        idx  = int(CornerCells[CornerCells[:,1].argmin(),0])\n",
    "        cell = cellGrid.cellBoxes[idx]\n",
    "        Crp1_x,Crp1_y = cell.long+cell.width, cell.lat+cell.height/2 \n",
    "        Crp2_x,Crp2_y = cell.long+cell.width/2, cell.lat \n",
    "    elif Ye < Y_line:\n",
    "        idx  = int(CornerCells[CornerCells[:,1].argmax(),0])\n",
    "        cell = cellGrid.cellBoxes[idx]\n",
    "        Crp1_x,Crp1_y = cell.long + cell.width, cell.lat+cell.height/2\n",
    "        Crp2_x,Crp2_y = cell.long + cell.width/2, cell.lat\n",
    "\n",
    "# Case 3 - Bottom Right\n",
    "if (np.sign(df_x) == 1) and (np.sign(df_y) == -1):\n",
    "    if debugging>=1:\n",
    "        print('--Corner Case BottomRight: Xs=[{:.2f},{:.2f}]; Xc=[{:.2f},{:.2f}]; Xe=[{:.2f},{:.2f}];'.format(Xs,Ys,Xc,Yc,Xe,Ye))   \n",
    "        print('----- df_x={}, df_y={}'.format(df_x,df_y))\n",
    "        print('---- Ye={}; Y_line={}'.format(Ye,Y_line))\n",
    "        print('-- Corner Cells={}'.format(CornerCells)) \n",
    "\n",
    "    if Ye >= Y_line:\n",
    "        idx  = int(CornerCells[CornerCells[:,1].argmax(),0])\n",
    "        cell = cellGrid.cellBoxes[idx]\n",
    "        Crp1_x,Crp1_y = cell.long, cell.lat+cell.height/2\n",
    "        Crp2_x,Crp2_y = cell.long+cell.width/2, cell.lat\n",
    "\n",
    "    elif Ye < Y_line:\n",
    "        idx  = int(CornerCells[CornerCells[:,1].argmin(),0])\n",
    "        cell = cellGrid.cellBoxes[idx]\n",
    "        Crp1_x,Crp1_y = cell.long + cell.width/2, cell.lat+cell.height\n",
    "        Crp2_x,Crp2_y = cell.long + cell.width, cell.lat+cell.height/2\n"
   ]
  },
  {
   "cell_type": "code",
   "execution_count": 210,
   "metadata": {},
   "outputs": [
    {
     "data": {
      "text/plain": [
       "[<matplotlib.lines.Line2D at 0x7fe1521508b0>]"
      ]
     },
     "execution_count": 210,
     "metadata": {},
     "output_type": "execute_result"
    },
    {
     "data": {
      "image/png": "[encoded data removed]",
      "text/plain": [
       "<Figure size 1080x720 with 1 Axes>"
      ]
     },
     "metadata": {},
     "output_type": "display_data"
    }
   ],
   "source": [
    "import matplotlib.pylab as plt\n",
    "from matplotlib.patches import Polygon\n",
    "import numpy as np\n",
    "import random\n",
    "\n",
    "fig,ax = plt.subplots(1,1,figsize=(15,10))\n",
    "fig.patch.set_facecolor('white')\n",
    "ax.set_facecolor('lightblue')\n",
    "ax.patch.set_alpha(1.0)\n",
    "bounds=[]\n",
    "ax.add_patch(Cell_s.getHighlight())\n",
    "for cellBox in Cells:\n",
    "    bounds.append([cellBox.long,cellBox.lat])\n",
    "    bounds.append([cellBox.long+cellBox.width,cellBox.lat+cellBox.height])\n",
    "    ax.add_patch(cellBox.getHighlight())\n",
    "bounds = np.array(bounds)\n",
    "ax.set_xlim([bounds[:,0].min(),bounds[:,0].max()])\n",
    "ax.set_ylim([bounds[:,1].min(),bounds[:,1].max()])\n",
    "\n",
    "\n",
    "ax.scatter(Spx,Spy,15,'r')\n",
    "ax.scatter(Npx,Npy,15,'b')\n",
    "ax.scatter(Cps[rndCell_idx][:,0],Cps[rndCell_idx][:,1],15,'m')\n",
    "ax.scatter(Crp1_x,Crp1_y,15,'c')\n",
    "ax.scatter(Crp2_x,Crp2_y,15,'c')\n",
    "\n",
    "\n",
    "\n",
    "CornerCell = [cell.long+cell.width/2,cell.lat+cell.height/2]\n",
    "Box1_c     = [Cell_s.long+Cell_s.width/2,Cell_s.lat+Cell_s.height/2]\n",
    "Box2_c     = [rndCell.long+rndCell.width/2,rndCell.lat+rndCell.height/2]\n",
    "\n",
    "ax.scatter(CornerCell[0],CornerCell[1],15,'k')\n",
    "ax.scatter(Box1_c[0],Box1_c[1],15,'k')\n",
    "ax.scatter(Box2_c[0],Box2_c[1],15,'k')\n",
    "\n",
    "ax.plot([Box1_c[0],CornerCell[0]],[Box1_c[1],CornerCell[1]],'--k')\n",
    "ax.plot([Box2_c[0],CornerCell[0]],[Box2_c[1],CornerCell[1]],'--k')\n"
   ]
  },
  {
   "cell_type": "code",
   "execution_count": 122,
   "metadata": {},
   "outputs": [
    {
     "data": {
      "text/plain": [
       "-66.25"
      ]
     },
     "execution_count": 122,
     "metadata": {},
     "output_type": "execute_result"
    }
   ],
   "source": [
    "def Intersection_BoxLine(Line,Cell_s,Cell_n,type):\n",
    "\n",
    "    X1,Y1 = Cell_s.long+Cell_s.width/2,Cell_s.lat+Cell_s.height/2\n",
    "    X2,Y2 = Cell_n.long+Cell_n.width/2,Cell_n.lat+Cell_n.height/2\n",
    "    \n",
    "    if type == 'right':\n",
    "        X3,Y3 = Cell_s.long+Cell_s.width,Cell_s.lat\n",
    "        X4,Y4 = Cell_s.long+Cell_s.width,Cell_s.lat+Cell_s.height\n",
    "    \n",
    "    D  = (X1-X2)*(Y3-Y4) - (Y1-Y2)*(X3-X4)\n",
    "    Px = ((X1*Y2 - Y1*X2)*(X3-X4) - (X1-X2)*(X3*Y4-Y3*X4))/D\n",
    "    Py = ((X1*Y2-Y1*X2)*(Y3-Y4)-(Y1-Y2)*(X3*Y4-Y3*X4))/D\n",
    "    return Px,Py\n"
   ]
  },
  {
   "cell_type": "code",
   "execution_count": 58,
   "metadata": {},
   "outputs": [],
   "source": [
    "def Intersection_BoxLine(Cell_s,Cell_n,type,debugging=1):\n",
    "    X1,Y1 = Cell_s.long+Cell_s.width/2,Cell_s.lat+Cell_s.height/2\n",
    "    X2,Y2 = Cell_n.long+Cell_n.width/2,Cell_n.lat+Cell_n.height/2\n",
    "    if type == 'right':\n",
    "        X3,Y3 = Cell_s.long+Cell_s.width,Cell_s.lat\n",
    "        X4,Y4 = Cell_s.long+Cell_s.width,Cell_s.lat+Cell_s.height\n",
    "    if type == 'top':\n",
    "        X3,Y3 = Cell_s.long,Cell_s.lat+Cell_s.height\n",
    "        X4,Y4 = Cell_s.long+Cell_s.width,Cell_s.lat+Cell_s.height\n",
    "    if type == 'left':\n",
    "        X3,Y3 = Cell_s.long,Cell_s.lat\n",
    "        X4,Y4 = Cell_s.long,Cell_s.lat+Cell_s.height\n",
    "    if type == 'bottom':\n",
    "        X3,Y3 = Cell_s.long,Cell_s.lat\n",
    "        X4,Y4 = Cell_s.long+Cell_s.width,Cell_s.lat\n",
    "    D  = (X1-X2)*(Y3-Y4) - (Y1-Y2)*(X3-X4)\n",
    "    \n",
    "\n",
    "    Px = ((X1*Y2 - Y1*X2)*(X3-X4) - (X1-X2)*(X3*Y4-Y3*X4))/D\n",
    "    Py = ((X1*Y2-Y1*X2)*(Y3-Y4)-(Y1-Y2)*(X3*Y4-Y3*X4))/D\n",
    "\n",
    "    if debugging > 0:\n",
    "        print(D,Px,Py)\n",
    "    return Px,Py\n",
    "\n",
    "\n",
    "\n"
   ]
  },
  {
   "cell_type": "code",
   "execution_count": 203,
   "metadata": {},
   "outputs": [
    {
     "data": {
      "text/plain": [
       "-0.16514867741462683"
      ]
     },
     "execution_count": 203,
     "metadata": {},
     "output_type": "execute_result"
    }
   ],
   "source": [
    "\n",
    "\n"
   ]
  },
  {
   "cell_type": "code",
   "execution_count": 112,
   "metadata": {},
   "outputs": [
    {
     "data": {
      "text/plain": [
       "array([304.49042432])"
      ]
     },
     "execution_count": 112,
     "metadata": {},
     "output_type": "execute_result"
    }
   ],
   "source": [
    "Xs"
   ]
  },
  {
   "cell_type": "code",
   "execution_count": null,
   "metadata": {},
   "outputs": [],
   "source": []
  }
 ],
 "metadata": {
  "interpreter": {
   "hash": "7de2b6b4bb82c77043d8caae972bd03214c1f786691bda45cba0f82cc6b120ac"
  },
  "kernelspec": {
   "display_name": "Python 3.9.5 64-bit ('base': conda)",
   "language": "python",
   "name": "python3"
  },
  "language_info": {
   "codemirror_mode": {
    "name": "ipython",
    "version": 3
   },
   "file_extension": ".py",
   "mimetype": "text/x-python",
   "name": "python",
   "nbconvert_exporter": "python",
   "pygments_lexer": "ipython3",
   "version": "3.9.5"
  },
  "orig_nbformat": 4
 },
 "nbformat": 4,
 "nbformat_minor": 2
}
