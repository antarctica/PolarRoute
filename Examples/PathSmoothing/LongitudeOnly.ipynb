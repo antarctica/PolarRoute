{
 "cells": [
  {
   "cell_type": "code",
   "execution_count": 13,
   "metadata": {},
   "outputs": [],
   "source": [
    "import pandas as pd\n",
    "from RoutePlanner.CellGrid import CellGrid\n",
    "from RoutePlanner.IO import LoadIcePoints, LoadCurrentPoints\n",
    "from RoutePlanner.Optimisation import TravelTime\n",
    "\n",
    "def GreatCircle(Start_p,End_p):\n",
    "    import pyproj\n",
    "    import numpy as np\n",
    "    startlong, startlat = Start_p\n",
    "    endlong, endlat     = End_p\n",
    "    startlong = startlong-360\n",
    "    endlong   = endlong-360\n",
    "\n",
    "    # calculate distance between points\n",
    "    g = pyproj.Geod(ellps='WGS84')\n",
    "    (az12, az21, dist) = g.inv(startlong, startlat, endlong, endlat)\n",
    "\n",
    "    # calculate line string along path with segments <= 1 km\n",
    "    lonlats = g.npts(startlong, startlat, endlong, endlat,\n",
    "                    1 + int(dist / 1000))\n",
    "\n",
    "    lonlats = np.array(lonlats)\n",
    "    lonlats[:,0] = lonlats[:,0]+360\n",
    "\n",
    "    return lonlats"
   ]
  },
  {
   "cell_type": "code",
   "execution_count": 14,
   "metadata": {},
   "outputs": [],
   "source": [
    "OptInfo = {}\n",
    "OptInfo['Bounds Longitude']     = [230,360]\n",
    "OptInfo['Bounds Latitude']      = [-80,-40]\n",
    "OptInfo['Grid Spacing (dx,dy)'] = [5,2.5]\n",
    "OptInfo['Start Time']           = '2017-05-01'\n",
    "OptInfo['End Time']             = '2017-06-01'\n",
    "OptInfo['WayPoints']            = pd.read_csv('../../resources/WayPoints_TestExample2.csv') \n",
    "OptInfo['MaxIceExtent']         = 0.8\n",
    "OptInfo['Zero Currents']        = True\n",
    "OptInfo['VariableSpeed']        = False\n",
    "OptInfo['Time Unit']            = 'days'\n",
    "OptInfo['VehicleInfo']          = {}\n",
    "OptInfo['VehicleInfo']['Speed'] = 26.3\n",
    "OptInfo['VehicleInfo']['Unit']  = 'km/hr'\n",
    "OptInfo['Start Waypoints']      = None"
   ]
  },
  {
   "cell_type": "code",
   "execution_count": 15,
   "metadata": {},
   "outputs": [
    {
     "data": {
      "image/png": "[encoded data removed]",
      "text/plain": [
       "<Figure size 1080x720 with 1 Axes>"
      ]
     },
     "metadata": {},
     "output_type": "display_data"
    }
   ],
   "source": [
    "icePoints     = LoadIcePoints('../../Data/bsose_i122_2013to2017_1day_SeaIceArea.nc',OptInfo['Start Time'],OptInfo['End Time'])\n",
    "currentPoints = LoadCurrentPoints('../../Data/SOSE_surface_velocity_6yearMean_2005-2010.nc')\n",
    "\n",
    "cellGrid = CellGrid(OptInfo)\n",
    "cellGrid.addIcePoints(icePoints)\n",
    "cellGrid.addCurrentPoints(currentPoints)\n",
    "cellGrid.recursiveSplit(0)\n",
    "cellGrid.plot()"
   ]
  },
  {
   "cell_type": "code",
   "execution_count": 16,
   "metadata": {},
   "outputs": [
    {
     "name": "stdout",
     "output_type": "stream",
     "text": [
      "=== Processing Waypoint = Falklands ===\n",
      "=== Processing Waypoint = SouthGeorgia ===\n"
     ]
    }
   ],
   "source": [
    "TT = TravelTime(cellGrid)\n",
    "TT.Dijkstra(verbrose=True)"
   ]
  },
  {
   "cell_type": "code",
   "execution_count": 17,
   "metadata": {},
   "outputs": [
    {
     "data": {
      "text/plain": [
       "(-60.0, -50.0)"
      ]
     },
     "execution_count": 17,
     "metadata": {},
     "output_type": "execute_result"
    },
    {
     "data": {
      "image/png": "[encoded data removed]",
      "text/plain": [
       "<Figure size 1080x720 with 1 Axes>"
      ]
     },
     "metadata": {},
     "output_type": "display_data"
    }
   ],
   "source": [
    "#Plotting the python paths\n",
    "ax = TT.PlotPaths()\n",
    "\n",
    "ax.set_xlim([295,325])\n",
    "ax.set_ylim([-60,-50])"
   ]
  },
  {
   "cell_type": "code",
   "execution_count": 12,
   "metadata": {},
   "outputs": [
    {
     "name": "stdout",
     "output_type": "stream",
     "text": [
      "==================================================\n",
      " PATH: Falklands -> SouthGeorgia \n",
      "Sp=(320.0,-55.57992743030073);Cp=(325.0,-55.0);Np=(0.0,0.0)\n",
      "Box1=(-55.289963715150364,322.5);Box2=(-27.5,162.5)\n"
     ]
    },
    {
     "ename": "AttributeError",
     "evalue": "'NewtonianCurve' object has no attribute 'df_x'",
     "output_type": "error",
     "traceback": [
      "\u001b[0;31m---------------------------------------------------------------------------\u001b[0m",
      "\u001b[0;31mAttributeError\u001b[0m                            Traceback (most recent call last)",
      "\u001b[1;32m/Users/jsmith/Documents/Research/Researcher_BAS/RoutePlanning/SDADT-pyRoutePlanner/Examples/PathSmoothing/LongitudeOnly.ipynb Cell 6'\u001b[0m in \u001b[0;36m<module>\u001b[0;34m\u001b[0m\n\u001b[0;32m----> <a href='vscode-notebook-cell:/Users/jsmith/Documents/Research/Researcher_BAS/RoutePlanning/SDADT-pyRoutePlanner/Examples/PathSmoothing/LongitudeOnly.ipynb#ch0000005?line=0'>1</a>\u001b[0m TT\u001b[39m.\u001b[39;49mPathSmoothing(maxiter\u001b[39m=\u001b[39;49m\u001b[39m1500\u001b[39;49m)\n",
      "File \u001b[0;32m~/Documents/Research/Researcher_BAS/RoutePlanning/SDADT-pyRoutePlanner/RoutePlanner/Optimisation.py:294\u001b[0m, in \u001b[0;36mTravelTime.PathSmoothing\u001b[0;34m(self, maxiter)\u001b[0m\n\u001b[1;32m    <a href='file:///~/Documents/Research/Researcher_BAS/RoutePlanning/SDADT-pyRoutePlanner/RoutePlanner/Optimisation.py?line=285'>286</a>\u001b[0m \u001b[39m# # Remove crossing point if are the same location\u001b[39;00m\n\u001b[1;32m    <a href='file:///~/Documents/Research/Researcher_BAS/RoutePlanning/SDADT-pyRoutePlanner/RoutePlanner/Optimisation.py?line=286'>287</a>\u001b[0m \u001b[39m# if (((np.array(Sp)-np.array(Cp))**2).sum() < 1e-4) or\\\u001b[39;00m\n\u001b[1;32m    <a href='file:///~/Documents/Research/Researcher_BAS/RoutePlanning/SDADT-pyRoutePlanner/RoutePlanner/Optimisation.py?line=287'>288</a>\u001b[0m \u001b[39m#    (((np.array(Cp)-np.array(Np))**2).sum() < 1e-4):\u001b[39;00m\n\u001b[1;32m    <a href='file:///~/Documents/Research/Researcher_BAS/RoutePlanning/SDADT-pyRoutePlanner/RoutePlanner/Optimisation.py?line=288'>289</a>\u001b[0m \u001b[39m#     Points = np.delete(Points,id+1,axis=0)\u001b[39;00m\n\u001b[1;32m    <a href='file:///~/Documents/Research/Researcher_BAS/RoutePlanning/SDADT-pyRoutePlanner/RoutePlanner/Optimisation.py?line=289'>290</a>\u001b[0m \u001b[39m#     continue\u001b[39;00m\n\u001b[1;32m    <a href='file:///~/Documents/Research/Researcher_BAS/RoutePlanning/SDADT-pyRoutePlanner/RoutePlanner/Optimisation.py?line=292'>293</a>\u001b[0m nc \u001b[39m=\u001b[39m NewtonianCurve(\u001b[39mself\u001b[39m\u001b[39m.\u001b[39mMesh,Sp,Cp,Np,\u001b[39mself\u001b[39m\u001b[39m.\u001b[39mOptInfo[\u001b[39m'\u001b[39m\u001b[39mVehicleInfo\u001b[39m\u001b[39m'\u001b[39m][\u001b[39m'\u001b[39m\u001b[39mSpeed\u001b[39m\u001b[39m'\u001b[39m])\n\u001b[0;32m--> <a href='file:///~/Documents/Research/Researcher_BAS/RoutePlanning/SDADT-pyRoutePlanner/RoutePlanner/Optimisation.py?line=293'>294</a>\u001b[0m TravelTime, CrossingPoint \u001b[39m=\u001b[39m nc\u001b[39m.\u001b[39;49mvalue()\n\u001b[1;32m    <a href='file:///~/Documents/Research/Researcher_BAS/RoutePlanning/SDADT-pyRoutePlanner/RoutePlanner/Optimisation.py?line=296'>297</a>\u001b[0m \u001b[39m# Removing Points\u001b[39;00m\n\u001b[1;32m    <a href='file:///~/Documents/Research/Researcher_BAS/RoutePlanning/SDADT-pyRoutePlanner/RoutePlanner/Optimisation.py?line=297'>298</a>\u001b[0m \u001b[39mif\u001b[39;00m (np\u001b[39m.\u001b[39misnan(CrossingPoint))\u001b[39m.\u001b[39many():\n",
      "File \u001b[0;32m~/Documents/Research/Researcher_BAS/RoutePlanning/SDADT-pyRoutePlanner/RoutePlanner/Function.py:857\u001b[0m, in \u001b[0;36mNewtonianCurve.value\u001b[0;34m(self)\u001b[0m\n\u001b[1;32m    <a href='file:///~/Documents/Research/Researcher_BAS/RoutePlanning/SDADT-pyRoutePlanner/RoutePlanner/Function.py?line=854'>855</a>\u001b[0m \u001b[39mif\u001b[39;00m \u001b[39mself\u001b[39m\u001b[39m.\u001b[39mdebugging\u001b[39m>\u001b[39m\u001b[39m0\u001b[39m:\n\u001b[1;32m    <a href='file:///~/Documents/Research/Researcher_BAS/RoutePlanning/SDADT-pyRoutePlanner/RoutePlanner/Function.py?line=855'>856</a>\u001b[0m     \u001b[39mprint\u001b[39m(\u001b[39m'\u001b[39m\u001b[39m===========================================================\u001b[39m\u001b[39m'\u001b[39m)\n\u001b[0;32m--> <a href='file:///~/Documents/Research/Researcher_BAS/RoutePlanning/SDADT-pyRoutePlanner/RoutePlanner/Function.py?line=856'>857</a>\u001b[0m \u001b[39mif\u001b[39;00m ((\u001b[39mabs\u001b[39m(\u001b[39mself\u001b[39;49m\u001b[39m.\u001b[39;49mdf_x) \u001b[39m>\u001b[39m\u001b[39m=\u001b[39m (\u001b[39mself\u001b[39m\u001b[39m.\u001b[39mBox1\u001b[39m.\u001b[39mwidth\u001b[39m/\u001b[39m\u001b[39m2\u001b[39m)) \u001b[39mand\u001b[39;00m (\u001b[39mabs\u001b[39m(\u001b[39mself\u001b[39m\u001b[39m.\u001b[39mdf_y) \u001b[39m<\u001b[39m\u001b[39m=\u001b[39m (\u001b[39mself\u001b[39m\u001b[39m.\u001b[39mBox1\u001b[39m.\u001b[39mheight\u001b[39m/\u001b[39m\u001b[39m2\u001b[39m))):\n\u001b[1;32m    <a href='file:///~/Documents/Research/Researcher_BAS/RoutePlanning/SDADT-pyRoutePlanner/RoutePlanner/Function.py?line=857'>858</a>\u001b[0m     TravelTime, CrossPoint \u001b[39m=\u001b[39m \u001b[39mself\u001b[39m\u001b[39m.\u001b[39m_long_case()\n\u001b[1;32m    <a href='file:///~/Documents/Research/Researcher_BAS/RoutePlanning/SDADT-pyRoutePlanner/RoutePlanner/Function.py?line=858'>859</a>\u001b[0m \u001b[39melif\u001b[39;00m (\u001b[39mabs\u001b[39m(\u001b[39mself\u001b[39m\u001b[39m.\u001b[39mdf_x) \u001b[39m<\u001b[39m\u001b[39m=\u001b[39m \u001b[39mself\u001b[39m\u001b[39m.\u001b[39mBox1\u001b[39m.\u001b[39mwidth\u001b[39m/\u001b[39m\u001b[39m2\u001b[39m) \u001b[39mand\u001b[39;00m (\u001b[39mabs\u001b[39m(\u001b[39mself\u001b[39m\u001b[39m.\u001b[39mdf_y) \u001b[39m>\u001b[39m\u001b[39m=\u001b[39m \u001b[39mself\u001b[39m\u001b[39m.\u001b[39mBox1\u001b[39m.\u001b[39mheight\u001b[39m/\u001b[39m\u001b[39m2\u001b[39m):\n",
      "\u001b[0;31mAttributeError\u001b[0m: 'NewtonianCurve' object has no attribute 'df_x'"
     ]
    }
   ],
   "source": [
    "TT.PathSmoothing(maxiter=1500)"
   ]
  },
  {
   "cell_type": "code",
   "execution_count": null,
   "metadata": {},
   "outputs": [],
   "source": [
    "#Plotting the python paths\n",
    "ax = TT.PlotPaths(routepoints=True)\n",
    "\n",
    "ax.set_xlim([295,325])\n",
    "ax.set_ylim([-60,-50])\n",
    "\n",
    "\n",
    "GT = pd.read_csv('../../resources/GroundTruth_FalklandsSouthGeorgia_Smooth.csv')\n",
    "GT['Long'] = GT['Long']+360\n",
    "ax.plot(GT['Long'],GT['Lat'],'r')\n",
    "ax.scatter(GT['Long'],GT['Lat'],15,'b')\n",
    "\n",
    "\n",
    "PATH1 =  TT.Paths[0]['Path']['FullPath']\n",
    "gc = GreatCircle((PATH1[0,0],PATH1[0,1]),(PATH1[-1,0],PATH1[-1,1]))\n",
    "ax.plot(gc[1:-1,0],gc[1:-1,1],'r')"
   ]
  },
  {
   "cell_type": "code",
   "execution_count": null,
   "metadata": {},
   "outputs": [],
   "source": [
    "pts = TT.Paths[0]['Path']['FullPath']\n",
    "pts[:,0] = pts[:,0]-360\n",
    "\n",
    "geoJSON = {}\n",
    "geoJSON['type'] = \"Feature\"\n",
    "\n",
    "geoJSON['geometry'] = {}\n",
    "geoJSON['geometry']['type'] = \"LineString\"\n",
    "geoJSON['geometry']['coordinates'] =TT.Paths[0]['Path']['FullPath'].tolist()\n",
    "\n",
    "geoJSON['properties'] = {}\n",
    "geoJSON['properties']['from'] = TT.Paths[0]['from']\n",
    "geoJSON['properties']['to'] = TT.Paths[0]['to']\n",
    "geoJSON['properties']['Travel Time (d)'] = TT.Paths[0]['TotalCost']\n",
    "\n",
    "import json\n",
    "with open('Longitude_Paths.json', 'w') as fp:\n",
    "    json.dump(geoJSON, fp)"
   ]
  },
  {
   "cell_type": "code",
   "execution_count": null,
   "metadata": {},
   "outputs": [],
   "source": []
  }
 ],
 "metadata": {
  "interpreter": {
   "hash": "7de2b6b4bb82c77043d8caae972bd03214c1f786691bda45cba0f82cc6b120ac"
  },
  "kernelspec": {
   "display_name": "Python 3.9.5 64-bit ('base': conda)",
   "language": "python",
   "name": "python3"
  },
  "language_info": {
   "codemirror_mode": {
    "name": "ipython",
    "version": 3
   },
   "file_extension": ".py",
   "mimetype": "text/x-python",
   "name": "python",
   "nbconvert_exporter": "python",
   "pygments_lexer": "ipython3",
   "version": "3.9.5"
  },
  "orig_nbformat": 4
 },
 "nbformat": 4,
 "nbformat_minor": 2
}
