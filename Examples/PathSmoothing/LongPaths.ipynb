{
 "cells": [
  {
   "cell_type": "code",
   "execution_count": null,
   "metadata": {},
   "outputs": [],
   "source": [
    "import pandas as pd\n",
    "from RoutePlanner.CellGrid import CellGrid\n",
    "from RoutePlanner.IO import LoadIcePoints, LoadCurrentPoints\n",
    "from RoutePlanner.Optimisation import TravelTime\n",
    "\n",
    "def GreatCircle(Start_p,End_p):\n",
    "    import pyproj\n",
    "    import numpy as np\n",
    "    startlong, startlat = Start_p\n",
    "    endlong, endlat     = End_p\n",
    "    startlong = startlong-360\n",
    "    endlong   = endlong-360\n",
    "\n",
    "    # calculate distance between points\n",
    "    g = pyproj.Geod(ellps='WGS84')\n",
    "    (az12, az21, dist) = g.inv(startlong, startlat, endlong, endlat)\n",
    "\n",
    "    # calculate line string along path with segments <= 1 km\n",
    "    lonlats = g.npts(startlong, startlat, endlong, endlat,\n",
    "                    1 + int(dist / 1000))\n",
    "\n",
    "    lonlats = np.array(lonlats)\n",
    "    lonlats[:,0] = lonlats[:,0]+360\n",
    "\n",
    "    return lonlats"
   ]
  },
  {
   "cell_type": "code",
   "execution_count": null,
   "metadata": {},
   "outputs": [],
   "source": [
    "OptInfo = {}\n",
    "X     = [230,360]\n",
    "Y     = [-80,-40]\n",
    "d     = [5,2.5]\n",
    "OptInfo['Start Time']           = '2017-03-15'\n",
    "OptInfo['End Time']             = '2017-03-16'\n",
    "OptInfo['WayPoints']            = pd.read_csv('../../resources/WayPoint_LongPaths.csv') \n",
    "OptInfo['MaxIceExtent']         = 0.8\n",
    "OptInfo['Zero Currents']        = True\n",
    "OptInfo['VariableSpeed']        = True\n",
    "OptInfo['Time Unit']            = 'days'\n",
    "OptInfo['VehicleInfo']          = {}\n",
    "OptInfo['VehicleInfo']['Speed'] = 26.3\n",
    "OptInfo['VehicleInfo']['Unit']  = 'km/hr'\n",
    "OptInfo['Start Waypoints']      = None#['Palmer']"
   ]
  },
  {
   "cell_type": "code",
   "execution_count": null,
   "metadata": {},
   "outputs": [],
   "source": [
    "icePoints     = LoadIcePoints('../../Data/bsose_i122_2013to2017_1day_SeaIceArea.nc',OptInfo['Start Time'],OptInfo['End Time'])\n",
    "currentPoints = LoadCurrentPoints('../../Data/SOSE_surface_velocity_6yearMean_2005-2010.nc')\n",
    "\n",
    "cellGrid = CellGrid(X[0],X[1],Y[0],Y[1],d[0],d[1])\n",
    "cellGrid.addIcePoints(icePoints)\n",
    "cellGrid.addCurrentPoints(currentPoints)\n",
    "cellGrid.recursiveSplit(1)\n",
    "cellGrid.plot()"
   ]
  },
  {
   "cell_type": "code",
   "execution_count": null,
   "metadata": {},
   "outputs": [],
   "source": [
    "TT = TravelTime(cellGrid,OptInfo)\n",
    "TT.Dijkstra(verbrose=True)\n",
    "TT.PlotPaths(TT.Paths,routepoints=True,xlim=[230,305],ylim=[-75,-45])"
   ]
  },
  {
   "cell_type": "code",
   "execution_count": null,
   "metadata": {},
   "outputs": [],
   "source": [
    "TT.PathSmoothing()"
   ]
  },
  {
   "cell_type": "code",
   "execution_count": null,
   "metadata": {},
   "outputs": [],
   "source": [
    "ax = TT.PlotPaths(TT.SmoothedPaths,routepoints=True,xlim=[230,305],ylim=[-75,-45])\n",
    "\n",
    "GT = pd.read_csv('../../resources/GroundTruth_LongPath_End2Start_Smooth.csv')\n",
    "GT['Long'] = GT['Long'] + 360\n",
    "ax.plot(GT['Long'],GT['Lat'],'b')\n",
    "\n",
    "PATH1 =  TT.Paths[0]['Path']['FullPath']\n",
    "gc = GreatCircle((PATH1[0,0],PATH1[0,1]),(PATH1[-1,0],PATH1[-1,1]))\n",
    "\n",
    "ax.plot(gc[:,0],gc[:,1],'r')\n",
    "\n",
    "\n",
    "Sp=(245.0,-61.84517471831403);Cp=(250.0,-62.341787457682685);Np=(249.94744955524266,-62.5)\n",
    "Box1=(-62.093481087998356,247.5);Box2=(-62.42089372884134,249.97372477762133)\n",
    "ax.scatter(Sp[0],Sp[1],15,'r')\n",
    "ax.scatter(Cp[0],Cp[1],15,'r')\n",
    "ax.scatter(Np[0],Np[1],15,'r')\n",
    "\n",
    "ax.scatter(Box1[0],Box1[1],50,'b',zorder=200)\n",
    "ax.scatter(Box2[0],Box2[1],50,'b',zorder=200)\n",
    "\n"
   ]
  },
  {
   "cell_type": "code",
   "execution_count": null,
   "metadata": {},
   "outputs": [],
   "source": [
    "pts = TT.Paths[0]['Path']['FullPath']\n",
    "pts[:,0] = pts[:,0]-360\n",
    "\n",
    "geoJSON = {}\n",
    "geoJSON['type'] = \"Feature\"\n",
    "\n",
    "geoJSON['geometry'] = {}\n",
    "geoJSON['geometry']['type'] = \"LineString\"\n",
    "geoJSON['geometry']['coordinates'] =TT.Paths[0]['Path']['FullPath'].tolist()\n",
    "\n",
    "geoJSON['properties'] = {}\n",
    "geoJSON['properties']['from'] = TT.Paths[0]['from']\n",
    "geoJSON['properties']['to'] = TT.Paths[0]['to']\n",
    "geoJSON['properties']['Travel Time (d)'] = TT.Paths[0]['TotalCost']\n",
    "\n",
    "import json\n",
    "with open('Paths.json', 'w') as fp:\n",
    "    json.dump(geoJSON, fp)"
   ]
  }
 ],
 "metadata": {
  "interpreter": {
   "hash": "7de2b6b4bb82c77043d8caae972bd03214c1f786691bda45cba0f82cc6b120ac"
  },
  "kernelspec": {
   "display_name": "Python 3.9.5 64-bit ('base': conda)",
   "language": "python",
   "name": "python3"
  },
  "language_info": {
   "codemirror_mode": {
    "name": "ipython",
    "version": 3
   },
   "file_extension": ".py",
   "mimetype": "text/x-python",
   "name": "python",
   "nbconvert_exporter": "python",
   "pygments_lexer": "ipython3",
   "version": "3.9.5"
  },
  "orig_nbformat": 4
 },
 "nbformat": 4,
 "nbformat_minor": 2
}
