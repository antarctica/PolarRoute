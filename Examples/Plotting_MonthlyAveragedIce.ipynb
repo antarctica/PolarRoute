{
 "cells": [
  {
   "cell_type": "code",
   "execution_count": 1,
   "metadata": {},
   "outputs": [],
   "source": [
    "from RoutePlanner.CellGrid import CellGrid\n",
    "from RoutePlanner.IO import LoadIcePoints, LoadCurrentPoints\n",
    "\n",
    "import pandas as pd\n",
    "import matplotlib.pylab as plt"
   ]
  },
  {
   "cell_type": "code",
   "execution_count": 2,
   "metadata": {},
   "outputs": [],
   "source": [
    "OptInfo = {}\n",
    "OptInfo['Bounds Longitude']     = [260,360]\n",
    "OptInfo['Bounds Latitude']      = [-80,-40]\n",
    "OptInfo['Grid Spacing (dx,dy)'] = [5,2.5]\n",
    "OptInfo['MaxIceExtent']         = 0.8"
   ]
  },
  {
   "cell_type": "code",
   "execution_count": 4,
   "metadata": {},
   "outputs": [
    {
     "name": "stdout",
     "output_type": "stream",
     "text": [
      "- Processing 2013-01-01 00:00:00 to 2013-02-01 00:00:00\n",
      "- Processing 2013-02-01 00:00:00 to 2013-03-01 00:00:00\n",
      "- Processing 2013-03-01 00:00:00 to 2013-04-01 00:00:00\n",
      "- Processing 2013-04-01 00:00:00 to 2013-05-01 00:00:00\n",
      "- Processing 2013-05-01 00:00:00 to 2013-06-01 00:00:00\n",
      "- Processing 2013-06-01 00:00:00 to 2013-07-01 00:00:00\n",
      "- Processing 2013-07-01 00:00:00 to 2013-08-01 00:00:00\n",
      "- Processing 2013-08-01 00:00:00 to 2013-09-01 00:00:00\n",
      "- Processing 2013-09-01 00:00:00 to 2013-10-01 00:00:00\n",
      "- Processing 2013-10-01 00:00:00 to 2013-11-01 00:00:00\n",
      "- Processing 2013-11-01 00:00:00 to 2013-12-01 00:00:00\n",
      "- Processing 2013-12-01 00:00:00 to 2014-01-01 00:00:00\n",
      "- Processing 2014-01-01 00:00:00 to 2014-02-01 00:00:00\n",
      "- Processing 2014-02-01 00:00:00 to 2014-03-01 00:00:00\n",
      "- Processing 2014-03-01 00:00:00 to 2014-04-01 00:00:00\n",
      "- Processing 2014-04-01 00:00:00 to 2014-05-01 00:00:00\n",
      "- Processing 2014-05-01 00:00:00 to 2014-06-01 00:00:00\n",
      "- Processing 2014-06-01 00:00:00 to 2014-07-01 00:00:00\n",
      "- Processing 2014-07-01 00:00:00 to 2014-08-01 00:00:00\n",
      "- Processing 2014-08-01 00:00:00 to 2014-09-01 00:00:00\n",
      "- Processing 2014-09-01 00:00:00 to 2014-10-01 00:00:00\n",
      "- Processing 2014-10-01 00:00:00 to 2014-11-01 00:00:00\n",
      "- Processing 2014-11-01 00:00:00 to 2014-12-01 00:00:00\n",
      "- Processing 2014-12-01 00:00:00 to 2015-01-01 00:00:00\n",
      "- Processing 2015-01-01 00:00:00 to 2015-02-01 00:00:00\n",
      "- Processing 2015-02-01 00:00:00 to 2015-03-01 00:00:00\n",
      "- Processing 2015-03-01 00:00:00 to 2015-04-01 00:00:00\n",
      "- Processing 2015-04-01 00:00:00 to 2015-05-01 00:00:00\n",
      "- Processing 2015-05-01 00:00:00 to 2015-06-01 00:00:00\n",
      "- Processing 2015-06-01 00:00:00 to 2015-07-01 00:00:00\n",
      "- Processing 2015-07-01 00:00:00 to 2015-08-01 00:00:00\n",
      "- Processing 2015-08-01 00:00:00 to 2015-09-01 00:00:00\n",
      "- Processing 2015-09-01 00:00:00 to 2015-10-01 00:00:00\n",
      "- Processing 2015-10-01 00:00:00 to 2015-11-01 00:00:00\n",
      "- Processing 2015-11-01 00:00:00 to 2015-12-01 00:00:00\n",
      "- Processing 2015-12-01 00:00:00 to 2016-01-01 00:00:00\n",
      "- Processing 2016-01-01 00:00:00 to 2016-02-01 00:00:00\n",
      "- Processing 2016-02-01 00:00:00 to 2016-03-01 00:00:00\n",
      "- Processing 2016-03-01 00:00:00 to 2016-04-01 00:00:00\n",
      "- Processing 2016-04-01 00:00:00 to 2016-05-01 00:00:00\n",
      "- Processing 2016-05-01 00:00:00 to 2016-06-01 00:00:00\n",
      "- Processing 2016-06-01 00:00:00 to 2016-07-01 00:00:00\n"
     ]
    }
   ],
   "source": [
    "Dates = list(pd.date_range(start='2013-01-01', end='2017-12-31',freq='MS')) + [pd.to_datetime('2017-12-31')]\n",
    "\n",
    "for ii in range(len(Dates)-1):\n",
    "    st  = Dates[ii]\n",
    "    end = Dates[ii+1]\n",
    "    print('- Processing {} to {}'.format(str(st),str(end)))\n",
    "    icePoints     = LoadIcePoints('../Data/bsose_i122_2013to2017_1day_SeaIceArea.nc',str(st),str(end))\n",
    "    currentPoints = LoadCurrentPoints('../Data/SOSE_surface_velocity_6yearMean_2005-2010.nc')\n",
    "    cellGrid = CellGrid(OptInfo)\n",
    "    cellGrid.addIcePoints(icePoints)\n",
    "    cellGrid.addCurrentPoints(currentPoints)\n",
    "    cellGrid.recursiveSplit(3)\n",
    "    ax = cellGrid.plot(return_ax=True)\n",
    "    ax.set_title('GridMesh {}/{}'.format(st.year,st.month))\n",
    "    plt.savefig('../Plots/MonthlyAveragedIce_{}_{}.png'.format(st.year,st.month))\n",
    "    plt.clf();plt.close('all')"
   ]
  },
  {
   "cell_type": "code",
   "execution_count": null,
   "metadata": {},
   "outputs": [],
   "source": []
  }
 ],
 "metadata": {
  "interpreter": {
   "hash": "7de2b6b4bb82c77043d8caae972bd03214c1f786691bda45cba0f82cc6b120ac"
  },
  "kernelspec": {
   "display_name": "Python 3.9.5 64-bit ('base': conda)",
   "language": "python",
   "name": "python3"
  },
  "language_info": {
   "codemirror_mode": {
    "name": "ipython",
    "version": 3
   },
   "file_extension": ".py",
   "mimetype": "text/x-python",
   "name": "python",
   "nbconvert_exporter": "python",
   "pygments_lexer": "ipython3",
   "version": "3.9.5"
  },
  "orig_nbformat": 4
 },
 "nbformat": 4,
 "nbformat_minor": 2
}
