{
 "cells": [
  {
   "cell_type": "markdown",
   "metadata": {},
   "source": [
    " Please run the JSON creators found in PreProcessing folder or download an example by runnnig the commeted code below"
   ]
  },
  {
   "cell_type": "code",
   "execution_count": 1,
   "metadata": {},
   "outputs": [],
   "source": [
    "# from google_drive_downloader import GoogleDriveDownloader as gdd\n",
    "# gdd.download_file_from_google_drive(file_id='1lDGIkS7QDy7mUDStDtb_fhMR5euF2R6v',dest_path='../resources/icepoints2019-02-08.json')\n",
    "# gdd.download_file_from_google_drive(file_id='1qgePy_WsVN924fdJhnvcMpqCCRfvUC9i',dest_path='../resources/currentPoints.json')"
   ]
  },
  {
   "cell_type": "code",
   "execution_count": 2,
   "metadata": {},
   "outputs": [],
   "source": [
    "import pandas as pd\n",
    "from RoutePlanner.CellGrid import CellGrid\n",
    "\n",
    "#read in Ice  & Currents Points\n",
    "icePoints     = pd.read_json('../resources/icepoints2019-02-08.json')\n",
    "icePoints     = pd.DataFrame.from_records(icePoints.icepoints)\n",
    "currentPoints = pd.read_json('../resources/currentPoints.json')\n",
    "currentPoints = pd.DataFrame.from_records(currentPoints.currentPoints)\n",
    "\n",
    "longMin    = 230\n",
    "longMax    = 360\n",
    "latMin     = -75\n",
    "latMax     = -40\n",
    "cellWidth  = 5\n",
    "cellHeight = 2.5\n",
    "\n",
    "cellGrid = CellGrid(longMin, longMax, latMin, latMax, cellWidth, cellHeight)\n",
    "cellGrid.addIcePoints(icePoints)\n",
    "cellGrid.addCurrentPoints(currentPoints)"
   ]
  },
  {
   "cell_type": "code",
   "execution_count": 3,
   "metadata": {},
   "outputs": [
    {
     "ename": "ImportError",
     "evalue": "cannot import name 'WaypointCorrection' from 'RoutePlanner.Function' (c:\\users\\jonsmi\\onedrive - nerc\\documents\\bas_routeplanner\\sdadt-pyrouteplanner\\RoutePlanner\\Function.py)",
     "output_type": "error",
     "traceback": [
      "\u001b[1;31m---------------------------------------------------------------------------\u001b[0m",
      "\u001b[1;31mImportError\u001b[0m                               Traceback (most recent call last)",
      "\u001b[1;32m~\\AppData\\Local\\Temp/ipykernel_44132/1652208811.py\u001b[0m in \u001b[0;36m<module>\u001b[1;34m\u001b[0m\n\u001b[1;32m----> 1\u001b[1;33m \u001b[1;32mfrom\u001b[0m \u001b[0mRoutePlanner\u001b[0m\u001b[1;33m.\u001b[0m\u001b[0mOptimisation\u001b[0m \u001b[1;32mimport\u001b[0m \u001b[0mTravelTime\u001b[0m\u001b[1;33m\u001b[0m\u001b[1;33m\u001b[0m\u001b[0m\n\u001b[0m\u001b[0;32m      2\u001b[0m \u001b[0mOptInfo\u001b[0m \u001b[1;33m=\u001b[0m \u001b[1;33m{\u001b[0m\u001b[1;33m}\u001b[0m\u001b[1;33m\u001b[0m\u001b[1;33m\u001b[0m\u001b[0m\n\u001b[0;32m      3\u001b[0m \u001b[0mOptInfo\u001b[0m\u001b[1;33m[\u001b[0m\u001b[1;34m'WayPoints'\u001b[0m\u001b[1;33m]\u001b[0m            \u001b[1;33m=\u001b[0m \u001b[0mpd\u001b[0m\u001b[1;33m.\u001b[0m\u001b[0mread_csv\u001b[0m\u001b[1;33m(\u001b[0m\u001b[1;34m'../resources/WayPoints_TestExample2.csv'\u001b[0m\u001b[1;33m)\u001b[0m\u001b[1;33m\u001b[0m\u001b[1;33m\u001b[0m\u001b[0m\n\u001b[0;32m      4\u001b[0m \u001b[0mOptInfo\u001b[0m\u001b[1;33m[\u001b[0m\u001b[1;34m'MaxIceExtent'\u001b[0m\u001b[1;33m]\u001b[0m         \u001b[1;33m=\u001b[0m \u001b[1;36m0.8\u001b[0m\u001b[1;33m\u001b[0m\u001b[1;33m\u001b[0m\u001b[0m\n\u001b[0;32m      5\u001b[0m \u001b[0mOptInfo\u001b[0m\u001b[1;33m[\u001b[0m\u001b[1;34m'VehicleInfo'\u001b[0m\u001b[1;33m]\u001b[0m          \u001b[1;33m=\u001b[0m \u001b[1;33m{\u001b[0m\u001b[1;33m}\u001b[0m\u001b[1;33m\u001b[0m\u001b[1;33m\u001b[0m\u001b[0m\n",
      "\u001b[1;32mc:\\users\\jonsmi\\onedrive - nerc\\documents\\bas_routeplanner\\sdadt-pyrouteplanner\\RoutePlanner\\Optimisation.py\u001b[0m in \u001b[0;36m<module>\u001b[1;34m\u001b[0m\n\u001b[0;32m     10\u001b[0m \u001b[0mwarnings\u001b[0m\u001b[1;33m.\u001b[0m\u001b[0msimplefilter\u001b[0m\u001b[1;33m(\u001b[0m\u001b[0maction\u001b[0m\u001b[1;33m=\u001b[0m\u001b[1;34m\"ignore\"\u001b[0m\u001b[1;33m,\u001b[0m \u001b[0mcategory\u001b[0m\u001b[1;33m=\u001b[0m\u001b[0mSettingWithCopyWarning\u001b[0m\u001b[1;33m)\u001b[0m\u001b[1;33m\u001b[0m\u001b[1;33m\u001b[0m\u001b[0m\n\u001b[0;32m     11\u001b[0m \u001b[1;33m\u001b[0m\u001b[0m\n\u001b[1;32m---> 12\u001b[1;33m \u001b[1;32mfrom\u001b[0m \u001b[0mRoutePlanner\u001b[0m\u001b[1;33m.\u001b[0m\u001b[0mFunction\u001b[0m \u001b[1;32mimport\u001b[0m \u001b[0mNewtonianDistance\u001b[0m\u001b[1;33m,\u001b[0m \u001b[0mNewtonianCurve\u001b[0m\u001b[1;33m,\u001b[0m \u001b[0mWaypointCorrection\u001b[0m\u001b[1;33m\u001b[0m\u001b[1;33m\u001b[0m\u001b[0m\n\u001b[0m\u001b[0;32m     13\u001b[0m \u001b[1;33m\u001b[0m\u001b[0m\n\u001b[0;32m     14\u001b[0m \u001b[1;32mclass\u001b[0m \u001b[0mTravelTime\u001b[0m\u001b[1;33m:\u001b[0m\u001b[1;33m\u001b[0m\u001b[1;33m\u001b[0m\u001b[0m\n",
      "\u001b[1;31mImportError\u001b[0m: cannot import name 'WaypointCorrection' from 'RoutePlanner.Function' (c:\\users\\jonsmi\\onedrive - nerc\\documents\\bas_routeplanner\\sdadt-pyrouteplanner\\RoutePlanner\\Function.py)"
     ]
    }
   ],
   "source": [
    "from RoutePlanner.Optimisation import TravelTime\n",
    "OptInfo = {}\n",
    "OptInfo['WayPoints']            = pd.read_csv('../resources/WayPoints_TestExample2.csv') \n",
    "OptInfo['MaxIceExtent']         = 0.8\n",
    "OptInfo['VehicleInfo']          = {}\n",
    "OptInfo['VehicleInfo']['Speed'] = 26.3 #Units km/hr\n",
    "TT = TravelTime(cellGrid,OptInfo,zerocurrents=True)\n",
    "TT.Dijkstra(verbrose=True)"
   ]
  },
  {
   "cell_type": "code",
   "execution_count": null,
   "metadata": {},
   "outputs": [],
   "source": [
    "#Plotting the python paths\n",
    "ax = TT.PlotPaths(routepoints=True)\n",
    "\n",
    "ax.set_xlim([295,325])\n",
    "ax.set_ylim([-60,-50])"
   ]
  },
  {
   "cell_type": "code",
   "execution_count": null,
   "metadata": {},
   "outputs": [],
   "source": [
    "#Plotting the python paths\n",
    "ax = TT.PlotPaths(routepoints=True)\n",
    "\n",
    "#Loading Ground Truth & Comparison\n",
    "GT = pd.read_csv('../resources/GroundTruth_FalklandsSouthGeorgia.csv')\n",
    "GT['Long'] = GT['Long']+360\n",
    "\n",
    "ax.plot(GT['Long'],GT['Lat'],'r',label='Java Ground Truth',marker='o')\n",
    "\n",
    "\n",
    "ax.set_xlim([295,325])\n",
    "ax.set_ylim([-60,-50])\n",
    "ax.legend()"
   ]
  },
  {
   "cell_type": "code",
   "execution_count": null,
   "metadata": {},
   "outputs": [],
   "source": []
  }
 ],
 "metadata": {
  "interpreter": {
   "hash": "7de2b6b4bb82c77043d8caae972bd03214c1f786691bda45cba0f82cc6b120ac"
  },
  "kernelspec": {
   "display_name": "Python 3.9.5 64-bit ('base': conda)",
   "language": "python",
   "name": "python3"
  },
  "language_info": {
   "codemirror_mode": {
    "name": "ipython",
    "version": 3
   },
   "file_extension": ".py",
   "mimetype": "text/x-python",
   "name": "python",
   "nbconvert_exporter": "python",
   "pygments_lexer": "ipython3",
   "version": "3.9.5"
  },
  "orig_nbformat": 4
 },
 "nbformat": 4,
 "nbformat_minor": 2
}
