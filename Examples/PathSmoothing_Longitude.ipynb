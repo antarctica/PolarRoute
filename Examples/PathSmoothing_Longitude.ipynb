{
 "cells": [
  {
   "cell_type": "code",
   "execution_count": 1,
   "metadata": {},
   "outputs": [
    {
     "name": "stdout",
     "output_type": "stream",
     "text": [
      "=== Processing Waypoint = Falklands ===\n",
      "=== Processing Waypoint = SouthGeorgia ===\n"
     ]
    }
   ],
   "source": [
    "import pandas as pd\n",
    "from RoutePlanner.CellGrid import CellGrid\n",
    "\n",
    "#read in Ice  & Currents Points\n",
    "icePoints     = pd.read_json('../resources/icepoints2019-02-08.json')\n",
    "icePoints     = pd.DataFrame.from_records(icePoints.icepoints)\n",
    "currentPoints = pd.read_json('../resources/currentPoints.json')\n",
    "currentPoints = pd.DataFrame.from_records(currentPoints.currentPoints)\n",
    "\n",
    "longMin    = 260\n",
    "longMax    = 360\n",
    "latMin     = -75\n",
    "latMax     = -40\n",
    "cellWidth  = 5\n",
    "cellHeight = 2.5\n",
    "\n",
    "cellGrid = CellGrid(longMin, longMax, latMin, latMax, cellWidth, cellHeight)\n",
    "cellGrid.addIcePoints(icePoints)\n",
    "cellGrid.addCurrentPoints(currentPoints)\n",
    "\n",
    "from RoutePlanner.Optimisation import TravelTime\n",
    "OptInfo = {}\n",
    "OptInfo['WayPoints']            = pd.read_csv('../resources/WayPoints_TestExample2.csv') \n",
    "OptInfo['MaxIceExtent']         = 0.8\n",
    "OptInfo['VehicleInfo']          = {}\n",
    "OptInfo['VehicleInfo']['Speed'] = 26.3 #Units km/hr\n",
    "\n",
    "TT = TravelTime(cellGrid,OptInfo)\n",
    "TT.Dijkstra(verbrose=True)\n",
    "\n"
   ]
  },
  {
   "cell_type": "code",
   "execution_count": 2,
   "metadata": {},
   "outputs": [],
   "source": [
    "from RoutePlanner.Function import NewtonianCurve"
   ]
  },
  {
   "cell_type": "code",
   "execution_count": 4,
   "metadata": {},
   "outputs": [
    {
     "name": "stderr",
     "output_type": "stream",
     "text": [
      "  0%|          | 0/50 [00:00<?, ?it/s]\n"
     ]
    },
    {
     "ename": "TypeError",
     "evalue": "cannot unpack non-iterable float object",
     "output_type": "error",
     "traceback": [
      "\u001b[1;31m---------------------------------------------------------------------------\u001b[0m",
      "\u001b[1;31mTypeError\u001b[0m                                 Traceback (most recent call last)",
      "\u001b[1;32m~\\AppData\\Local\\Temp/ipykernel_25364/1851062439.py\u001b[0m in \u001b[0;36m<module>\u001b[1;34m\u001b[0m\n\u001b[0;32m     19\u001b[0m         \u001b[0mCp\u001b[0m  \u001b[1;33m=\u001b[0m \u001b[0mtuple\u001b[0m\u001b[1;33m(\u001b[0m\u001b[0mPoints\u001b[0m\u001b[1;33m[\u001b[0m\u001b[0mid\u001b[0m\u001b[1;33m+\u001b[0m\u001b[1;36m1\u001b[0m\u001b[1;33m,\u001b[0m\u001b[1;33m:\u001b[0m\u001b[1;33m]\u001b[0m\u001b[1;33m)\u001b[0m\u001b[1;33m\u001b[0m\u001b[1;33m\u001b[0m\u001b[0m\n\u001b[0;32m     20\u001b[0m         \u001b[0mNp\u001b[0m  \u001b[1;33m=\u001b[0m \u001b[0mtuple\u001b[0m\u001b[1;33m(\u001b[0m\u001b[0mPoints\u001b[0m\u001b[1;33m[\u001b[0m\u001b[0mid\u001b[0m\u001b[1;33m+\u001b[0m\u001b[1;36m2\u001b[0m\u001b[1;33m,\u001b[0m\u001b[1;33m:\u001b[0m\u001b[1;33m]\u001b[0m\u001b[1;33m)\u001b[0m\u001b[1;33m\u001b[0m\u001b[1;33m\u001b[0m\u001b[0m\n\u001b[1;32m---> 21\u001b[1;33m         \u001b[0mnc\u001b[0m \u001b[1;33m=\u001b[0m \u001b[0mNewtonianCurve\u001b[0m\u001b[1;33m(\u001b[0m\u001b[0mTT\u001b[0m\u001b[1;33m.\u001b[0m\u001b[0mMesh\u001b[0m\u001b[1;33m,\u001b[0m\u001b[0mSp\u001b[0m\u001b[1;33m,\u001b[0m\u001b[0mCp\u001b[0m\u001b[1;33m,\u001b[0m\u001b[0mNp\u001b[0m\u001b[1;33m,\u001b[0m\u001b[0mTT\u001b[0m\u001b[1;33m.\u001b[0m\u001b[0mOptInfo\u001b[0m\u001b[1;33m[\u001b[0m\u001b[1;34m'VehicleInfo'\u001b[0m\u001b[1;33m]\u001b[0m\u001b[1;33m[\u001b[0m\u001b[1;34m'Speed'\u001b[0m\u001b[1;33m]\u001b[0m\u001b[1;33m,\u001b[0m\u001b[0mdebugging\u001b[0m\u001b[1;33m=\u001b[0m\u001b[1;36m1\u001b[0m\u001b[1;33m,\u001b[0m\u001b[0mmaxiter\u001b[0m\u001b[1;33m=\u001b[0m\u001b[1;36m4\u001b[0m\u001b[1;33m)\u001b[0m\u001b[1;33m\u001b[0m\u001b[1;33m\u001b[0m\u001b[0m\n\u001b[0m\u001b[0;32m     22\u001b[0m         \u001b[0mTravelTime\u001b[0m\u001b[1;33m,\u001b[0m \u001b[0mCrossingPoint\u001b[0m \u001b[1;33m=\u001b[0m \u001b[0mnc\u001b[0m\u001b[1;33m.\u001b[0m\u001b[0mvalue\u001b[0m\u001b[1;33m(\u001b[0m\u001b[1;33m)\u001b[0m\u001b[1;33m\u001b[0m\u001b[1;33m\u001b[0m\u001b[0m\n\u001b[0;32m     23\u001b[0m \u001b[1;33m\u001b[0m\u001b[0m\n",
      "\u001b[1;32mc:\\users\\jonsmi\\onedrive - nerc\\documents\\bas_routeplanner\\sdadt-pyrouteplanner\\RoutePlanner\\Function.py\u001b[0m in \u001b[0;36m__init__\u001b[1;34m(self, Mesh, Sp, Cp, Np, s, unit_shipspeed, unit_time, debugging, maxiter, optimizer_tol, zerocurrents)\u001b[0m\n\u001b[0;32m    403\u001b[0m         \u001b[0mself\u001b[0m\u001b[1;33m.\u001b[0m\u001b[0munit_shipspeed\u001b[0m \u001b[1;33m=\u001b[0m \u001b[0munit_shipspeed\u001b[0m\u001b[1;33m\u001b[0m\u001b[1;33m\u001b[0m\u001b[0m\n\u001b[0;32m    404\u001b[0m         \u001b[0mself\u001b[0m\u001b[1;33m.\u001b[0m\u001b[0munit_time\u001b[0m      \u001b[1;33m=\u001b[0m \u001b[0munit_time\u001b[0m\u001b[1;33m\u001b[0m\u001b[1;33m\u001b[0m\u001b[0m\n\u001b[1;32m--> 405\u001b[1;33m         \u001b[0mself\u001b[0m\u001b[1;33m.\u001b[0m\u001b[0ms1\u001b[0m\u001b[1;33m,\u001b[0m\u001b[0mself\u001b[0m\u001b[1;33m.\u001b[0m\u001b[0ms2\u001b[0m              \u001b[1;33m=\u001b[0m \u001b[0mself\u001b[0m\u001b[1;33m.\u001b[0m\u001b[0m_unit_speed\u001b[0m\u001b[1;33m(\u001b[0m\u001b[0ms\u001b[0m\u001b[1;33m)\u001b[0m\u001b[1;33m\u001b[0m\u001b[1;33m\u001b[0m\u001b[0m\n\u001b[0m\u001b[0;32m    406\u001b[0m \u001b[1;33m\u001b[0m\u001b[0m\n\u001b[0;32m    407\u001b[0m         \u001b[1;31m# Information for distance metrics\u001b[0m\u001b[1;33m\u001b[0m\u001b[1;33m\u001b[0m\u001b[1;33m\u001b[0m\u001b[0m\n",
      "\u001b[1;31mTypeError\u001b[0m: cannot unpack non-iterable float object"
     ]
    }
   ],
   "source": [
    "import numpy as np\n",
    "from tqdm import tqdm\n",
    "\n",
    "Path = TT.Paths[1]\n",
    "\n",
    "\n",
    "startPoint = Path['Path']['FullPath'][0,:][None,:]\n",
    "endPoint   = Path['Path']['FullPath'][-1,:][None,:]\n",
    "\n",
    "OrgcrossingPoints = np.concatenate([startPoint,\n",
    "                                 Path['Path']['CrossingPoints'],\n",
    "                                 endPoint])\n",
    "\n",
    "Points = OrgcrossingPoints.copy()\n",
    "iter=0\n",
    "for iter in tqdm(range(50)):\n",
    "    for id in range(Points.shape[0]-2):\n",
    "        Sp  = tuple(Points[id,:])\n",
    "        Cp  = tuple(Points[id+1,:])\n",
    "        Np  = tuple(Points[id+2,:])\n",
    "        nc = NewtonianCurve(TT.Mesh,Sp,Cp,Np,TT.OptInfo['VehicleInfo']['Speed'],debugging=1,maxiter=4)\n",
    "        TravelTime, CrossingPoint = nc.value()\n",
    "\n",
    "        #Points[id+1,:] = CrossingPoint\n",
    "\n",
    "        if id == 0:\n",
    "            newPoints = CrossingPoint\n",
    "        else:\n",
    "            newPoints = np.concatenate([newPoints,CrossingPoint])\n",
    "\n",
    "    Points = np.concatenate([startPoint,newPoints,endPoint])\n"
   ]
  },
  {
   "cell_type": "code",
   "execution_count": null,
   "metadata": {},
   "outputs": [],
   "source": [
    "ax = cellGrid.plot(return_ax=True)\n",
    "\n",
    "crossingPoints = np.concatenate([Path['Path']['FullPath'][0,:][None,:],\n",
    "                                 Path['Path']['CrossingPoints'],\n",
    "                                 Path['Path']['FullPath'][-1,:][None,:]])\n",
    "\n",
    "\n",
    "ax.scatter(Path['Path']['FullPath'][:,0],Path['Path']['FullPath'][:,1],15,'b')\n",
    "ax.plot(Path['Path']['FullPath'][:,0],Path['Path']['FullPath'][:,1],'b')\n",
    "\n",
    "ax.scatter(Points[:,0],Points[:,1],15,'r')\n",
    "ax.plot(Points[:,0],Points[:,1],'r')\n",
    "\n",
    "\n",
    "ax.scatter(305.00,-33.47)\n",
    "\n",
    "# Loading Ground Truth & Comparing\n",
    "GT = pd.read_csv('../resources/TestExample_GroundTruth2_Smooth.csv')\n",
    "GT['Long'] = GT['Long']+360\n",
    "ax.plot(GT['Long'],GT['Lat'],'k')\n",
    "ax.scatter(GT['Long'],GT['Lat'],15,'k')\n",
    "\n",
    "GT = pd.read_csv('../resources/TestExample_GroundTruth2.csv')\n",
    "GT['Long'] = GT['Long']+360\n",
    "ax.plot(GT['Long'],GT['Lat'],'m')\n",
    "ax.scatter(GT['Long'],GT['Lat'],15,'m')\n",
    "\n",
    "\n",
    "\n",
    "ax.set_xlim([295,325])\n",
    "ax.set_ylim([-60,-50])"
   ]
  },
  {
   "cell_type": "code",
   "execution_count": null,
   "metadata": {},
   "outputs": [],
   "source": []
  }
 ],
 "metadata": {
  "interpreter": {
   "hash": "7de2b6b4bb82c77043d8caae972bd03214c1f786691bda45cba0f82cc6b120ac"
  },
  "kernelspec": {
   "display_name": "Python 3.9.5 64-bit ('base': conda)",
   "language": "python",
   "name": "python3"
  },
  "language_info": {
   "codemirror_mode": {
    "name": "ipython",
    "version": 3
   },
   "file_extension": ".py",
   "mimetype": "text/x-python",
   "name": "python",
   "nbconvert_exporter": "python",
   "pygments_lexer": "ipython3",
   "version": "3.9.5"
  },
  "orig_nbformat": 4
 },
 "nbformat": 4,
 "nbformat_minor": 2
}
