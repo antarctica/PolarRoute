{
 "cells": [
  {
   "cell_type": "code",
   "execution_count": 1,
   "id": "6e5bbe42-e02b-42a6-9982-e43cde708bdc",
   "metadata": {},
   "outputs": [],
   "source": [
    "import pandas as pd\n",
    "from RoutePlanner.CellGrid import CellGrid\n",
    "from matplotlib import pyplot as plt\n",
    "import xarray as xr\n",
    "import netCDF4 as nc\n",
    "import datetime\n",
    "from RoutePlanner.TemporalCellGrid import TemporalCellGrid\n",
    "import matplotlib.pyplot as plt\n",
    "from RoutePlanner.CellBox import CellBox"
   ]
  },
  {
   "cell_type": "code",
   "execution_count": 2,
   "id": "f456cd38-2ceb-4247-8c2d-dc9ac0a5f8c7",
   "metadata": {},
   "outputs": [],
   "source": [
    "def loadIce(icePointsPath, startTime, endTime):\n",
    "    icePoints = xr.open_dataset(icePointsPath)\n",
    "    ipSlice = icePoints.sel(time=slice(startTime, endTime))\n",
    "    ipSlice = ipSlice.to_dataframe()\n",
    "    \n",
    "    ipSlice = ipSlice.reset_index()\n",
    "    ipSlice = ipSlice.rename(columns={'XC':'long', 'YC':'lat', 'Depth':'depth', 'SIarea':'iceArea'})\n",
    "    ipSlice['long'] = ipSlice['long'].apply(lambda x: x if x <= 180 else x - 360)\n",
    "  \n",
    "    return ipSlice"
   ]
  },
  {
   "cell_type": "code",
   "execution_count": 3,
   "id": "3d8ea3eb-10d2-4bc9-85b6-1b17fd8f3b59",
   "metadata": {},
   "outputs": [
    {
     "name": "stdout",
     "output_type": "stream",
     "text": [
      "            long        lat        uC        vC time\n",
      "0       0.083333 -77.874969       NaN       NaN     \n",
      "1       0.250000 -77.874969       NaN       NaN     \n",
      "2       0.416667 -77.874969       NaN       NaN     \n",
      "3       0.583333 -77.874969       NaN       NaN     \n",
      "4       0.750000 -77.874969       NaN       NaN     \n",
      "...          ...        ...       ...       ...  ...\n",
      "691195 -0.750000 -24.708300  0.002377 -0.122380     \n",
      "691196 -0.583313 -24.708300  0.002553 -0.119374     \n",
      "691197 -0.416656 -24.708300  0.002715 -0.116243     \n",
      "691198 -0.250000 -24.708300  0.002877 -0.112676     \n",
      "691199 -0.083313 -24.708300  0.002877 -0.108961     \n",
      "\n",
      "[691200 rows x 5 columns]\n"
     ]
    }
   ],
   "source": [
    "sose = nc.Dataset(\"../../Data/SOSE_surface_velocity_6yearMean_2005-2010.nc\")\n",
    "\n",
    "currentPoints = pd.DataFrame({'long': sose['lon'][...].data.flatten(),\n",
    "                                'lat': sose['lat'][...].data.flatten(),\n",
    "                                'uC': sose['uC'][...].data.flatten(),\n",
    "                                'vC': sose['vC'][...].data.flatten()})\n",
    "\n",
    "currentPoints['time'] = ''\n",
    "currentPoints['uC'] = currentPoints['uC'] * 3.6\n",
    "currentPoints['vC'] = currentPoints['vC'] * 3.6\n",
    "currentPoints['long'] = currentPoints['long'].apply(lambda x: x if x <= 180 else x - 360)\n",
    "\n",
    "print(currentPoints)"
   ]
  },
  {
   "cell_type": "code",
   "execution_count": 4,
   "id": "a6251807-fec1-433a-9011-b56c1f75ed7e",
   "metadata": {},
   "outputs": [
    {
     "name": "stdout",
     "output_type": "stream",
     "text": [
      "               long        lat        time  iceArea\n",
      "155      -63.639404 -59.998535  19-02-2017      0.5\n",
      "177      -63.446045 -59.998535  19-02-2017      0.5\n",
      "178      -63.437256 -59.998535  19-02-2017      0.5\n",
      "180      -63.419678 -59.998535  19-02-2017      0.5\n",
      "181      -63.410889 -59.998535  19-02-2017      0.6\n",
      "...             ...        ...         ...      ...\n",
      "14243203 -10.043701 -79.993652  19-02-2017      0.5\n",
      "14243204 -10.034912 -79.993652  19-02-2017      0.5\n",
      "14243205 -10.026123 -79.993652  19-02-2017      0.5\n",
      "14243206 -10.017334 -79.993652  19-02-2017      0.5\n",
      "14243207 -10.008545 -79.993652  19-02-2017      0.4\n",
      "\n",
      "[8449828 rows x 4 columns]\n"
     ]
    }
   ],
   "source": [
    "modis_ips = pd.read_csv('../../Data/Modis_1km.csv')\n",
    "modis_ips = modis_ips.rename(columns ={'0':'long', '1':'lat', '2':'time', '3':'iceArea', '4':'cloud'})\n",
    "modis_ips['iceArea'] = modis_ips['iceArea'] * 0.1\n",
    "\n",
    "modis_ips = modis_ips[modis_ips.cloud != 1]\n",
    "\n",
    "modis_ips = modis_ips.drop(columns = ['Unnamed: 0', 'cloud'])\n",
    "print(modis_ips)"
   ]
  },
  {
   "cell_type": "code",
   "execution_count": 5,
   "id": "2e3d6f20-7f87-4629-9678-866cc3e66ad3",
   "metadata": {},
   "outputs": [
    {
     "name": "stdout",
     "output_type": "stream",
     "text": [
      "              time      long        lat        depth\n",
      "0       2017-02-19  0.083333 -77.982651     0.000000\n",
      "1       2017-02-19  0.083333 -77.947899     0.000000\n",
      "2       2017-02-19  0.083333 -77.913048     0.000000\n",
      "3       2017-02-19  0.083333 -77.878098     0.000000\n",
      "4       2017-02-19  0.083333 -77.843056     0.000000\n",
      "...            ...       ...        ...          ...\n",
      "1270075 2017-02-19 -0.083313 -30.305382  4520.000000\n",
      "1270076 2017-02-19 -0.083313 -30.161386  4287.402832\n",
      "1270077 2017-02-19 -0.083313 -30.017181  4520.000000\n",
      "1270078 2017-02-19 -0.083313 -29.870987  4798.514648\n",
      "1270079 2017-02-19 -0.083313 -29.715317  4736.891602\n",
      "\n",
      "[1270080 rows x 4 columns]\n"
     ]
    }
   ],
   "source": [
    "icePointsPath = \"../../Data/bsose_i122_2013to2017_1day_SeaIceArea.nc\"\n",
    "\n",
    "startTime = '2017-02-19'\n",
    "endTime = '2017-02-19'\n",
    "\n",
    "bsose = loadIce(icePointsPath, startTime, endTime)\n",
    "bsose = bsose.drop(columns = ['iter', 'rA', 'iceArea'])\n",
    "print(bsose)"
   ]
  },
  {
   "cell_type": "code",
   "execution_count": 6,
   "id": "636c54bb-c5da-4cdb-ad3c-415e6dcc9f64",
   "metadata": {},
   "outputs": [
    {
     "ename": "AttributeError",
     "evalue": "'CellGrid' object has no attribute 'addDataPoints'",
     "output_type": "error",
     "traceback": [
      "\u001b[0;31m---------------------------------------------------------------------------\u001b[0m",
      "\u001b[0;31mAttributeError\u001b[0m                            Traceback (most recent call last)",
      "\u001b[1;32m/Users/jsmith/Documents/Research/Researcher_BAS/RoutePlanning/SDADT-pyRoutePlanner/Examples/Modis/Modis_Testing.ipynb Cell 6'\u001b[0m in \u001b[0;36m<module>\u001b[0;34m\u001b[0m\n\u001b[1;32m     <a href='vscode-notebook-cell:/Users/jsmith/Documents/Research/Researcher_BAS/RoutePlanning/SDADT-pyRoutePlanner/Examples/Modis/Modis_Testing.ipynb#ch0000005?line=9'>10</a>\u001b[0m modis_grid\u001b[39m.\u001b[39maddIcePoints(modis_ips)\n\u001b[1;32m     <a href='vscode-notebook-cell:/Users/jsmith/Documents/Research/Researcher_BAS/RoutePlanning/SDADT-pyRoutePlanner/Examples/Modis/Modis_Testing.ipynb#ch0000005?line=10'>11</a>\u001b[0m modis_grid\u001b[39m.\u001b[39maddCurrentPoints(currentPoints)\n\u001b[0;32m---> <a href='vscode-notebook-cell:/Users/jsmith/Documents/Research/Researcher_BAS/RoutePlanning/SDADT-pyRoutePlanner/Examples/Modis/Modis_Testing.ipynb#ch0000005?line=11'>12</a>\u001b[0m modis_grid\u001b[39m.\u001b[39;49maddDataPoints(bsose)\n",
      "\u001b[0;31mAttributeError\u001b[0m: 'CellGrid' object has no attribute 'addDataPoints'"
     ]
    }
   ],
   "source": [
    "latMin = -80\n",
    "latMax = -60\n",
    "longMin = -65\n",
    "longMax = -10\n",
    "\n",
    "cellWidth = 5\n",
    "cellHeight = 2.5\n",
    "\n",
    "modis_grid = CellGrid(longMin, longMax, latMin, latMax, cellWidth, cellHeight)\n",
    "modis_grid.addIcePoints(modis_ips)\n",
    "modis_grid.addCurrentPoints(currentPoints)\n",
    "modis_grid.addDataPoints(bsose)"
   ]
  },
  {
   "cell_type": "code",
   "execution_count": null,
   "id": "52a23184-29de-4212-a493-84551c2a3c4e",
   "metadata": {},
   "outputs": [],
   "source": [
    "modis_grid.plot()"
   ]
  },
  {
   "cell_type": "code",
   "execution_count": null,
   "id": "186f9f14-33f8-4a31-adbc-8502ffe5de53",
   "metadata": {},
   "outputs": [],
   "source": [
    "splittingPercentage = 0.35 # thershold\n",
    "splitMinProp = 0.3 # lowerbound\n",
    "splitMaxProp = 1.0 # upperbound\n",
    "\n",
    "modis_grid.iterativeSplit(4, splittingPercentage, splitMinProp, splitMaxProp)\n",
    "modis_grid.plot()"
   ]
  },
  {
   "cell_type": "code",
   "execution_count": null,
   "id": "d0e742be-381c-4192-8a75-1a79819bbffd",
   "metadata": {},
   "outputs": [],
   "source": [
    "latMin = -77.5\n",
    "latMax = -70\n",
    "longMin = -65\n",
    "longMax = -50\n",
    "\n",
    "cellWidth = 5\n",
    "cellHeight = 2.5\n",
    "\n",
    "modis_grid = CellGrid(longMin, longMax, latMin, latMax, cellWidth, cellHeight)\n",
    "modis_grid.addIcePoints(modis_ips)\n",
    "modis_grid.addCurrentPoints(currentPoints)\n",
    "modis_grid.addDataPoints(bsose)"
   ]
  },
  {
   "cell_type": "code",
   "execution_count": null,
   "id": "9c5dc57a-46ec-4136-b200-a93babd804b4",
   "metadata": {},
   "outputs": [],
   "source": [
    "splittingPercentage = 0.35 # thershold\n",
    "splitMinProp = 0.3 # lowerbound\n",
    "splitMaxProp = 1.0 # upperbound\n",
    "\n",
    "#modis_grid.iterativeSplit(4, splittingPercentage, splitMinProp, splitMaxProp)\n",
    "modis_grid.plot()"
   ]
  },
  {
   "cell_type": "code",
   "execution_count": null,
   "id": "3b280ade-483e-4b5d-8115-97c2ff636b46",
   "metadata": {},
   "outputs": [],
   "source": [
    "modis_grid.iterativeSplit(6, splittingPercentage, splitMinProp, splitMaxProp)\n",
    "modis_grid.plot()"
   ]
  },
  {
   "cell_type": "code",
   "execution_count": null,
   "id": "68889ca7-31eb-4bc8-b3f5-f4da3aa60517",
   "metadata": {},
   "outputs": [],
   "source": [
    "latMin = -77.5\n",
    "latMax = -70\n",
    "longMin = -40\n",
    "longMax = -15\n",
    "\n",
    "cellWidth = 5\n",
    "cellHeight = 2.5\n",
    "\n",
    "modis_grid = CellGrid(longMin, longMax, latMin, latMax, cellWidth, cellHeight)\n",
    "modis_grid.addIcePoints(modis_ips)\n",
    "modis_grid.addCurrentPoints(currentPoints)\n",
    "modis_grid.addDataPoints(bsose)"
   ]
  },
  {
   "cell_type": "code",
   "execution_count": null,
   "id": "54838e7a-3fc8-4ad1-a3bf-209f02f533e7",
   "metadata": {},
   "outputs": [],
   "source": [
    "modis_grid.plot()"
   ]
  },
  {
   "cell_type": "code",
   "execution_count": null,
   "id": "ede514d3-5dfb-40b2-acf1-fb20cb766e6e",
   "metadata": {},
   "outputs": [],
   "source": [
    "modis_grid.iterativeSplit(6, splittingPercentage, splitMinProp, splitMaxProp)\n",
    "modis_grid.plot()"
   ]
  },
  {
   "cell_type": "code",
   "execution_count": null,
   "id": "0e0fe9ae",
   "metadata": {},
   "outputs": [],
   "source": [
    "OptInfo = {}\n",
    "\n",
    "# # Mesh Information\n",
    "# OptInfo['Mesh']  = {}\n",
    "# OptInfo['Mesh']['Longitude Bounds (Min,Max,Width)']      = [-130,25,5]\n",
    "# OptInfo['Mesh']['Latitude Bounds (Min,Max,Width)']       = [-80,-40,2.5]\n",
    "\n",
    "# OptInfo['Mesh']['Date Range (Min,Max,dT)']               = ['2016-01-1','2016-02-1',1.0]\n",
    "# OptInfo['Mesh']['Homogenous Params (Threshold,Min,Max)'] = [0.12,0.05,0.85] #[0.04,0.05,0.85] - Slow Vehicle, [0.12,0.05,0.85] - SDA\n",
    "# OptInfo['Mesh']['Current Data Path']                     = \"../../Data/SOSE_surface_velocity_6yearMean_2005-2010.nc\"\n",
    "# OptInfo['Mesh']['Ice Data Path']                         = \"../../Data/bsose_i122_2013to2017_1day_SeaIceArea.nc\"\n",
    "\n",
    "# Route Information\n",
    "OptInfo['Route'] = {} \n",
    "OptInfo['Route']['WayPoints']            = 'ModisWayPoints.csv'\n",
    "OptInfo['Route']['MaxIceExtent']         = 0.8\n",
    "OptInfo['Route']['Zero Currents']        = True\n",
    "OptInfo['Route']['VariableSpeed']        = False\n",
    "OptInfo['Route']['Time Unit']            = 'days'\n",
    "\n",
    "OptInfo['Route']['VehicleInfo']                = {}\n",
    "OptInfo['Route']['VehicleInfo']['Speed']       = 26.5\n",
    "OptInfo['Route']['VehicleInfo']['Unit']        = 'km/hr'\n",
    "OptInfo['Route']['VehicleInfo']['Beam']        = 24.0\n",
    "OptInfo['Route']['VehicleInfo']['HullType']    = 'slender'\n",
    "OptInfo['Route']['VehicleInfo']['ForceLimit']  = 96634.5"
   ]
  },
  {
   "cell_type": "code",
   "execution_count": null,
   "id": "9fcf4c26-ec18-4abb-9bf1-5974ed720eb3",
   "metadata": {},
   "outputs": [],
   "source": [
    "from RoutePlanner.Optimisation import TravelTime\n",
    "TT = TravelTime(modis_grid,OptInfo)\n",
    "Paths = TT.Paths(verbose=True,multiprocessing=False)"
   ]
  },
  {
   "cell_type": "code",
   "execution_count": null,
   "id": "8700f0f4",
   "metadata": {},
   "outputs": [],
   "source": [
    "modis_grid.plot(waypoints=pd.read_csv(OptInfo['Route']['WayPoints']),paths=Paths)"
   ]
  },
  {
   "cell_type": "code",
   "execution_count": null,
   "id": "0f2c0924",
   "metadata": {},
   "outputs": [],
   "source": []
  }
 ],
 "metadata": {
  "kernelspec": {
   "display_name": "Python 3 (ipykernel)",
   "language": "python",
   "name": "python3"
  },
  "language_info": {
   "codemirror_mode": {
    "name": "ipython",
    "version": 3
   },
   "file_extension": ".py",
   "mimetype": "text/x-python",
   "name": "python",
   "nbconvert_exporter": "python",
   "pygments_lexer": "ipython3",
   "version": "3.9.5"
  }
 },
 "nbformat": 4,
 "nbformat_minor": 5
}
