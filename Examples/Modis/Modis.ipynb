{
 "cells": [
  {
   "cell_type": "code",
   "execution_count": 6,
   "id": "6e5bbe42-e02b-42a6-9982-e43cde708bdc",
   "metadata": {},
   "outputs": [],
   "source": [
    "import pandas as pd\n",
    "from RoutePlanner.CellGrid import CellGrid\n",
    "from RoutePlanner.Optimisation import TravelTime\n",
    "from RoutePlanner import Plot"
   ]
  },
  {
   "cell_type": "code",
   "execution_count": null,
   "id": "2a973cb5",
   "metadata": {},
   "outputs": [],
   "source": [
    "import json\n",
    "with open('./Modis.json', 'r') as f:\n",
    "    config = json.load(f)\n",
    "\n",
    "modis_grid = CellGrid(config)"
   ]
  },
  {
   "cell_type": "code",
   "execution_count": null,
   "id": "186f9f14-33f8-4a31-adbc-8502ffe5de53",
   "metadata": {},
   "outputs": [],
   "source": [
    "map = Plot.BaseMap('RoutePlanner Modis Overlay')\n",
    "#map = Plot.MapGeotiff(map,'../../Data/Weddle_4326.tiff',resamplingFactor=10)\n",
    "map = Plot.MapMesh(modis_grid,map,threshold=0.8)\n",
    "map = Plot.MapWaypoints(pd.read_csv(config['Route_Info']['WayPoints']),map)\n",
    "map = Plot.LayerControl(map,collapsed=True)\n",
    "map"
   ]
  },
  {
   "cell_type": "code",
   "execution_count": null,
   "id": "75191d1d",
   "metadata": {},
   "outputs": [],
   "source": [
    "TT = TravelTime(modis_grid,config)\n",
    "Paths = TT.Paths(source_waypoints=['Halley'],verbose=True,multiprocessing=False)"
   ]
  },
  {
   "cell_type": "code",
   "execution_count": null,
   "id": "d0e742be-381c-4192-8a75-1a79819bbffd",
   "metadata": {},
   "outputs": [],
   "source": [
    "map = Plot.BaseMap('Route Paths from Halley')\n",
    "#map = Plot.MapGeotiff(map,'../../Data/Weddle_4326.tiff',resamplingFactor=10)\n",
    "map = Plot.MapMesh(modis_grid,map,threshold=config['Vehicle_Info']['MaxIceExtent'])\n",
    "map = Plot.MapPaths(Paths,map,PathPoints=False)\n",
    "#map = Plot.MapWaypoints(pd.read_csv(config['Route_Info']['WayPoints']),map)\n",
    "map = Plot.LayerControl(map,collapsed=True)\n",
    "map"
   ]
  },
  {
   "cell_type": "code",
   "execution_count": null,
   "id": "5055055f",
   "metadata": {},
   "outputs": [],
   "source": []
  }
 ],
 "metadata": {
  "interpreter": {
   "hash": "1b68e26068aa6a3a6cf60ea7939fbea170c47ff5a4a97e53a2a25e54e695b7b3"
  },
  "kernelspec": {
   "display_name": "Python 3.9.12 ('routePlanner')",
   "language": "python",
   "name": "python3"
  },
  "language_info": {
   "codemirror_mode": {
    "name": "ipython",
    "version": 3
   },
   "file_extension": ".py",
   "mimetype": "text/x-python",
   "name": "python",
   "nbconvert_exporter": "python",
   "pygments_lexer": "ipython3",
   "version": "3.9.12"
  }
 },
 "nbformat": 4,
 "nbformat_minor": 5
}
