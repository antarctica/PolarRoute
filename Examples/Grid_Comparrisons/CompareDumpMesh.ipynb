{
 "cells": [
  {
   "cell_type": "code",
   "execution_count": 9,
   "id": "cbe82392-2b90-4091-8029-af08691a9aed",
   "metadata": {},
   "outputs": [],
   "source": [
    "def load_mesh(path):\n",
    "    f = open(path)\n",
    "\n",
    "    dumpMesh = {}\n",
    "    accuracy = 4\n",
    "\n",
    "    for line in f:\n",
    "        parts = line.split(';')\n",
    "        \n",
    "        node = parts[0]\n",
    "        \n",
    "        lat_long = parts[1]\n",
    "        lat = round(float(lat_long.split(', ')[0].split(' ')[1]), accuracy)\n",
    "        long = round(float(lat_long.split(', ')[1]), accuracy)\n",
    "        \n",
    "        iceArea = round(float(parts[2]), accuracy)\n",
    "        \n",
    "        uC_vC_ips = parts[3]\n",
    "        uC = round(float(uC_vC_ips.split(', ')[0]), accuracy)\n",
    "        vC = round(float(uC_vC_ips.split(', ')[1]), accuracy)\n",
    "        ips =  float(uC_vC_ips.split(', ')[2])\n",
    "        \n",
    "        mesh = {'lat':lat,\n",
    "                'long':long,\n",
    "                'iceArea':iceArea,\n",
    "                'uC':uC,\n",
    "                'vC':vC,\n",
    "                'ips':ips}\n",
    "        \n",
    "        dumpMesh[node] = mesh\n",
    "    \n",
    "    f.close()\n",
    "    return dumpMesh\n"
   ]
  },
  {
   "cell_type": "code",
   "execution_count": 10,
   "id": "83eb3cca-314b-4e74-8812-2902b43b77ab",
   "metadata": {},
   "outputs": [],
   "source": [
    "def compare_graphs(java, python):\n",
    "    diff = {}\n",
    "\n",
    "    for node in java.keys():\n",
    "        if node in python.keys():\n",
    "            if java[node] == python[node]:\n",
    "                diff[node] = \"Match\"\n",
    "            else:\n",
    "                diff[node] = \"Diff\"\n",
    "        else:\n",
    "            diff[node] = \"Not Found\"\n",
    "    return diff"
   ]
  },
  {
   "cell_type": "code",
   "execution_count": 11,
   "id": "0e891813-4993-4bcb-82b4-610fe017ed71",
   "metadata": {},
   "outputs": [],
   "source": [
    "javaMesh = load_mesh(\"JavaMeshDump.csv\")\n",
    "pythonMesh = load_mesh(\"PythonMeshDump.csv\")"
   ]
  },
  {
   "cell_type": "code",
   "execution_count": 12,
   "id": "241d065a-f809-4215-99a6-5031412bcefc",
   "metadata": {},
   "outputs": [
    {
     "name": "stdout",
     "output_type": "stream",
     "text": [
      "Total Ice Points: 14745600.0\n"
     ]
    }
   ],
   "source": [
    "totalIPsJava = 0 \n",
    "for node in javaMesh:\n",
    "    totalIPsJava += javaMesh[node]['ips']\n",
    "    \n",
    "print('Total Ice Points: ' + str(totalIPsJava))"
   ]
  },
  {
   "cell_type": "code",
   "execution_count": 13,
   "id": "2b73c066-4e81-4c09-8312-59eb8e26dffb",
   "metadata": {},
   "outputs": [
    {
     "name": "stdout",
     "output_type": "stream",
     "text": [
      "Total Ice Points: 14745600.0\n"
     ]
    }
   ],
   "source": [
    "totalIPsPython = 0\n",
    "for node in pythonMesh:\n",
    "    totalIPsPython += pythonMesh[node]['ips']\n",
    "    \n",
    "print('Total Ice Points: ' + str(totalIPsPython))"
   ]
  },
  {
   "cell_type": "code",
   "execution_count": 14,
   "id": "83d3736a-70dd-4caf-9284-d9cbab8f33b8",
   "metadata": {},
   "outputs": [],
   "source": [
    "for node in javaMesh:\n",
    "    if node in pythonMesh:\n",
    "        if javaMesh[node]['ips'] != pythonMesh[node]['ips']:\n",
    "            print(\"Node : \" + str(node))\n",
    "            print(\"    Java : \" + str(javaMesh[node]))\n",
    "            print(\"    Python : \" + str(pythonMesh[node]))\n",
    "            print(\"\")"
   ]
  },
  {
   "cell_type": "code",
   "execution_count": 15,
   "id": "db7d2e80-fd07-4aff-bdc5-3ae505243d6f",
   "metadata": {},
   "outputs": [
    {
     "name": "stdout",
     "output_type": "stream",
     "text": [
      "Matches = 1784\n",
      "Differences = 0\n",
      "Not Found = 0\n"
     ]
    }
   ],
   "source": [
    "comparrison = compare_graphs(javaMesh, pythonMesh)\n",
    "\n",
    "matchCount = 0\n",
    "diffCount = 0\n",
    "notFoundCount = 0 \n",
    "\n",
    "diff = []\n",
    "\n",
    "for node in comparrison:\n",
    "    if comparrison[node] == \"Match\":\n",
    "        matchCount += 1\n",
    "    if comparrison[node] == \"Diff\":\n",
    "        diffCount += 1\n",
    "        error = {}\n",
    "        error[\"node\"] = node\n",
    "        error[\"Java\"] = javaMesh[node]\n",
    "        error[\"Python\"] = pythonMesh[node]\n",
    "        diff.append(error)\n",
    "    if comparrison[node] == \"Not Found\":\n",
    "        notFoundCount += 1\n",
    "        \n",
    "print(\"Matches = \" + str(matchCount))\n",
    "print(\"Differences = \" + str(diffCount))\n",
    "print(\"Not Found = \" + str(notFoundCount))"
   ]
  },
  {
   "cell_type": "code",
   "execution_count": 16,
   "id": "c8776c00-69cd-49ec-b847-b3ea4e5d9914",
   "metadata": {},
   "outputs": [],
   "source": [
    "for x in diff:\n",
    "    print(\"Node   : \" + str(x[\"node\"]))\n",
    "    print(\"Java   : \" + str(x[\"Java\"]))\n",
    "    print(\"Python : \" + str(x[\"Python\"]))\n",
    "    print(\"\")"
   ]
  },
  {
   "cell_type": "code",
   "execution_count": null,
   "id": "b1da04c6-76e1-4c7d-8c63-bcb4e9babe85",
   "metadata": {},
   "outputs": [],
   "source": []
  }
 ],
 "metadata": {
  "kernelspec": {
   "display_name": "Python 3 (ipykernel)",
   "language": "python",
   "name": "python3"
  },
  "language_info": {
   "codemirror_mode": {
    "name": "ipython",
    "version": 3
   },
   "file_extension": ".py",
   "mimetype": "text/x-python",
   "name": "python",
   "nbconvert_exporter": "python",
   "pygments_lexer": "ipython3",
   "version": "3.10.1"
  }
 },
 "nbformat": 4,
 "nbformat_minor": 5
}
