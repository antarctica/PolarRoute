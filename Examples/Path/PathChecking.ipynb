{
 "cells": [
  {
   "cell_type": "code",
   "execution_count": null,
   "metadata": {},
   "outputs": [],
   "source": [
    "import pandas as pd\n",
    "from RoutePlanner.Optimisation import TravelTime\n",
    "from RoutePlanner import Plot\n",
    "from RoutePlanner.TemporalCellGrid import TemporalCellGrid\n",
    "import pickle"
   ]
  },
  {
   "cell_type": "code",
   "execution_count": null,
   "metadata": {},
   "outputs": [],
   "source": [
    "OptInfo = {}\n",
    "\n",
    "# Mesh Information\n",
    "OptInfo['Mesh']  = {}\n",
    "OptInfo['Mesh']['Longitude Bounds (Min,Max,Width)']      = [-130+0.0001,30+0.0001,5]\n",
    "OptInfo['Mesh']['Latitude Bounds (Min,Max,Width)']       = [-80,-40,2.5]\n",
    "\n",
    "OptInfo['Mesh']['Date Range (Min,Max,dT)']               = ['2013-01-1','2013-01-30',1.0]\n",
    "OptInfo['Mesh']['Homogenous Params (Threshold,Min,Max)'] = [0.25,0.05,0.95]#[0.25,0.05,0.95] [0.35,0.05,0.99]#[0.04,0.05,0.85] - Slow Vehicle, [0.12,0.05,0.85] - SDA\n",
    "OptInfo['Mesh']['Current Data Path']                     = \"../../Data/SOSE_surface_velocity_6yearMean_2005-2010.nc\"\n",
    "OptInfo['Mesh']['Ice Data Path']                         = \"../../Data/bsose_i122_2013to2017_1day_SeaIceArea.nc\"\n",
    "\n",
    "# Route Information\n",
    "OptInfo['Route'] = {} \n",
    "OptInfo['Route']['WayPoints']            = '../../resources/WayPoints_org.csv'\n",
    "OptInfo['Route']['MaxIceExtent']         = 0.8\n",
    "OptInfo['Route']['Zero Currents']        = True\n",
    "OptInfo['Route']['VariableSpeed']        = False\n",
    "OptInfo['Route']['Time Unit']            = 'days'\n",
    "\n",
    "OptInfo['Route']['VehicleInfo']                = {}\n",
    "OptInfo['Route']['VehicleInfo']['Speed']       = 26.5\n",
    "OptInfo['Route']['VehicleInfo']['Unit']        = 'km/hr'\n",
    "OptInfo['Route']['VehicleInfo']['Beam']        = 24.0\n",
    "OptInfo['Route']['VehicleInfo']['HullType']    = 'slender'\n",
    "OptInfo['Route']['VehicleInfo']['ForceLimit']  = 96634.5\n"
   ]
  },
  {
   "cell_type": "code",
   "execution_count": null,
   "metadata": {},
   "outputs": [],
   "source": [
    "# # # Generating Cell Grid\n",
    "# temporalCellGrid = TemporalCellGrid(OptInfo)\n",
    "# cellGrid         = temporalCellGrid.range(OptInfo['Mesh']['Date Range (Min,Max,dT)'][0],OptInfo['Mesh']['Date Range (Min,Max,dT)'][1],j_grid=True)\n",
    "\n",
    "\n",
    "# cellGrid.cellBoxes[66].landLocked  = True\n",
    "# cellGrid.cellBoxes[69].landLocked  = True\n",
    "# cellGrid.cellBoxes[73].landLocked  = True\n",
    "# cellGrid.cellBoxes[491].landLocked = True\n",
    "# cellGrid.cellBoxes[331].landLocked = True\n",
    "# #cellGrid.cellBoxes[140].landLocked = True\n",
    "# cellGrid.cellBoxes[396].landLocked = True\n",
    "# cellGrid.cellBoxes[206].landLocked = True\n",
    "# cellGrid.cellBoxes[46].landLocked = True\n",
    "# cellGrid.cellBoxes[52].landLocked = True\n",
    "# cellGrid.cellBoxes[65].landLocked = True\n",
    "\n",
    "# cellGrid.iterativeSplit(0)\n",
    "\n",
    "\n",
    "# with open('cellGrid.p', 'wb') as f:\n",
    "#     pickle.dump(cellGrid,f)\n",
    "\n",
    "with open('cellGrid.p', 'rb') as f:\n",
    "    cellGrid = pickle.load(f)"
   ]
  },
  {
   "cell_type": "code",
   "execution_count": null,
   "metadata": {},
   "outputs": [],
   "source": [
    "#cellGrid.plot()\n",
    "map = Plot.BaseMap(logo=True,logoPos=[5,88])\n",
    "map = Plot.MapMesh(cellGrid,map)\n",
    "map = Plot.MapWaypoints(pd.read_csv(OptInfo['Route']['WayPoints']),map)\n",
    "map = Plot.LayerControl(map,collapsed=True)\n",
    "map"
   ]
  },
  {
   "cell_type": "code",
   "execution_count": null,
   "metadata": {},
   "outputs": [],
   "source": [
    "TT = TravelTime(cellGrid,OptInfo)\n",
    "RoutePaths = TT.Paths(source_waypoints=['MargueriteBay'],verbose=True,multiprocessing=False)\n",
    "#RoutePaths = TT.Paths(source_waypoints=['MargueriteBay'],end_waypoints=['OrkneyPassageEntry'],verbose=True,multiprocessing=False)"
   ]
  },
  {
   "cell_type": "code",
   "execution_count": null,
   "metadata": {},
   "outputs": [],
   "source": [
    "map = Plot.BaseMap(logo=True,logoPos=[5,88])\n",
    "map = Plot.MapMesh(cellGrid,map,threshold=OptInfo['Route']['MaxIceExtent'])\n",
    "map = Plot.MapJavaPaths('Java_Unsplit_2013_Unsmoothed.json',TT,map,color='blue',PathPoints=True)\n",
    "map = Plot.MapPaths(RoutePaths,map,PathPoints=False)\n",
    "map = Plot.MapWaypoints(pd.read_csv(OptInfo['Route']['WayPoints']),map)\n",
    "map = Plot.LayerControl(map,collapsed=True)\n",
    "map"
   ]
  },
  {
   "cell_type": "code",
   "execution_count": null,
   "metadata": {},
   "outputs": [],
   "source": [
    "#SmoothedPaths = TT.PathSmoothing(maxiter=11,return_paths=True)\n",
    "SmoothedPaths = TT.PathSmoothing(maxiter=300,return_paths=True)"
   ]
  },
  {
   "cell_type": "code",
   "execution_count": null,
   "metadata": {},
   "outputs": [],
   "source": [
    "map = Plot.BaseMap(logo=True,logoPos=[5,88])\n",
    "map = Plot.MapMesh(cellGrid,map,threshold=OptInfo['Route']['MaxIceExtent'])\n",
    "map = Plot.MapJavaPaths('Java_Unsplit_2013_Smoothed_NoIceEffect.json',TT,map,color='blue',PathPoints=True)\n",
    "map = Plot.MapPaths(SmoothedPaths,map,PathPoints=False)\n",
    "map = Plot.MapWaypoints(pd.read_csv(OptInfo['Route']['WayPoints']),map)\n",
    "map = Plot.LayerControl(map,collapsed=True)\n",
    "map"
   ]
  },
  {
   "cell_type": "code",
   "execution_count": null,
   "metadata": {},
   "outputs": [],
   "source": [
    "print(startIndex)\n",
    "print(endIndex)"
   ]
  },
  {
   "cell_type": "code",
   "execution_count": null,
   "metadata": {},
   "outputs": [],
   "source": [
    "TT.nc.CrossingDF"
   ]
  },
  {
   "cell_type": "code",
   "execution_count": null,
   "metadata": {},
   "outputs": [],
   "source": [
    "\n",
    "RoutePaths[0]['Path']['Points'] = TT.nc.CrossingDF[['cX','cY']].to_numpy()\n",
    "\n",
    "\n",
    "map = Plot.BaseMap(logo=True,logoPos=[5,88])\n",
    "map = Plot.MapMesh(cellGrid,map,threshold=OptInfo['Route']['MaxIceExtent'])\n",
    "map = Plot.MapWaypoints(pd.read_csv(OptInfo['Route']['WayPoints']),map)\n",
    "map = Plot.MapJavaPaths('Java_Unsplit_2013_Smoothed_NoIceEffect.json',TT,map,color='blue',PathPoints=True)\n",
    "map = Plot.MapPaths(RoutePaths,map,PathPoints=True)\n",
    "map = Plot.LayerControl(map,collapsed=True)\n",
    "map"
   ]
  },
  {
   "cell_type": "code",
   "execution_count": null,
   "metadata": {},
   "outputs": [],
   "source": [
    "TT.nc.CrossingDF"
   ]
  },
  {
   "cell_type": "code",
   "execution_count": null,
   "metadata": {},
   "outputs": [],
   "source": [
    "TT.nc.CrossingDF"
   ]
  },
  {
   "cell_type": "code",
   "execution_count": null,
   "metadata": {},
   "outputs": [],
   "source": []
  }
 ],
 "metadata": {
  "interpreter": {
   "hash": "7de2b6b4bb82c77043d8caae972bd03214c1f786691bda45cba0f82cc6b120ac"
  },
  "kernelspec": {
   "display_name": "Python 3.9.5 64-bit ('base': conda)",
   "language": "python",
   "name": "python3"
  },
  "language_info": {
   "codemirror_mode": {
    "name": "ipython",
    "version": 3
   },
   "file_extension": ".py",
   "mimetype": "text/x-python",
   "name": "python",
   "nbconvert_exporter": "python",
   "pygments_lexer": "ipython3",
   "version": "3.9.5"
  },
  "orig_nbformat": 4
 },
 "nbformat": 4,
 "nbformat_minor": 2
}
