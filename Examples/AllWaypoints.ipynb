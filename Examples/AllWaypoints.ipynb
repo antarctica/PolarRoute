{
 "cells": [
  {
   "cell_type": "code",
   "execution_count": 1,
   "metadata": {},
   "outputs": [],
   "source": [
    "from RoutePlanner.CellGrid import CellGrid\n",
    "from RoutePlanner.IO import LoadIcePoints, LoadCurrentPoints\n",
    "from RoutePlanner.Optimisation import TravelTime\n",
    "\n",
    "import pandas as pd\n",
    "import matplotlib.pylab as plt"
   ]
  },
  {
   "cell_type": "code",
   "execution_count": 2,
   "metadata": {},
   "outputs": [],
   "source": [
    "longMin    = 260\n",
    "longMax    = 360\n",
    "latMin     = -75\n",
    "latMax     = -47\n",
    "cellWidth  = 5\n",
    "cellHeight = 2.5\n",
    "\n",
    "startTime  = '2017-01-01'\n",
    "\n",
    "OptInfo = {}\n",
    "OptInfo['WayPoints']            = pd.read_csv('../resources/WayPoints2.csv') \n",
    "OptInfo['MaxIceExtent']         = 0.8\n",
    "OptInfo['Zero Currents']        = False\n",
    "OptInfo['VariableSpeed']        = True\n",
    "OptInfo['Time Unit']            = 'hr'\n",
    "OptInfo['VehicleInfo']          = {}\n",
    "OptInfo['VehicleInfo']['Speed'] = 26.3\n",
    "OptInfo['VehicleInfo']['Unit']  = 'km/hr'\n",
    "\n",
    "\n",
    "# If only want specific waypoints\n",
    "OptInfo['Start Waypoints']      = ['Palmer']"
   ]
  },
  {
   "cell_type": "code",
   "execution_count": 4,
   "metadata": {},
   "outputs": [
    {
     "name": "stdout",
     "output_type": "stream",
     "text": [
      "- Processing 2017-01-01 00:00:00 to 2017-01-08 00:00:00\n",
      "- Processing 2017-01-08 00:00:00 to 2017-01-15 00:00:00\n",
      "- Processing 2017-01-15 00:00:00 to 2017-01-22 00:00:00\n",
      "- Processing 2017-01-22 00:00:00 to 2017-01-29 00:00:00\n",
      "- Processing 2017-01-29 00:00:00 to 2017-02-05 00:00:00\n",
      "- Processing 2017-02-05 00:00:00 to 2017-02-12 00:00:00\n",
      "- Processing 2017-02-12 00:00:00 to 2017-02-19 00:00:00\n",
      "- Processing 2017-02-19 00:00:00 to 2017-02-26 00:00:00\n",
      "- Processing 2017-02-26 00:00:00 to 2017-03-05 00:00:00\n",
      "- Processing 2017-03-05 00:00:00 to 2017-03-12 00:00:00\n",
      "- Processing 2017-03-12 00:00:00 to 2017-03-19 00:00:00\n",
      "- Processing 2017-03-19 00:00:00 to 2017-03-26 00:00:00\n",
      "- Processing 2017-03-26 00:00:00 to 2017-04-02 00:00:00\n",
      "- Processing 2017-04-02 00:00:00 to 2017-04-09 00:00:00\n",
      "- Processing 2017-04-09 00:00:00 to 2017-04-16 00:00:00\n",
      "- Processing 2017-04-16 00:00:00 to 2017-04-23 00:00:00\n"
     ]
    }
   ],
   "source": [
    "for ii in range(53):\n",
    "    st  = pd.to_datetime(startTime) + pd.Timedelta(days=7*ii)\n",
    "    end = pd.to_datetime(startTime) + pd.Timedelta(days=7*(ii+1))\n",
    "    print('- Processing {} to {}'.format(str(st),str(end)))\n",
    "    icePoints     = LoadIcePoints('../Data/bsose_i122_2013to2017_1day_SeaIceArea.nc',str(st),str(end))\n",
    "    currentPoints = LoadCurrentPoints('../Data/SOSE_surface_velocity_6yearMean_2005-2010.nc')\n",
    "\n",
    "    cellGrid = CellGrid(longMin, longMax, latMin, latMax, cellWidth, cellHeight)\n",
    "    cellGrid.addIcePoints(icePoints)\n",
    "    cellGrid.addCurrentPoints(currentPoints)\n",
    "    cellGrid.recursiveSplit(3)\n",
    "\n",
    "    TT = TravelTime(cellGrid,OptInfo)\n",
    "    TT.Dijkstra(verbrose=False)\n",
    "\n",
    "    ax = TT.PlotPaths(return_ax=True)\n",
    "    ax.set_title('{}/{}/{} to {}/{}/{}'.format(st.year,st.month,st.day,end.year,end.month,end.day))\n",
    "    plt.savefig('../resources/Palmer_Weekly_VariableSpeed_{}_{}_{}.png'.format(st.year,st.month,st.day))\n",
    "    plt.clf();plt.close('all')"
   ]
  },
  {
   "cell_type": "code",
   "execution_count": null,
   "metadata": {},
   "outputs": [],
   "source": []
  }
 ],
 "metadata": {
  "interpreter": {
   "hash": "7de2b6b4bb82c77043d8caae972bd03214c1f786691bda45cba0f82cc6b120ac"
  },
  "kernelspec": {
   "display_name": "Python 3.9.5 64-bit ('base': conda)",
   "language": "python",
   "name": "python3"
  },
  "language_info": {
   "codemirror_mode": {
    "name": "ipython",
    "version": 3
   },
   "file_extension": ".py",
   "mimetype": "text/x-python",
   "name": "python",
   "nbconvert_exporter": "python",
   "pygments_lexer": "ipython3",
   "version": "3.9.5"
  },
  "orig_nbformat": 4
 },
 "nbformat": 4,
 "nbformat_minor": 2
}
