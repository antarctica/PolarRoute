{
 "cells": [
  {
   "cell_type": "code",
   "execution_count": 1,
   "metadata": {},
   "outputs": [],
   "source": [
    "import pandas as pd\n",
    "from RoutePlanner.CellGrid import CellGrid\n",
    "\n",
    "#read in Ice  & Currents Points\n",
    "icePoints     = pd.read_json('../resources/icepoints2019-02-08.json')\n",
    "icePoints     = pd.DataFrame.from_records(icePoints.icepoints)\n",
    "currentPoints = pd.read_json('../resources/currentPoints.json')\n",
    "currentPoints = pd.DataFrame.from_records(currentPoints.currentPoints)\n",
    "\n",
    "longMin    = 260\n",
    "longMax    = 360\n",
    "latMin     = -75\n",
    "latMax     = -40\n",
    "cellWidth  = 5\n",
    "cellHeight = 2.5\n",
    "\n",
    "cellGrid = CellGrid(longMin, longMax, latMin, latMax, cellWidth, cellHeight)\n",
    "cellGrid.addIcePoints(icePoints)\n",
    "cellGrid.addCurrentPoints(currentPoints)\n",
    "\n",
    "from RoutePlanner.Optimisation import TravelTime\n",
    "OptInfo = {}\n",
    "OptInfo['WayPoints']            = pd.read_csv('../resources/WayPoints_TestExample2.csv') \n",
    "OptInfo['MaxIceExtent']         = 0.8\n",
    "OptInfo['VehicleInfo']          = {}\n",
    "OptInfo['VehicleInfo']['Speed'] = 26.3 #Units km/hr\n",
    "\n",
    "TT = TravelTime(cellGrid,OptInfo)\n",
    "TT.Dijkstra(verbrose=True)\n",
    "\n",
    "# Loading Ground Truth & Comparing\n",
    "GT = pd.read_csv('../resources/TestExample_GroundTruth2.csv')\n",
    "GT['Long'] = GT['Long']+360\n",
    "ax = TT.PlotPaths(waypoints=['Falklands'])\n",
    "ax.plot(GT['Long'],GT['Lat'],'r')"
   ]
  },
  {
   "cell_type": "code",
   "execution_count": null,
   "metadata": {},
   "outputs": [],
   "source": [
    "from RoutePlanner.Function import NewtonianCurve"
   ]
  },
  {
   "cell_type": "code",
   "execution_count": null,
   "metadata": {},
   "outputs": [],
   "source": [
    "import numpy as np\n",
    "Path = TT.Paths[1]\n",
    "\n",
    "\n",
    "startPoint = Path['Path']['FullPath'][0,:][None,:]\n",
    "endPoint   = Path['Path']['FullPath'][-1,:][None,:]\n",
    "\n",
    "OrgcrossingPoints = np.concatenate([startPoint,\n",
    "                                 Path['Path']['CrossingPoints'],\n",
    "                                 endPoint])\n",
    "\n",
    "Points = OrgcrossingPoints.copy()\n",
    "iter=0\n",
    "while iter < 100:\n",
    "    for id in range(Points.shape[0]-2):\n",
    "        Sp  = tuple(Points[id,:])\n",
    "        Cp  = tuple(Points[id+1,:])\n",
    "        Np  = tuple(Points[id+2,:])\n",
    "        nc = NewtonianCurve(TT.Mesh,Sp,Cp,Np,TT.OptInfo['VehicleInfo']['Speed'],debugging=1,maxiter=500)\n",
    "        TravelTime, CrossingPoint = nc.value()\n",
    "\n",
    "        if id == 0:\n",
    "            newPoints = CrossingPoint\n",
    "        else:\n",
    "            newPoints = np.concatenate([newPoints,CrossingPoint])\n",
    "    Points = np.concatenate([startPoint,newPoints,endPoint])\n",
    "    iter+=1\n",
    "\n"
   ]
  },
  {
   "cell_type": "code",
   "execution_count": null,
   "metadata": {},
   "outputs": [],
   "source": [
    "ax = cellGrid.plot(return_ax=True)\n",
    "\n",
    "crossingPoints = np.concatenate([Path['Path']['FullPath'][0,:][None,:],\n",
    "                                 Path['Path']['CrossingPoints'],\n",
    "                                 Path['Path']['FullPath'][-1,:][None,:]])\n",
    "\n",
    "ax.scatter(Points[:,0],Points[:,1])\n",
    "ax.plot(Points[:,0],Points[:,1])\n",
    "ax.plot(GT['Long'],GT['Lat'],'r')\n",
    "ax.set_xlim([295,325])\n",
    "ax.set_ylim([-60,-50])"
   ]
  }
 ],
 "metadata": {
  "interpreter": {
   "hash": "7de2b6b4bb82c77043d8caae972bd03214c1f786691bda45cba0f82cc6b120ac"
  },
  "kernelspec": {
   "display_name": "Python 3.9.5 64-bit ('base': conda)",
   "language": "python",
   "name": "python3"
  },
  "language_info": {
   "codemirror_mode": {
    "name": "ipython",
    "version": 3
   },
   "file_extension": ".py",
   "mimetype": "text/x-python",
   "name": "python",
   "nbconvert_exporter": "python",
   "pygments_lexer": "ipython3",
   "version": "3.9.5"
  },
  "orig_nbformat": 4
 },
 "nbformat": 4,
 "nbformat_minor": 2
}
